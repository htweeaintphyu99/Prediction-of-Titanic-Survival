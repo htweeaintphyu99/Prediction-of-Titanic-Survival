{
  "cells": [
    {
      "cell_type": "markdown",
      "metadata": {
        "id": "J6iLqKEYZQkv"
      },
      "source": [
        "# Homework Assignment 1: Titanic Survival Prediction\n",
        "\n",
        "**Submission Deadline: Two weeks from today (July 10th, 2023)**\n",
        "\n",
        "In this assignment, you will be working with the famous Titanic dataset to predict the survival of passengers based on various features. You will go through the following steps:\n",
        "\n",
        "1. **Exploratory Data Analysis (EDA):** Perform an initial analysis of the dataset to understand its structure and gain insights into the variables.\n",
        "\n",
        "2. **Data Preprocessing:** Clean the data by handling missing values and converting categorical variables to numerical form.\n",
        "\n",
        "3. **Model Implementation:** Implement the following classification models for predicting survival:\n",
        "   - Adaptive Linear Neuron (Perceptron)\n",
        "   - Logistic Regression\n",
        "   - Support Vector Machine (SVM)\n",
        "   - Decision Tree\n",
        "   - Random Forest\n",
        "\n",
        "4. **Model Evaluation:** Train and evaluate each model using appropriate evaluation metrics and compare their performance.\n",
        "\n",
        "5. **Submission:** Submit your completed Jupyter Notebook (.ipynb file) along with any necessary explanations or findings.\n",
        "\n",
        "## Instructions:\n",
        "\n",
        "1. Download the Titanic dataset from the following link: [Titanic Dataset](https://raw.githubusercontent.com/datasciencedojo/datasets/master/titanic.csv).\n",
        "\n",
        "2. Perform the EDA and data preprocessing steps mentioned above. This includes handling missing values, converting categorical variables, and any other necessary data cleaning.\n",
        "\n",
        "3. Implement the five classification models mentioned above using scikit-learn. Train each model on the preprocessed dataset and evaluate its performance using appropriate evaluation metrics (e.g., accuracy).\n",
        "\n",
        "4. Provide a brief summary of your findings for each model. Which model performed the best? Were there any challenges or limitations you encountered during the analysis?\n",
        "\n",
        "5. Submit your completed Jupyter Notebook (.ipynb file) along with any additional explanations or insights you gained from the analysis.\n",
        "\n",
        "**Grading Points:**\n",
        "\n",
        "1. Exploratory Data Analysis (EDA) - 30 points:\n",
        "   - Proper display and understanding of the dataset (5 points)\n",
        "   - Summary statistics and missing value analysis (5 points)\n",
        "   - Relevant visualizations to explore the data (10 points)\n",
        "   - Additional explanations or insights provided (5 points)\n",
        "\n",
        "2. Data Preprocessing - 15 points:\n",
        "   - Proper handling of missing values (5 points)\n",
        "   - Correct conversion of categorical variables (5 points)\n",
        "   - Removal of irrelevant columns (5 points)\n",
        "\n",
        "3. Model Implementation - 25 points:\n",
        "   - Correct implementation of the five classification models (5 points each, total 25 points)\n",
        "\n",
        "4. Model Evaluation - 25 points:\n",
        "   - Proper evaluation metrics used (e.g., accuracy) (10 points)\n",
        "   - Comparison of model performance (10 points)\n",
        "   - Detailed explanation of findings (5 points)\n",
        "\n",
        "5. Submission - 10 points:\n",
        "   - Complete and organized Jupyter Notebook (.ipynb file) submission (2 points)\n",
        "   - Additional explanations or insights provided (7 points)\n",
        "\n",
        "**Total: 100 points**\n",
        "\n",
        "**Note:**  This assignment is designed to assess your understanding of exploratory data analysis, data preprocessing, and classification modeling."
      ]
    },
    {
      "cell_type": "code",
      "execution_count": null,
      "metadata": {
        "id": "it-TJMhUlhU8"
      },
      "outputs": [],
      "source": [
        "import requests\n",
        "import pandas as pd\n",
        "import numpy as np\n",
        "import matplotlib.pyplot as plt\n",
        "import seaborn as sns"
      ]
    },
    {
      "cell_type": "code",
      "execution_count": null,
      "metadata": {
        "id": "Bo_X9bwraqTe"
      },
      "outputs": [],
      "source": [
        "# download titanic dataset online and save as titanic_data.csv\n",
        "req = requests.get('https://raw.githubusercontent.com/datasciencedojo/datasets/master/titanic.csv')\n",
        "url_content = req.content\n",
        "csv_file = open('titanic_data.csv', 'wb')\n",
        "csv_file.write(url_content)\n",
        "csv_file.close()"
      ]
    },
    {
      "cell_type": "markdown",
      "metadata": {
        "id": "_uWd-R5mzrev"
      },
      "source": [
        "# EDA & Data Preprocessing"
      ]
    },
    {
      "cell_type": "markdown",
      "metadata": {
        "id": "xQwHDmakzu5T"
      },
      "source": [
        "## Data Understanding"
      ]
    },
    {
      "cell_type": "code",
      "execution_count": null,
      "metadata": {
        "id": "4DI2YzFo0UUK"
      },
      "outputs": [],
      "source": [
        "# read csv file\n",
        "df = pd.read_csv('/content/titanic_data.csv')"
      ]
    },
    {
      "cell_type": "code",
      "execution_count": null,
      "metadata": {
        "colab": {
          "base_uri": "https://localhost:8080/",
          "height": 729
        },
        "id": "3yyiM7R8wh7r",
        "outputId": "bdc1af65-d2dc-4ef1-d898-c94e26ead0e7"
      },
      "outputs": [
        {
          "output_type": "execute_result",
          "data": {
            "text/plain": [
              "   PassengerId  Survived  Pclass  \\\n",
              "0            1         0       3   \n",
              "1            2         1       1   \n",
              "2            3         1       3   \n",
              "3            4         1       1   \n",
              "4            5         0       3   \n",
              "5            6         0       3   \n",
              "6            7         0       1   \n",
              "7            8         0       3   \n",
              "8            9         1       3   \n",
              "9           10         1       2   \n",
              "\n",
              "                                                Name     Sex   Age  SibSp  \\\n",
              "0                            Braund, Mr. Owen Harris    male  22.0      1   \n",
              "1  Cumings, Mrs. John Bradley (Florence Briggs Th...  female  38.0      1   \n",
              "2                             Heikkinen, Miss. Laina  female  26.0      0   \n",
              "3       Futrelle, Mrs. Jacques Heath (Lily May Peel)  female  35.0      1   \n",
              "4                           Allen, Mr. William Henry    male  35.0      0   \n",
              "5                                   Moran, Mr. James    male   NaN      0   \n",
              "6                            McCarthy, Mr. Timothy J    male  54.0      0   \n",
              "7                     Palsson, Master. Gosta Leonard    male   2.0      3   \n",
              "8  Johnson, Mrs. Oscar W (Elisabeth Vilhelmina Berg)  female  27.0      0   \n",
              "9                Nasser, Mrs. Nicholas (Adele Achem)  female  14.0      1   \n",
              "\n",
              "   Parch            Ticket     Fare Cabin Embarked  \n",
              "0      0         A/5 21171   7.2500   NaN        S  \n",
              "1      0          PC 17599  71.2833   C85        C  \n",
              "2      0  STON/O2. 3101282   7.9250   NaN        S  \n",
              "3      0            113803  53.1000  C123        S  \n",
              "4      0            373450   8.0500   NaN        S  \n",
              "5      0            330877   8.4583   NaN        Q  \n",
              "6      0             17463  51.8625   E46        S  \n",
              "7      1            349909  21.0750   NaN        S  \n",
              "8      2            347742  11.1333   NaN        S  \n",
              "9      0            237736  30.0708   NaN        C  "
            ],
            "text/html": [
              "\n",
              "  <div id=\"df-4e72ac9d-1f5e-48da-9817-f6a10276e9c3\">\n",
              "    <div class=\"colab-df-container\">\n",
              "      <div>\n",
              "<style scoped>\n",
              "    .dataframe tbody tr th:only-of-type {\n",
              "        vertical-align: middle;\n",
              "    }\n",
              "\n",
              "    .dataframe tbody tr th {\n",
              "        vertical-align: top;\n",
              "    }\n",
              "\n",
              "    .dataframe thead th {\n",
              "        text-align: right;\n",
              "    }\n",
              "</style>\n",
              "<table border=\"1\" class=\"dataframe\">\n",
              "  <thead>\n",
              "    <tr style=\"text-align: right;\">\n",
              "      <th></th>\n",
              "      <th>PassengerId</th>\n",
              "      <th>Survived</th>\n",
              "      <th>Pclass</th>\n",
              "      <th>Name</th>\n",
              "      <th>Sex</th>\n",
              "      <th>Age</th>\n",
              "      <th>SibSp</th>\n",
              "      <th>Parch</th>\n",
              "      <th>Ticket</th>\n",
              "      <th>Fare</th>\n",
              "      <th>Cabin</th>\n",
              "      <th>Embarked</th>\n",
              "    </tr>\n",
              "  </thead>\n",
              "  <tbody>\n",
              "    <tr>\n",
              "      <th>0</th>\n",
              "      <td>1</td>\n",
              "      <td>0</td>\n",
              "      <td>3</td>\n",
              "      <td>Braund, Mr. Owen Harris</td>\n",
              "      <td>male</td>\n",
              "      <td>22.0</td>\n",
              "      <td>1</td>\n",
              "      <td>0</td>\n",
              "      <td>A/5 21171</td>\n",
              "      <td>7.2500</td>\n",
              "      <td>NaN</td>\n",
              "      <td>S</td>\n",
              "    </tr>\n",
              "    <tr>\n",
              "      <th>1</th>\n",
              "      <td>2</td>\n",
              "      <td>1</td>\n",
              "      <td>1</td>\n",
              "      <td>Cumings, Mrs. John Bradley (Florence Briggs Th...</td>\n",
              "      <td>female</td>\n",
              "      <td>38.0</td>\n",
              "      <td>1</td>\n",
              "      <td>0</td>\n",
              "      <td>PC 17599</td>\n",
              "      <td>71.2833</td>\n",
              "      <td>C85</td>\n",
              "      <td>C</td>\n",
              "    </tr>\n",
              "    <tr>\n",
              "      <th>2</th>\n",
              "      <td>3</td>\n",
              "      <td>1</td>\n",
              "      <td>3</td>\n",
              "      <td>Heikkinen, Miss. Laina</td>\n",
              "      <td>female</td>\n",
              "      <td>26.0</td>\n",
              "      <td>0</td>\n",
              "      <td>0</td>\n",
              "      <td>STON/O2. 3101282</td>\n",
              "      <td>7.9250</td>\n",
              "      <td>NaN</td>\n",
              "      <td>S</td>\n",
              "    </tr>\n",
              "    <tr>\n",
              "      <th>3</th>\n",
              "      <td>4</td>\n",
              "      <td>1</td>\n",
              "      <td>1</td>\n",
              "      <td>Futrelle, Mrs. Jacques Heath (Lily May Peel)</td>\n",
              "      <td>female</td>\n",
              "      <td>35.0</td>\n",
              "      <td>1</td>\n",
              "      <td>0</td>\n",
              "      <td>113803</td>\n",
              "      <td>53.1000</td>\n",
              "      <td>C123</td>\n",
              "      <td>S</td>\n",
              "    </tr>\n",
              "    <tr>\n",
              "      <th>4</th>\n",
              "      <td>5</td>\n",
              "      <td>0</td>\n",
              "      <td>3</td>\n",
              "      <td>Allen, Mr. William Henry</td>\n",
              "      <td>male</td>\n",
              "      <td>35.0</td>\n",
              "      <td>0</td>\n",
              "      <td>0</td>\n",
              "      <td>373450</td>\n",
              "      <td>8.0500</td>\n",
              "      <td>NaN</td>\n",
              "      <td>S</td>\n",
              "    </tr>\n",
              "    <tr>\n",
              "      <th>5</th>\n",
              "      <td>6</td>\n",
              "      <td>0</td>\n",
              "      <td>3</td>\n",
              "      <td>Moran, Mr. James</td>\n",
              "      <td>male</td>\n",
              "      <td>NaN</td>\n",
              "      <td>0</td>\n",
              "      <td>0</td>\n",
              "      <td>330877</td>\n",
              "      <td>8.4583</td>\n",
              "      <td>NaN</td>\n",
              "      <td>Q</td>\n",
              "    </tr>\n",
              "    <tr>\n",
              "      <th>6</th>\n",
              "      <td>7</td>\n",
              "      <td>0</td>\n",
              "      <td>1</td>\n",
              "      <td>McCarthy, Mr. Timothy J</td>\n",
              "      <td>male</td>\n",
              "      <td>54.0</td>\n",
              "      <td>0</td>\n",
              "      <td>0</td>\n",
              "      <td>17463</td>\n",
              "      <td>51.8625</td>\n",
              "      <td>E46</td>\n",
              "      <td>S</td>\n",
              "    </tr>\n",
              "    <tr>\n",
              "      <th>7</th>\n",
              "      <td>8</td>\n",
              "      <td>0</td>\n",
              "      <td>3</td>\n",
              "      <td>Palsson, Master. Gosta Leonard</td>\n",
              "      <td>male</td>\n",
              "      <td>2.0</td>\n",
              "      <td>3</td>\n",
              "      <td>1</td>\n",
              "      <td>349909</td>\n",
              "      <td>21.0750</td>\n",
              "      <td>NaN</td>\n",
              "      <td>S</td>\n",
              "    </tr>\n",
              "    <tr>\n",
              "      <th>8</th>\n",
              "      <td>9</td>\n",
              "      <td>1</td>\n",
              "      <td>3</td>\n",
              "      <td>Johnson, Mrs. Oscar W (Elisabeth Vilhelmina Berg)</td>\n",
              "      <td>female</td>\n",
              "      <td>27.0</td>\n",
              "      <td>0</td>\n",
              "      <td>2</td>\n",
              "      <td>347742</td>\n",
              "      <td>11.1333</td>\n",
              "      <td>NaN</td>\n",
              "      <td>S</td>\n",
              "    </tr>\n",
              "    <tr>\n",
              "      <th>9</th>\n",
              "      <td>10</td>\n",
              "      <td>1</td>\n",
              "      <td>2</td>\n",
              "      <td>Nasser, Mrs. Nicholas (Adele Achem)</td>\n",
              "      <td>female</td>\n",
              "      <td>14.0</td>\n",
              "      <td>1</td>\n",
              "      <td>0</td>\n",
              "      <td>237736</td>\n",
              "      <td>30.0708</td>\n",
              "      <td>NaN</td>\n",
              "      <td>C</td>\n",
              "    </tr>\n",
              "  </tbody>\n",
              "</table>\n",
              "</div>\n",
              "      <button class=\"colab-df-convert\" onclick=\"convertToInteractive('df-4e72ac9d-1f5e-48da-9817-f6a10276e9c3')\"\n",
              "              title=\"Convert this dataframe to an interactive table.\"\n",
              "              style=\"display:none;\">\n",
              "        \n",
              "  <svg xmlns=\"http://www.w3.org/2000/svg\" height=\"24px\"viewBox=\"0 0 24 24\"\n",
              "       width=\"24px\">\n",
              "    <path d=\"M0 0h24v24H0V0z\" fill=\"none\"/>\n",
              "    <path d=\"M18.56 5.44l.94 2.06.94-2.06 2.06-.94-2.06-.94-.94-2.06-.94 2.06-2.06.94zm-11 1L8.5 8.5l.94-2.06 2.06-.94-2.06-.94L8.5 2.5l-.94 2.06-2.06.94zm10 10l.94 2.06.94-2.06 2.06-.94-2.06-.94-.94-2.06-.94 2.06-2.06.94z\"/><path d=\"M17.41 7.96l-1.37-1.37c-.4-.4-.92-.59-1.43-.59-.52 0-1.04.2-1.43.59L10.3 9.45l-7.72 7.72c-.78.78-.78 2.05 0 2.83L4 21.41c.39.39.9.59 1.41.59.51 0 1.02-.2 1.41-.59l7.78-7.78 2.81-2.81c.8-.78.8-2.07 0-2.86zM5.41 20L4 18.59l7.72-7.72 1.47 1.35L5.41 20z\"/>\n",
              "  </svg>\n",
              "      </button>\n",
              "      \n",
              "  <style>\n",
              "    .colab-df-container {\n",
              "      display:flex;\n",
              "      flex-wrap:wrap;\n",
              "      gap: 12px;\n",
              "    }\n",
              "\n",
              "    .colab-df-convert {\n",
              "      background-color: #E8F0FE;\n",
              "      border: none;\n",
              "      border-radius: 50%;\n",
              "      cursor: pointer;\n",
              "      display: none;\n",
              "      fill: #1967D2;\n",
              "      height: 32px;\n",
              "      padding: 0 0 0 0;\n",
              "      width: 32px;\n",
              "    }\n",
              "\n",
              "    .colab-df-convert:hover {\n",
              "      background-color: #E2EBFA;\n",
              "      box-shadow: 0px 1px 2px rgba(60, 64, 67, 0.3), 0px 1px 3px 1px rgba(60, 64, 67, 0.15);\n",
              "      fill: #174EA6;\n",
              "    }\n",
              "\n",
              "    [theme=dark] .colab-df-convert {\n",
              "      background-color: #3B4455;\n",
              "      fill: #D2E3FC;\n",
              "    }\n",
              "\n",
              "    [theme=dark] .colab-df-convert:hover {\n",
              "      background-color: #434B5C;\n",
              "      box-shadow: 0px 1px 3px 1px rgba(0, 0, 0, 0.15);\n",
              "      filter: drop-shadow(0px 1px 2px rgba(0, 0, 0, 0.3));\n",
              "      fill: #FFFFFF;\n",
              "    }\n",
              "  </style>\n",
              "\n",
              "      <script>\n",
              "        const buttonEl =\n",
              "          document.querySelector('#df-4e72ac9d-1f5e-48da-9817-f6a10276e9c3 button.colab-df-convert');\n",
              "        buttonEl.style.display =\n",
              "          google.colab.kernel.accessAllowed ? 'block' : 'none';\n",
              "\n",
              "        async function convertToInteractive(key) {\n",
              "          const element = document.querySelector('#df-4e72ac9d-1f5e-48da-9817-f6a10276e9c3');\n",
              "          const dataTable =\n",
              "            await google.colab.kernel.invokeFunction('convertToInteractive',\n",
              "                                                     [key], {});\n",
              "          if (!dataTable) return;\n",
              "\n",
              "          const docLinkHtml = 'Like what you see? Visit the ' +\n",
              "            '<a target=\"_blank\" href=https://colab.research.google.com/notebooks/data_table.ipynb>data table notebook</a>'\n",
              "            + ' to learn more about interactive tables.';\n",
              "          element.innerHTML = '';\n",
              "          dataTable['output_type'] = 'display_data';\n",
              "          await google.colab.output.renderOutput(dataTable, element);\n",
              "          const docLink = document.createElement('div');\n",
              "          docLink.innerHTML = docLinkHtml;\n",
              "          element.appendChild(docLink);\n",
              "        }\n",
              "      </script>\n",
              "    </div>\n",
              "  </div>\n",
              "  "
            ]
          },
          "metadata": {},
          "execution_count": 4
        }
      ],
      "source": [
        "df.head(10)"
      ]
    },
    {
      "cell_type": "code",
      "execution_count": null,
      "metadata": {
        "colab": {
          "base_uri": "https://localhost:8080/",
          "height": 835
        },
        "id": "j2nIFWSIv5Um",
        "outputId": "3c2e8903-5943-4ccc-f6de-0c8d401b2885"
      },
      "outputs": [
        {
          "output_type": "execute_result",
          "data": {
            "text/plain": [
              "     PassengerId  Survived  Pclass                                      Name  \\\n",
              "881          882         0       3                        Markun, Mr. Johann   \n",
              "882          883         0       3              Dahlberg, Miss. Gerda Ulrika   \n",
              "883          884         0       2             Banfield, Mr. Frederick James   \n",
              "884          885         0       3                    Sutehall, Mr. Henry Jr   \n",
              "885          886         0       3      Rice, Mrs. William (Margaret Norton)   \n",
              "886          887         0       2                     Montvila, Rev. Juozas   \n",
              "887          888         1       1              Graham, Miss. Margaret Edith   \n",
              "888          889         0       3  Johnston, Miss. Catherine Helen \"Carrie\"   \n",
              "889          890         1       1                     Behr, Mr. Karl Howell   \n",
              "890          891         0       3                       Dooley, Mr. Patrick   \n",
              "\n",
              "        Sex   Age  SibSp  Parch            Ticket     Fare Cabin Embarked  \n",
              "881    male  33.0      0      0            349257   7.8958   NaN        S  \n",
              "882  female  22.0      0      0              7552  10.5167   NaN        S  \n",
              "883    male  28.0      0      0  C.A./SOTON 34068  10.5000   NaN        S  \n",
              "884    male  25.0      0      0   SOTON/OQ 392076   7.0500   NaN        S  \n",
              "885  female  39.0      0      5            382652  29.1250   NaN        Q  \n",
              "886    male  27.0      0      0            211536  13.0000   NaN        S  \n",
              "887  female  19.0      0      0            112053  30.0000   B42        S  \n",
              "888  female   NaN      1      2        W./C. 6607  23.4500   NaN        S  \n",
              "889    male  26.0      0      0            111369  30.0000  C148        C  \n",
              "890    male  32.0      0      0            370376   7.7500   NaN        Q  "
            ],
            "text/html": [
              "\n",
              "  <div id=\"df-cba4e08b-63b6-4097-ad4a-09cdaaf50746\">\n",
              "    <div class=\"colab-df-container\">\n",
              "      <div>\n",
              "<style scoped>\n",
              "    .dataframe tbody tr th:only-of-type {\n",
              "        vertical-align: middle;\n",
              "    }\n",
              "\n",
              "    .dataframe tbody tr th {\n",
              "        vertical-align: top;\n",
              "    }\n",
              "\n",
              "    .dataframe thead th {\n",
              "        text-align: right;\n",
              "    }\n",
              "</style>\n",
              "<table border=\"1\" class=\"dataframe\">\n",
              "  <thead>\n",
              "    <tr style=\"text-align: right;\">\n",
              "      <th></th>\n",
              "      <th>PassengerId</th>\n",
              "      <th>Survived</th>\n",
              "      <th>Pclass</th>\n",
              "      <th>Name</th>\n",
              "      <th>Sex</th>\n",
              "      <th>Age</th>\n",
              "      <th>SibSp</th>\n",
              "      <th>Parch</th>\n",
              "      <th>Ticket</th>\n",
              "      <th>Fare</th>\n",
              "      <th>Cabin</th>\n",
              "      <th>Embarked</th>\n",
              "    </tr>\n",
              "  </thead>\n",
              "  <tbody>\n",
              "    <tr>\n",
              "      <th>881</th>\n",
              "      <td>882</td>\n",
              "      <td>0</td>\n",
              "      <td>3</td>\n",
              "      <td>Markun, Mr. Johann</td>\n",
              "      <td>male</td>\n",
              "      <td>33.0</td>\n",
              "      <td>0</td>\n",
              "      <td>0</td>\n",
              "      <td>349257</td>\n",
              "      <td>7.8958</td>\n",
              "      <td>NaN</td>\n",
              "      <td>S</td>\n",
              "    </tr>\n",
              "    <tr>\n",
              "      <th>882</th>\n",
              "      <td>883</td>\n",
              "      <td>0</td>\n",
              "      <td>3</td>\n",
              "      <td>Dahlberg, Miss. Gerda Ulrika</td>\n",
              "      <td>female</td>\n",
              "      <td>22.0</td>\n",
              "      <td>0</td>\n",
              "      <td>0</td>\n",
              "      <td>7552</td>\n",
              "      <td>10.5167</td>\n",
              "      <td>NaN</td>\n",
              "      <td>S</td>\n",
              "    </tr>\n",
              "    <tr>\n",
              "      <th>883</th>\n",
              "      <td>884</td>\n",
              "      <td>0</td>\n",
              "      <td>2</td>\n",
              "      <td>Banfield, Mr. Frederick James</td>\n",
              "      <td>male</td>\n",
              "      <td>28.0</td>\n",
              "      <td>0</td>\n",
              "      <td>0</td>\n",
              "      <td>C.A./SOTON 34068</td>\n",
              "      <td>10.5000</td>\n",
              "      <td>NaN</td>\n",
              "      <td>S</td>\n",
              "    </tr>\n",
              "    <tr>\n",
              "      <th>884</th>\n",
              "      <td>885</td>\n",
              "      <td>0</td>\n",
              "      <td>3</td>\n",
              "      <td>Sutehall, Mr. Henry Jr</td>\n",
              "      <td>male</td>\n",
              "      <td>25.0</td>\n",
              "      <td>0</td>\n",
              "      <td>0</td>\n",
              "      <td>SOTON/OQ 392076</td>\n",
              "      <td>7.0500</td>\n",
              "      <td>NaN</td>\n",
              "      <td>S</td>\n",
              "    </tr>\n",
              "    <tr>\n",
              "      <th>885</th>\n",
              "      <td>886</td>\n",
              "      <td>0</td>\n",
              "      <td>3</td>\n",
              "      <td>Rice, Mrs. William (Margaret Norton)</td>\n",
              "      <td>female</td>\n",
              "      <td>39.0</td>\n",
              "      <td>0</td>\n",
              "      <td>5</td>\n",
              "      <td>382652</td>\n",
              "      <td>29.1250</td>\n",
              "      <td>NaN</td>\n",
              "      <td>Q</td>\n",
              "    </tr>\n",
              "    <tr>\n",
              "      <th>886</th>\n",
              "      <td>887</td>\n",
              "      <td>0</td>\n",
              "      <td>2</td>\n",
              "      <td>Montvila, Rev. Juozas</td>\n",
              "      <td>male</td>\n",
              "      <td>27.0</td>\n",
              "      <td>0</td>\n",
              "      <td>0</td>\n",
              "      <td>211536</td>\n",
              "      <td>13.0000</td>\n",
              "      <td>NaN</td>\n",
              "      <td>S</td>\n",
              "    </tr>\n",
              "    <tr>\n",
              "      <th>887</th>\n",
              "      <td>888</td>\n",
              "      <td>1</td>\n",
              "      <td>1</td>\n",
              "      <td>Graham, Miss. Margaret Edith</td>\n",
              "      <td>female</td>\n",
              "      <td>19.0</td>\n",
              "      <td>0</td>\n",
              "      <td>0</td>\n",
              "      <td>112053</td>\n",
              "      <td>30.0000</td>\n",
              "      <td>B42</td>\n",
              "      <td>S</td>\n",
              "    </tr>\n",
              "    <tr>\n",
              "      <th>888</th>\n",
              "      <td>889</td>\n",
              "      <td>0</td>\n",
              "      <td>3</td>\n",
              "      <td>Johnston, Miss. Catherine Helen \"Carrie\"</td>\n",
              "      <td>female</td>\n",
              "      <td>NaN</td>\n",
              "      <td>1</td>\n",
              "      <td>2</td>\n",
              "      <td>W./C. 6607</td>\n",
              "      <td>23.4500</td>\n",
              "      <td>NaN</td>\n",
              "      <td>S</td>\n",
              "    </tr>\n",
              "    <tr>\n",
              "      <th>889</th>\n",
              "      <td>890</td>\n",
              "      <td>1</td>\n",
              "      <td>1</td>\n",
              "      <td>Behr, Mr. Karl Howell</td>\n",
              "      <td>male</td>\n",
              "      <td>26.0</td>\n",
              "      <td>0</td>\n",
              "      <td>0</td>\n",
              "      <td>111369</td>\n",
              "      <td>30.0000</td>\n",
              "      <td>C148</td>\n",
              "      <td>C</td>\n",
              "    </tr>\n",
              "    <tr>\n",
              "      <th>890</th>\n",
              "      <td>891</td>\n",
              "      <td>0</td>\n",
              "      <td>3</td>\n",
              "      <td>Dooley, Mr. Patrick</td>\n",
              "      <td>male</td>\n",
              "      <td>32.0</td>\n",
              "      <td>0</td>\n",
              "      <td>0</td>\n",
              "      <td>370376</td>\n",
              "      <td>7.7500</td>\n",
              "      <td>NaN</td>\n",
              "      <td>Q</td>\n",
              "    </tr>\n",
              "  </tbody>\n",
              "</table>\n",
              "</div>\n",
              "      <button class=\"colab-df-convert\" onclick=\"convertToInteractive('df-cba4e08b-63b6-4097-ad4a-09cdaaf50746')\"\n",
              "              title=\"Convert this dataframe to an interactive table.\"\n",
              "              style=\"display:none;\">\n",
              "        \n",
              "  <svg xmlns=\"http://www.w3.org/2000/svg\" height=\"24px\"viewBox=\"0 0 24 24\"\n",
              "       width=\"24px\">\n",
              "    <path d=\"M0 0h24v24H0V0z\" fill=\"none\"/>\n",
              "    <path d=\"M18.56 5.44l.94 2.06.94-2.06 2.06-.94-2.06-.94-.94-2.06-.94 2.06-2.06.94zm-11 1L8.5 8.5l.94-2.06 2.06-.94-2.06-.94L8.5 2.5l-.94 2.06-2.06.94zm10 10l.94 2.06.94-2.06 2.06-.94-2.06-.94-.94-2.06-.94 2.06-2.06.94z\"/><path d=\"M17.41 7.96l-1.37-1.37c-.4-.4-.92-.59-1.43-.59-.52 0-1.04.2-1.43.59L10.3 9.45l-7.72 7.72c-.78.78-.78 2.05 0 2.83L4 21.41c.39.39.9.59 1.41.59.51 0 1.02-.2 1.41-.59l7.78-7.78 2.81-2.81c.8-.78.8-2.07 0-2.86zM5.41 20L4 18.59l7.72-7.72 1.47 1.35L5.41 20z\"/>\n",
              "  </svg>\n",
              "      </button>\n",
              "      \n",
              "  <style>\n",
              "    .colab-df-container {\n",
              "      display:flex;\n",
              "      flex-wrap:wrap;\n",
              "      gap: 12px;\n",
              "    }\n",
              "\n",
              "    .colab-df-convert {\n",
              "      background-color: #E8F0FE;\n",
              "      border: none;\n",
              "      border-radius: 50%;\n",
              "      cursor: pointer;\n",
              "      display: none;\n",
              "      fill: #1967D2;\n",
              "      height: 32px;\n",
              "      padding: 0 0 0 0;\n",
              "      width: 32px;\n",
              "    }\n",
              "\n",
              "    .colab-df-convert:hover {\n",
              "      background-color: #E2EBFA;\n",
              "      box-shadow: 0px 1px 2px rgba(60, 64, 67, 0.3), 0px 1px 3px 1px rgba(60, 64, 67, 0.15);\n",
              "      fill: #174EA6;\n",
              "    }\n",
              "\n",
              "    [theme=dark] .colab-df-convert {\n",
              "      background-color: #3B4455;\n",
              "      fill: #D2E3FC;\n",
              "    }\n",
              "\n",
              "    [theme=dark] .colab-df-convert:hover {\n",
              "      background-color: #434B5C;\n",
              "      box-shadow: 0px 1px 3px 1px rgba(0, 0, 0, 0.15);\n",
              "      filter: drop-shadow(0px 1px 2px rgba(0, 0, 0, 0.3));\n",
              "      fill: #FFFFFF;\n",
              "    }\n",
              "  </style>\n",
              "\n",
              "      <script>\n",
              "        const buttonEl =\n",
              "          document.querySelector('#df-cba4e08b-63b6-4097-ad4a-09cdaaf50746 button.colab-df-convert');\n",
              "        buttonEl.style.display =\n",
              "          google.colab.kernel.accessAllowed ? 'block' : 'none';\n",
              "\n",
              "        async function convertToInteractive(key) {\n",
              "          const element = document.querySelector('#df-cba4e08b-63b6-4097-ad4a-09cdaaf50746');\n",
              "          const dataTable =\n",
              "            await google.colab.kernel.invokeFunction('convertToInteractive',\n",
              "                                                     [key], {});\n",
              "          if (!dataTable) return;\n",
              "\n",
              "          const docLinkHtml = 'Like what you see? Visit the ' +\n",
              "            '<a target=\"_blank\" href=https://colab.research.google.com/notebooks/data_table.ipynb>data table notebook</a>'\n",
              "            + ' to learn more about interactive tables.';\n",
              "          element.innerHTML = '';\n",
              "          dataTable['output_type'] = 'display_data';\n",
              "          await google.colab.output.renderOutput(dataTable, element);\n",
              "          const docLink = document.createElement('div');\n",
              "          docLink.innerHTML = docLinkHtml;\n",
              "          element.appendChild(docLink);\n",
              "        }\n",
              "      </script>\n",
              "    </div>\n",
              "  </div>\n",
              "  "
            ]
          },
          "metadata": {},
          "execution_count": 5
        }
      ],
      "source": [
        "df.tail(10)"
      ]
    },
    {
      "cell_type": "code",
      "execution_count": null,
      "metadata": {
        "colab": {
          "base_uri": "https://localhost:8080/"
        },
        "id": "4QphvHC1z2AB",
        "outputId": "9c6095b7-289f-47ad-81b4-476e7aad1379"
      },
      "outputs": [
        {
          "output_type": "execute_result",
          "data": {
            "text/plain": [
              "(891, 12)"
            ]
          },
          "metadata": {},
          "execution_count": 6
        }
      ],
      "source": [
        "df.shape # dataset has 891 rows and 12 columns(features)"
      ]
    },
    {
      "cell_type": "code",
      "execution_count": null,
      "metadata": {
        "colab": {
          "base_uri": "https://localhost:8080/",
          "height": 323
        },
        "id": "RSvw4sOF4bvc",
        "outputId": "f5f9f359-47fb-4fd3-cc8c-a2a4ea889a72"
      },
      "outputs": [
        {
          "output_type": "execute_result",
          "data": {
            "text/plain": [
              "       PassengerId    Survived      Pclass         Age       SibSp  \\\n",
              "count   891.000000  891.000000  891.000000  714.000000  891.000000   \n",
              "mean    446.000000    0.383838    2.308642   29.699118    0.523008   \n",
              "std     257.353842    0.486592    0.836071   14.526497    1.102743   \n",
              "min       1.000000    0.000000    1.000000    0.420000    0.000000   \n",
              "25%     223.500000    0.000000    2.000000   20.125000    0.000000   \n",
              "50%     446.000000    0.000000    3.000000   28.000000    0.000000   \n",
              "75%     668.500000    1.000000    3.000000   38.000000    1.000000   \n",
              "max     891.000000    1.000000    3.000000   80.000000    8.000000   \n",
              "\n",
              "            Parch        Fare  \n",
              "count  891.000000  891.000000  \n",
              "mean     0.381594   32.204208  \n",
              "std      0.806057   49.693429  \n",
              "min      0.000000    0.000000  \n",
              "25%      0.000000    7.910400  \n",
              "50%      0.000000   14.454200  \n",
              "75%      0.000000   31.000000  \n",
              "max      6.000000  512.329200  "
            ],
            "text/html": [
              "\n",
              "  <div id=\"df-c7f0515a-4710-4df3-a6b2-4b08e606d49b\">\n",
              "    <div class=\"colab-df-container\">\n",
              "      <div>\n",
              "<style scoped>\n",
              "    .dataframe tbody tr th:only-of-type {\n",
              "        vertical-align: middle;\n",
              "    }\n",
              "\n",
              "    .dataframe tbody tr th {\n",
              "        vertical-align: top;\n",
              "    }\n",
              "\n",
              "    .dataframe thead th {\n",
              "        text-align: right;\n",
              "    }\n",
              "</style>\n",
              "<table border=\"1\" class=\"dataframe\">\n",
              "  <thead>\n",
              "    <tr style=\"text-align: right;\">\n",
              "      <th></th>\n",
              "      <th>PassengerId</th>\n",
              "      <th>Survived</th>\n",
              "      <th>Pclass</th>\n",
              "      <th>Age</th>\n",
              "      <th>SibSp</th>\n",
              "      <th>Parch</th>\n",
              "      <th>Fare</th>\n",
              "    </tr>\n",
              "  </thead>\n",
              "  <tbody>\n",
              "    <tr>\n",
              "      <th>count</th>\n",
              "      <td>891.000000</td>\n",
              "      <td>891.000000</td>\n",
              "      <td>891.000000</td>\n",
              "      <td>714.000000</td>\n",
              "      <td>891.000000</td>\n",
              "      <td>891.000000</td>\n",
              "      <td>891.000000</td>\n",
              "    </tr>\n",
              "    <tr>\n",
              "      <th>mean</th>\n",
              "      <td>446.000000</td>\n",
              "      <td>0.383838</td>\n",
              "      <td>2.308642</td>\n",
              "      <td>29.699118</td>\n",
              "      <td>0.523008</td>\n",
              "      <td>0.381594</td>\n",
              "      <td>32.204208</td>\n",
              "    </tr>\n",
              "    <tr>\n",
              "      <th>std</th>\n",
              "      <td>257.353842</td>\n",
              "      <td>0.486592</td>\n",
              "      <td>0.836071</td>\n",
              "      <td>14.526497</td>\n",
              "      <td>1.102743</td>\n",
              "      <td>0.806057</td>\n",
              "      <td>49.693429</td>\n",
              "    </tr>\n",
              "    <tr>\n",
              "      <th>min</th>\n",
              "      <td>1.000000</td>\n",
              "      <td>0.000000</td>\n",
              "      <td>1.000000</td>\n",
              "      <td>0.420000</td>\n",
              "      <td>0.000000</td>\n",
              "      <td>0.000000</td>\n",
              "      <td>0.000000</td>\n",
              "    </tr>\n",
              "    <tr>\n",
              "      <th>25%</th>\n",
              "      <td>223.500000</td>\n",
              "      <td>0.000000</td>\n",
              "      <td>2.000000</td>\n",
              "      <td>20.125000</td>\n",
              "      <td>0.000000</td>\n",
              "      <td>0.000000</td>\n",
              "      <td>7.910400</td>\n",
              "    </tr>\n",
              "    <tr>\n",
              "      <th>50%</th>\n",
              "      <td>446.000000</td>\n",
              "      <td>0.000000</td>\n",
              "      <td>3.000000</td>\n",
              "      <td>28.000000</td>\n",
              "      <td>0.000000</td>\n",
              "      <td>0.000000</td>\n",
              "      <td>14.454200</td>\n",
              "    </tr>\n",
              "    <tr>\n",
              "      <th>75%</th>\n",
              "      <td>668.500000</td>\n",
              "      <td>1.000000</td>\n",
              "      <td>3.000000</td>\n",
              "      <td>38.000000</td>\n",
              "      <td>1.000000</td>\n",
              "      <td>0.000000</td>\n",
              "      <td>31.000000</td>\n",
              "    </tr>\n",
              "    <tr>\n",
              "      <th>max</th>\n",
              "      <td>891.000000</td>\n",
              "      <td>1.000000</td>\n",
              "      <td>3.000000</td>\n",
              "      <td>80.000000</td>\n",
              "      <td>8.000000</td>\n",
              "      <td>6.000000</td>\n",
              "      <td>512.329200</td>\n",
              "    </tr>\n",
              "  </tbody>\n",
              "</table>\n",
              "</div>\n",
              "      <button class=\"colab-df-convert\" onclick=\"convertToInteractive('df-c7f0515a-4710-4df3-a6b2-4b08e606d49b')\"\n",
              "              title=\"Convert this dataframe to an interactive table.\"\n",
              "              style=\"display:none;\">\n",
              "        \n",
              "  <svg xmlns=\"http://www.w3.org/2000/svg\" height=\"24px\"viewBox=\"0 0 24 24\"\n",
              "       width=\"24px\">\n",
              "    <path d=\"M0 0h24v24H0V0z\" fill=\"none\"/>\n",
              "    <path d=\"M18.56 5.44l.94 2.06.94-2.06 2.06-.94-2.06-.94-.94-2.06-.94 2.06-2.06.94zm-11 1L8.5 8.5l.94-2.06 2.06-.94-2.06-.94L8.5 2.5l-.94 2.06-2.06.94zm10 10l.94 2.06.94-2.06 2.06-.94-2.06-.94-.94-2.06-.94 2.06-2.06.94z\"/><path d=\"M17.41 7.96l-1.37-1.37c-.4-.4-.92-.59-1.43-.59-.52 0-1.04.2-1.43.59L10.3 9.45l-7.72 7.72c-.78.78-.78 2.05 0 2.83L4 21.41c.39.39.9.59 1.41.59.51 0 1.02-.2 1.41-.59l7.78-7.78 2.81-2.81c.8-.78.8-2.07 0-2.86zM5.41 20L4 18.59l7.72-7.72 1.47 1.35L5.41 20z\"/>\n",
              "  </svg>\n",
              "      </button>\n",
              "      \n",
              "  <style>\n",
              "    .colab-df-container {\n",
              "      display:flex;\n",
              "      flex-wrap:wrap;\n",
              "      gap: 12px;\n",
              "    }\n",
              "\n",
              "    .colab-df-convert {\n",
              "      background-color: #E8F0FE;\n",
              "      border: none;\n",
              "      border-radius: 50%;\n",
              "      cursor: pointer;\n",
              "      display: none;\n",
              "      fill: #1967D2;\n",
              "      height: 32px;\n",
              "      padding: 0 0 0 0;\n",
              "      width: 32px;\n",
              "    }\n",
              "\n",
              "    .colab-df-convert:hover {\n",
              "      background-color: #E2EBFA;\n",
              "      box-shadow: 0px 1px 2px rgba(60, 64, 67, 0.3), 0px 1px 3px 1px rgba(60, 64, 67, 0.15);\n",
              "      fill: #174EA6;\n",
              "    }\n",
              "\n",
              "    [theme=dark] .colab-df-convert {\n",
              "      background-color: #3B4455;\n",
              "      fill: #D2E3FC;\n",
              "    }\n",
              "\n",
              "    [theme=dark] .colab-df-convert:hover {\n",
              "      background-color: #434B5C;\n",
              "      box-shadow: 0px 1px 3px 1px rgba(0, 0, 0, 0.15);\n",
              "      filter: drop-shadow(0px 1px 2px rgba(0, 0, 0, 0.3));\n",
              "      fill: #FFFFFF;\n",
              "    }\n",
              "  </style>\n",
              "\n",
              "      <script>\n",
              "        const buttonEl =\n",
              "          document.querySelector('#df-c7f0515a-4710-4df3-a6b2-4b08e606d49b button.colab-df-convert');\n",
              "        buttonEl.style.display =\n",
              "          google.colab.kernel.accessAllowed ? 'block' : 'none';\n",
              "\n",
              "        async function convertToInteractive(key) {\n",
              "          const element = document.querySelector('#df-c7f0515a-4710-4df3-a6b2-4b08e606d49b');\n",
              "          const dataTable =\n",
              "            await google.colab.kernel.invokeFunction('convertToInteractive',\n",
              "                                                     [key], {});\n",
              "          if (!dataTable) return;\n",
              "\n",
              "          const docLinkHtml = 'Like what you see? Visit the ' +\n",
              "            '<a target=\"_blank\" href=https://colab.research.google.com/notebooks/data_table.ipynb>data table notebook</a>'\n",
              "            + ' to learn more about interactive tables.';\n",
              "          element.innerHTML = '';\n",
              "          dataTable['output_type'] = 'display_data';\n",
              "          await google.colab.output.renderOutput(dataTable, element);\n",
              "          const docLink = document.createElement('div');\n",
              "          docLink.innerHTML = docLinkHtml;\n",
              "          element.appendChild(docLink);\n",
              "        }\n",
              "      </script>\n",
              "    </div>\n",
              "  </div>\n",
              "  "
            ]
          },
          "metadata": {},
          "execution_count": 7
        }
      ],
      "source": [
        "# Generating descriptive statistics of numerical features of the dataframe\n",
        "df.describe()"
      ]
    },
    {
      "cell_type": "markdown",
      "metadata": {
        "id": "GQAOKW2O4m-Z"
      },
      "source": [
        "Findings: Only 38% out of dataset survived the Titanic accident. As we can see, Age has only values for 714 and its min is 0.42 which is float. That has to be fixed."
      ]
    },
    {
      "cell_type": "code",
      "execution_count": null,
      "metadata": {
        "colab": {
          "base_uri": "https://localhost:8080/"
        },
        "id": "SE3EYiXX0Pmy",
        "outputId": "6e54d519-031c-4970-8577-ad22c7f52d55"
      },
      "outputs": [
        {
          "output_type": "stream",
          "name": "stdout",
          "text": [
            "<class 'pandas.core.frame.DataFrame'>\n",
            "RangeIndex: 891 entries, 0 to 890\n",
            "Data columns (total 12 columns):\n",
            " #   Column       Non-Null Count  Dtype  \n",
            "---  ------       --------------  -----  \n",
            " 0   PassengerId  891 non-null    int64  \n",
            " 1   Survived     891 non-null    int64  \n",
            " 2   Pclass       891 non-null    int64  \n",
            " 3   Name         891 non-null    object \n",
            " 4   Sex          891 non-null    object \n",
            " 5   Age          714 non-null    float64\n",
            " 6   SibSp        891 non-null    int64  \n",
            " 7   Parch        891 non-null    int64  \n",
            " 8   Ticket       891 non-null    object \n",
            " 9   Fare         891 non-null    float64\n",
            " 10  Cabin        204 non-null    object \n",
            " 11  Embarked     889 non-null    object \n",
            "dtypes: float64(2), int64(5), object(5)\n",
            "memory usage: 83.7+ KB\n"
          ]
        }
      ],
      "source": [
        "# Getting a summary of the DataFrame, including data types and missing values\n",
        "df.info()"
      ]
    },
    {
      "cell_type": "markdown",
      "metadata": {
        "id": "lFvuF4245Lhp"
      },
      "source": [
        "Findings:  \n",
        "\n",
        "*  As mentioned earlier, Age has problem with data type which is float and empty values problem for 179 rows (891-714 = 177 rows)\n",
        "*   Cabin column has empty values for 891-204 = 687 rows\n",
        "*   Embarked column has empty values for 891-889 = 2 rows\n",
        "*   Remarks: Every feature needs to be checked whether they have sensible values or not by using unique() and count methods\n",
        "\n",
        "\n",
        "\n"
      ]
    },
    {
      "cell_type": "code",
      "execution_count": null,
      "metadata": {
        "colab": {
          "base_uri": "https://localhost:8080/"
        },
        "id": "jCAg0dHU2KbI",
        "outputId": "cba43364-9d38-4650-f365-d754c80747ab"
      },
      "outputs": [
        {
          "output_type": "stream",
          "name": "stdout",
          "text": [
            "[  1   2   3   4   5   6   7   8   9  10  11  12  13  14  15  16  17  18\n",
            "  19  20  21  22  23  24  25  26  27  28  29  30  31  32  33  34  35  36\n",
            "  37  38  39  40  41  42  43  44  45  46  47  48  49  50  51  52  53  54\n",
            "  55  56  57  58  59  60  61  62  63  64  65  66  67  68  69  70  71  72\n",
            "  73  74  75  76  77  78  79  80  81  82  83  84  85  86  87  88  89  90\n",
            "  91  92  93  94  95  96  97  98  99 100 101 102 103 104 105 106 107 108\n",
            " 109 110 111 112 113 114 115 116 117 118 119 120 121 122 123 124 125 126\n",
            " 127 128 129 130 131 132 133 134 135 136 137 138 139 140 141 142 143 144\n",
            " 145 146 147 148 149 150 151 152 153 154 155 156 157 158 159 160 161 162\n",
            " 163 164 165 166 167 168 169 170 171 172 173 174 175 176 177 178 179 180\n",
            " 181 182 183 184 185 186 187 188 189 190 191 192 193 194 195 196 197 198\n",
            " 199 200 201 202 203 204 205 206 207 208 209 210 211 212 213 214 215 216\n",
            " 217 218 219 220 221 222 223 224 225 226 227 228 229 230 231 232 233 234\n",
            " 235 236 237 238 239 240 241 242 243 244 245 246 247 248 249 250 251 252\n",
            " 253 254 255 256 257 258 259 260 261 262 263 264 265 266 267 268 269 270\n",
            " 271 272 273 274 275 276 277 278 279 280 281 282 283 284 285 286 287 288\n",
            " 289 290 291 292 293 294 295 296 297 298 299 300 301 302 303 304 305 306\n",
            " 307 308 309 310 311 312 313 314 315 316 317 318 319 320 321 322 323 324\n",
            " 325 326 327 328 329 330 331 332 333 334 335 336 337 338 339 340 341 342\n",
            " 343 344 345 346 347 348 349 350 351 352 353 354 355 356 357 358 359 360\n",
            " 361 362 363 364 365 366 367 368 369 370 371 372 373 374 375 376 377 378\n",
            " 379 380 381 382 383 384 385 386 387 388 389 390 391 392 393 394 395 396\n",
            " 397 398 399 400 401 402 403 404 405 406 407 408 409 410 411 412 413 414\n",
            " 415 416 417 418 419 420 421 422 423 424 425 426 427 428 429 430 431 432\n",
            " 433 434 435 436 437 438 439 440 441 442 443 444 445 446 447 448 449 450\n",
            " 451 452 453 454 455 456 457 458 459 460 461 462 463 464 465 466 467 468\n",
            " 469 470 471 472 473 474 475 476 477 478 479 480 481 482 483 484 485 486\n",
            " 487 488 489 490 491 492 493 494 495 496 497 498 499 500 501 502 503 504\n",
            " 505 506 507 508 509 510 511 512 513 514 515 516 517 518 519 520 521 522\n",
            " 523 524 525 526 527 528 529 530 531 532 533 534 535 536 537 538 539 540\n",
            " 541 542 543 544 545 546 547 548 549 550 551 552 553 554 555 556 557 558\n",
            " 559 560 561 562 563 564 565 566 567 568 569 570 571 572 573 574 575 576\n",
            " 577 578 579 580 581 582 583 584 585 586 587 588 589 590 591 592 593 594\n",
            " 595 596 597 598 599 600 601 602 603 604 605 606 607 608 609 610 611 612\n",
            " 613 614 615 616 617 618 619 620 621 622 623 624 625 626 627 628 629 630\n",
            " 631 632 633 634 635 636 637 638 639 640 641 642 643 644 645 646 647 648\n",
            " 649 650 651 652 653 654 655 656 657 658 659 660 661 662 663 664 665 666\n",
            " 667 668 669 670 671 672 673 674 675 676 677 678 679 680 681 682 683 684\n",
            " 685 686 687 688 689 690 691 692 693 694 695 696 697 698 699 700 701 702\n",
            " 703 704 705 706 707 708 709 710 711 712 713 714 715 716 717 718 719 720\n",
            " 721 722 723 724 725 726 727 728 729 730 731 732 733 734 735 736 737 738\n",
            " 739 740 741 742 743 744 745 746 747 748 749 750 751 752 753 754 755 756\n",
            " 757 758 759 760 761 762 763 764 765 766 767 768 769 770 771 772 773 774\n",
            " 775 776 777 778 779 780 781 782 783 784 785 786 787 788 789 790 791 792\n",
            " 793 794 795 796 797 798 799 800 801 802 803 804 805 806 807 808 809 810\n",
            " 811 812 813 814 815 816 817 818 819 820 821 822 823 824 825 826 827 828\n",
            " 829 830 831 832 833 834 835 836 837 838 839 840 841 842 843 844 845 846\n",
            " 847 848 849 850 851 852 853 854 855 856 857 858 859 860 861 862 863 864\n",
            " 865 866 867 868 869 870 871 872 873 874 875 876 877 878 879 880 881 882\n",
            " 883 884 885 886 887 888 889 890 891]\n"
          ]
        },
        {
          "output_type": "execute_result",
          "data": {
            "text/plain": [
              "891"
            ]
          },
          "metadata": {},
          "execution_count": 12
        }
      ],
      "source": [
        "print(df['PassengerId'].unique())\n",
        "df['PassengerId'].count()\n",
        "\n",
        "#Since PassengerId has integer values with unique count 891, its values are valid\n",
        "#but Ids are not useful for training as they don't have any meaning behind its values"
      ]
    },
    {
      "cell_type": "code",
      "execution_count": null,
      "metadata": {
        "colab": {
          "base_uri": "https://localhost:8080/"
        },
        "id": "3pmt85du9CCh",
        "outputId": "def8d7c6-d254-4cd6-8b2d-993bb6b48620"
      },
      "outputs": [
        {
          "output_type": "stream",
          "name": "stdout",
          "text": [
            "[0 1]\n"
          ]
        },
        {
          "output_type": "execute_result",
          "data": {
            "text/plain": [
              "891"
            ]
          },
          "metadata": {},
          "execution_count": 13
        }
      ],
      "source": [
        "print(df['Survived'].unique())\n",
        "df['Survived'].count()\n",
        "\n",
        "#Survived has boolean values with unique count 891 so its values are valid"
      ]
    },
    {
      "cell_type": "code",
      "execution_count": null,
      "metadata": {
        "colab": {
          "base_uri": "https://localhost:8080/"
        },
        "id": "Ximx_-CnEgir",
        "outputId": "35be3eab-216b-445c-f3a1-d45547029ccf"
      },
      "outputs": [
        {
          "output_type": "stream",
          "name": "stdout",
          "text": [
            "['male' 'female']\n"
          ]
        },
        {
          "output_type": "execute_result",
          "data": {
            "text/plain": [
              "891"
            ]
          },
          "metadata": {},
          "execution_count": 14
        }
      ],
      "source": [
        "print(df['Sex'].unique())\n",
        "df['Sex'].count()\n",
        "\n",
        "#Sex is categorized into male and female with unique count 891 so its values are valid"
      ]
    },
    {
      "cell_type": "code",
      "execution_count": null,
      "metadata": {
        "colab": {
          "base_uri": "https://localhost:8080/"
        },
        "id": "Lk6ko_iEIbKC",
        "outputId": "462d784a-e4ae-4129-c15b-bdf25e62e3d7"
      },
      "outputs": [
        {
          "output_type": "stream",
          "name": "stdout",
          "text": [
            "[22.   38.   26.   35.     nan 54.    2.   27.   14.    4.   58.   20.\n",
            " 39.   55.   31.   34.   15.   28.    8.   19.   40.   66.   42.   21.\n",
            " 18.    3.    7.   49.   29.   65.   28.5   5.   11.   45.   17.   32.\n",
            " 16.   25.    0.83 30.   33.   23.   24.   46.   59.   71.   37.   47.\n",
            " 14.5  70.5  32.5  12.    9.   36.5  51.   55.5  40.5  44.    1.   61.\n",
            " 56.   50.   36.   45.5  20.5  62.   41.   52.   63.   23.5   0.92 43.\n",
            " 60.   10.   64.   13.   48.    0.75 53.   57.   80.   70.   24.5   6.\n",
            "  0.67 30.5   0.42 34.5  74.  ]\n"
          ]
        },
        {
          "output_type": "execute_result",
          "data": {
            "text/plain": [
              "714"
            ]
          },
          "metadata": {},
          "execution_count": 15
        }
      ],
      "source": [
        "print(df['Age'].unique())\n",
        "df['Age'].count()\n",
        "\n",
        "#Age is float data type and it doesn't make sense. It also contains nan value and missing values.\n",
        "#In order to solve missing value problem, missing values can be replaced with mean, median or mode."
      ]
    },
    {
      "cell_type": "code",
      "execution_count": null,
      "metadata": {
        "colab": {
          "base_uri": "https://localhost:8080/",
          "height": 684
        },
        "id": "vEzPOCl0cvX1",
        "outputId": "02a0c138-a89a-4c47-bca6-a586f9cd23c1"
      },
      "outputs": [
        {
          "output_type": "execute_result",
          "data": {
            "text/plain": [
              "     PassengerId  Survived  Pclass                                      Name  \\\n",
              "5              6         0       3                          Moran, Mr. James   \n",
              "17            18         1       2              Williams, Mr. Charles Eugene   \n",
              "19            20         1       3                   Masselmani, Mrs. Fatima   \n",
              "26            27         0       3                   Emir, Mr. Farred Chehab   \n",
              "28            29         1       3             O'Dwyer, Miss. Ellen \"Nellie\"   \n",
              "..           ...       ...     ...                                       ...   \n",
              "859          860         0       3                          Razi, Mr. Raihed   \n",
              "863          864         0       3         Sage, Miss. Dorothy Edith \"Dolly\"   \n",
              "868          869         0       3               van Melkebeke, Mr. Philemon   \n",
              "878          879         0       3                        Laleff, Mr. Kristo   \n",
              "888          889         0       3  Johnston, Miss. Catherine Helen \"Carrie\"   \n",
              "\n",
              "        Sex  Age  SibSp  Parch      Ticket     Fare Cabin Embarked  \n",
              "5      male  NaN      0      0      330877   8.4583   NaN        Q  \n",
              "17     male  NaN      0      0      244373  13.0000   NaN        S  \n",
              "19   female  NaN      0      0        2649   7.2250   NaN        C  \n",
              "26     male  NaN      0      0        2631   7.2250   NaN        C  \n",
              "28   female  NaN      0      0      330959   7.8792   NaN        Q  \n",
              "..      ...  ...    ...    ...         ...      ...   ...      ...  \n",
              "859    male  NaN      0      0        2629   7.2292   NaN        C  \n",
              "863  female  NaN      8      2    CA. 2343  69.5500   NaN        S  \n",
              "868    male  NaN      0      0      345777   9.5000   NaN        S  \n",
              "878    male  NaN      0      0      349217   7.8958   NaN        S  \n",
              "888  female  NaN      1      2  W./C. 6607  23.4500   NaN        S  \n",
              "\n",
              "[177 rows x 12 columns]"
            ],
            "text/html": [
              "\n",
              "  <div id=\"df-926d0464-4375-44b7-8c65-7a0eb581ff6b\">\n",
              "    <div class=\"colab-df-container\">\n",
              "      <div>\n",
              "<style scoped>\n",
              "    .dataframe tbody tr th:only-of-type {\n",
              "        vertical-align: middle;\n",
              "    }\n",
              "\n",
              "    .dataframe tbody tr th {\n",
              "        vertical-align: top;\n",
              "    }\n",
              "\n",
              "    .dataframe thead th {\n",
              "        text-align: right;\n",
              "    }\n",
              "</style>\n",
              "<table border=\"1\" class=\"dataframe\">\n",
              "  <thead>\n",
              "    <tr style=\"text-align: right;\">\n",
              "      <th></th>\n",
              "      <th>PassengerId</th>\n",
              "      <th>Survived</th>\n",
              "      <th>Pclass</th>\n",
              "      <th>Name</th>\n",
              "      <th>Sex</th>\n",
              "      <th>Age</th>\n",
              "      <th>SibSp</th>\n",
              "      <th>Parch</th>\n",
              "      <th>Ticket</th>\n",
              "      <th>Fare</th>\n",
              "      <th>Cabin</th>\n",
              "      <th>Embarked</th>\n",
              "    </tr>\n",
              "  </thead>\n",
              "  <tbody>\n",
              "    <tr>\n",
              "      <th>5</th>\n",
              "      <td>6</td>\n",
              "      <td>0</td>\n",
              "      <td>3</td>\n",
              "      <td>Moran, Mr. James</td>\n",
              "      <td>male</td>\n",
              "      <td>NaN</td>\n",
              "      <td>0</td>\n",
              "      <td>0</td>\n",
              "      <td>330877</td>\n",
              "      <td>8.4583</td>\n",
              "      <td>NaN</td>\n",
              "      <td>Q</td>\n",
              "    </tr>\n",
              "    <tr>\n",
              "      <th>17</th>\n",
              "      <td>18</td>\n",
              "      <td>1</td>\n",
              "      <td>2</td>\n",
              "      <td>Williams, Mr. Charles Eugene</td>\n",
              "      <td>male</td>\n",
              "      <td>NaN</td>\n",
              "      <td>0</td>\n",
              "      <td>0</td>\n",
              "      <td>244373</td>\n",
              "      <td>13.0000</td>\n",
              "      <td>NaN</td>\n",
              "      <td>S</td>\n",
              "    </tr>\n",
              "    <tr>\n",
              "      <th>19</th>\n",
              "      <td>20</td>\n",
              "      <td>1</td>\n",
              "      <td>3</td>\n",
              "      <td>Masselmani, Mrs. Fatima</td>\n",
              "      <td>female</td>\n",
              "      <td>NaN</td>\n",
              "      <td>0</td>\n",
              "      <td>0</td>\n",
              "      <td>2649</td>\n",
              "      <td>7.2250</td>\n",
              "      <td>NaN</td>\n",
              "      <td>C</td>\n",
              "    </tr>\n",
              "    <tr>\n",
              "      <th>26</th>\n",
              "      <td>27</td>\n",
              "      <td>0</td>\n",
              "      <td>3</td>\n",
              "      <td>Emir, Mr. Farred Chehab</td>\n",
              "      <td>male</td>\n",
              "      <td>NaN</td>\n",
              "      <td>0</td>\n",
              "      <td>0</td>\n",
              "      <td>2631</td>\n",
              "      <td>7.2250</td>\n",
              "      <td>NaN</td>\n",
              "      <td>C</td>\n",
              "    </tr>\n",
              "    <tr>\n",
              "      <th>28</th>\n",
              "      <td>29</td>\n",
              "      <td>1</td>\n",
              "      <td>3</td>\n",
              "      <td>O'Dwyer, Miss. Ellen \"Nellie\"</td>\n",
              "      <td>female</td>\n",
              "      <td>NaN</td>\n",
              "      <td>0</td>\n",
              "      <td>0</td>\n",
              "      <td>330959</td>\n",
              "      <td>7.8792</td>\n",
              "      <td>NaN</td>\n",
              "      <td>Q</td>\n",
              "    </tr>\n",
              "    <tr>\n",
              "      <th>...</th>\n",
              "      <td>...</td>\n",
              "      <td>...</td>\n",
              "      <td>...</td>\n",
              "      <td>...</td>\n",
              "      <td>...</td>\n",
              "      <td>...</td>\n",
              "      <td>...</td>\n",
              "      <td>...</td>\n",
              "      <td>...</td>\n",
              "      <td>...</td>\n",
              "      <td>...</td>\n",
              "      <td>...</td>\n",
              "    </tr>\n",
              "    <tr>\n",
              "      <th>859</th>\n",
              "      <td>860</td>\n",
              "      <td>0</td>\n",
              "      <td>3</td>\n",
              "      <td>Razi, Mr. Raihed</td>\n",
              "      <td>male</td>\n",
              "      <td>NaN</td>\n",
              "      <td>0</td>\n",
              "      <td>0</td>\n",
              "      <td>2629</td>\n",
              "      <td>7.2292</td>\n",
              "      <td>NaN</td>\n",
              "      <td>C</td>\n",
              "    </tr>\n",
              "    <tr>\n",
              "      <th>863</th>\n",
              "      <td>864</td>\n",
              "      <td>0</td>\n",
              "      <td>3</td>\n",
              "      <td>Sage, Miss. Dorothy Edith \"Dolly\"</td>\n",
              "      <td>female</td>\n",
              "      <td>NaN</td>\n",
              "      <td>8</td>\n",
              "      <td>2</td>\n",
              "      <td>CA. 2343</td>\n",
              "      <td>69.5500</td>\n",
              "      <td>NaN</td>\n",
              "      <td>S</td>\n",
              "    </tr>\n",
              "    <tr>\n",
              "      <th>868</th>\n",
              "      <td>869</td>\n",
              "      <td>0</td>\n",
              "      <td>3</td>\n",
              "      <td>van Melkebeke, Mr. Philemon</td>\n",
              "      <td>male</td>\n",
              "      <td>NaN</td>\n",
              "      <td>0</td>\n",
              "      <td>0</td>\n",
              "      <td>345777</td>\n",
              "      <td>9.5000</td>\n",
              "      <td>NaN</td>\n",
              "      <td>S</td>\n",
              "    </tr>\n",
              "    <tr>\n",
              "      <th>878</th>\n",
              "      <td>879</td>\n",
              "      <td>0</td>\n",
              "      <td>3</td>\n",
              "      <td>Laleff, Mr. Kristo</td>\n",
              "      <td>male</td>\n",
              "      <td>NaN</td>\n",
              "      <td>0</td>\n",
              "      <td>0</td>\n",
              "      <td>349217</td>\n",
              "      <td>7.8958</td>\n",
              "      <td>NaN</td>\n",
              "      <td>S</td>\n",
              "    </tr>\n",
              "    <tr>\n",
              "      <th>888</th>\n",
              "      <td>889</td>\n",
              "      <td>0</td>\n",
              "      <td>3</td>\n",
              "      <td>Johnston, Miss. Catherine Helen \"Carrie\"</td>\n",
              "      <td>female</td>\n",
              "      <td>NaN</td>\n",
              "      <td>1</td>\n",
              "      <td>2</td>\n",
              "      <td>W./C. 6607</td>\n",
              "      <td>23.4500</td>\n",
              "      <td>NaN</td>\n",
              "      <td>S</td>\n",
              "    </tr>\n",
              "  </tbody>\n",
              "</table>\n",
              "<p>177 rows × 12 columns</p>\n",
              "</div>\n",
              "      <button class=\"colab-df-convert\" onclick=\"convertToInteractive('df-926d0464-4375-44b7-8c65-7a0eb581ff6b')\"\n",
              "              title=\"Convert this dataframe to an interactive table.\"\n",
              "              style=\"display:none;\">\n",
              "        \n",
              "  <svg xmlns=\"http://www.w3.org/2000/svg\" height=\"24px\"viewBox=\"0 0 24 24\"\n",
              "       width=\"24px\">\n",
              "    <path d=\"M0 0h24v24H0V0z\" fill=\"none\"/>\n",
              "    <path d=\"M18.56 5.44l.94 2.06.94-2.06 2.06-.94-2.06-.94-.94-2.06-.94 2.06-2.06.94zm-11 1L8.5 8.5l.94-2.06 2.06-.94-2.06-.94L8.5 2.5l-.94 2.06-2.06.94zm10 10l.94 2.06.94-2.06 2.06-.94-2.06-.94-.94-2.06-.94 2.06-2.06.94z\"/><path d=\"M17.41 7.96l-1.37-1.37c-.4-.4-.92-.59-1.43-.59-.52 0-1.04.2-1.43.59L10.3 9.45l-7.72 7.72c-.78.78-.78 2.05 0 2.83L4 21.41c.39.39.9.59 1.41.59.51 0 1.02-.2 1.41-.59l7.78-7.78 2.81-2.81c.8-.78.8-2.07 0-2.86zM5.41 20L4 18.59l7.72-7.72 1.47 1.35L5.41 20z\"/>\n",
              "  </svg>\n",
              "      </button>\n",
              "      \n",
              "  <style>\n",
              "    .colab-df-container {\n",
              "      display:flex;\n",
              "      flex-wrap:wrap;\n",
              "      gap: 12px;\n",
              "    }\n",
              "\n",
              "    .colab-df-convert {\n",
              "      background-color: #E8F0FE;\n",
              "      border: none;\n",
              "      border-radius: 50%;\n",
              "      cursor: pointer;\n",
              "      display: none;\n",
              "      fill: #1967D2;\n",
              "      height: 32px;\n",
              "      padding: 0 0 0 0;\n",
              "      width: 32px;\n",
              "    }\n",
              "\n",
              "    .colab-df-convert:hover {\n",
              "      background-color: #E2EBFA;\n",
              "      box-shadow: 0px 1px 2px rgba(60, 64, 67, 0.3), 0px 1px 3px 1px rgba(60, 64, 67, 0.15);\n",
              "      fill: #174EA6;\n",
              "    }\n",
              "\n",
              "    [theme=dark] .colab-df-convert {\n",
              "      background-color: #3B4455;\n",
              "      fill: #D2E3FC;\n",
              "    }\n",
              "\n",
              "    [theme=dark] .colab-df-convert:hover {\n",
              "      background-color: #434B5C;\n",
              "      box-shadow: 0px 1px 3px 1px rgba(0, 0, 0, 0.15);\n",
              "      filter: drop-shadow(0px 1px 2px rgba(0, 0, 0, 0.3));\n",
              "      fill: #FFFFFF;\n",
              "    }\n",
              "  </style>\n",
              "\n",
              "      <script>\n",
              "        const buttonEl =\n",
              "          document.querySelector('#df-926d0464-4375-44b7-8c65-7a0eb581ff6b button.colab-df-convert');\n",
              "        buttonEl.style.display =\n",
              "          google.colab.kernel.accessAllowed ? 'block' : 'none';\n",
              "\n",
              "        async function convertToInteractive(key) {\n",
              "          const element = document.querySelector('#df-926d0464-4375-44b7-8c65-7a0eb581ff6b');\n",
              "          const dataTable =\n",
              "            await google.colab.kernel.invokeFunction('convertToInteractive',\n",
              "                                                     [key], {});\n",
              "          if (!dataTable) return;\n",
              "\n",
              "          const docLinkHtml = 'Like what you see? Visit the ' +\n",
              "            '<a target=\"_blank\" href=https://colab.research.google.com/notebooks/data_table.ipynb>data table notebook</a>'\n",
              "            + ' to learn more about interactive tables.';\n",
              "          element.innerHTML = '';\n",
              "          dataTable['output_type'] = 'display_data';\n",
              "          await google.colab.output.renderOutput(dataTable, element);\n",
              "          const docLink = document.createElement('div');\n",
              "          docLink.innerHTML = docLinkHtml;\n",
              "          element.appendChild(docLink);\n",
              "        }\n",
              "      </script>\n",
              "    </div>\n",
              "  </div>\n",
              "  "
            ]
          },
          "metadata": {},
          "execution_count": 16
        }
      ],
      "source": [
        "df[df['Age'].isnull()]"
      ]
    },
    {
      "cell_type": "markdown",
      "metadata": {
        "id": "jj4S8hs1ePyy"
      },
      "source": [
        "Findings: Other features where Age values are NaN are distributed and unable to find relationships among them. So NaN values of Age are on their own and they can independently be replaced with its median value as median is not prone to outliers."
      ]
    },
    {
      "cell_type": "markdown",
      "metadata": {
        "id": "qmA1U_i6Umtr"
      },
      "source": [
        "## **Replacing missing values in Age**\n",
        "\n",
        "\n",
        "\n"
      ]
    },
    {
      "cell_type": "code",
      "execution_count": null,
      "metadata": {
        "colab": {
          "base_uri": "https://localhost:8080/"
        },
        "id": "3tBSgwSJUH-U",
        "outputId": "43314217-50c0-4139-b7f3-5d8693ee970f"
      },
      "outputs": [
        {
          "output_type": "stream",
          "name": "stdout",
          "text": [
            "0\n"
          ]
        },
        {
          "output_type": "execute_result",
          "data": {
            "text/plain": [
              "891"
            ]
          },
          "metadata": {},
          "execution_count": 4
        }
      ],
      "source": [
        "# Calculate the median age per passenger class\n",
        "median_age_by_pclass = df.groupby('Pclass')['Age'].median()\n",
        "\n",
        "# Function to replace missing age values with the median age based on passenger class\n",
        "def fill_age(row):\n",
        "    if pd.isnull(row['Age']):\n",
        "        return median_age_by_pclass[row['Pclass']]\n",
        "    else:\n",
        "        return row['Age']\n",
        "\n",
        "# Apply the function to fill missing age values\n",
        "df['Age'] = df.apply(fill_age, axis=1)\n",
        "\n",
        "# Check the updated DataFrame\n",
        "print(df['Age'].isnull().sum())  # Should output 0 if all missing values are replaced\n",
        "\n",
        "df['Age'].count()"
      ]
    },
    {
      "cell_type": "code",
      "execution_count": null,
      "metadata": {
        "colab": {
          "base_uri": "https://localhost:8080/"
        },
        "id": "mrHajPdIj_Cm",
        "outputId": "6113c6ce-96d8-47ac-be01-f2f30e3220d9"
      },
      "outputs": [
        {
          "output_type": "stream",
          "name": "stdout",
          "text": [
            "0    22\n",
            "1    38\n",
            "2    26\n",
            "3    35\n",
            "4    35\n",
            "Name: Age, dtype: int64\n"
          ]
        }
      ],
      "source": [
        "# Convert 'Age' column from float to integer\n",
        "df['Age'] = df['Age'].astype(int)\n",
        "\n",
        "# Replace values between 0 and 1 with 1\n",
        "df['Age'] = df['Age'].apply(lambda x: 1 if 0 < x < 1 else x)\n",
        "\n",
        "# Check the updated DataFrame\n",
        "print(df['Age'].head())"
      ]
    },
    {
      "cell_type": "code",
      "execution_count": null,
      "metadata": {
        "colab": {
          "base_uri": "https://localhost:8080/"
        },
        "id": "iIY1D0r2VJN0",
        "outputId": "c8be616c-a575-4340-d281-76538d9a7e8e"
      },
      "outputs": [
        {
          "output_type": "stream",
          "name": "stdout",
          "text": [
            "[1 0 3 4 2 5 8]\n"
          ]
        },
        {
          "output_type": "execute_result",
          "data": {
            "text/plain": [
              "891"
            ]
          },
          "metadata": {},
          "execution_count": 19
        }
      ],
      "source": [
        "print(df['SibSp'].unique())\n",
        "df['SibSp'].count()\n",
        "\n",
        "#SibSp which represents number of siblings abroad and spouses has integer values with non missing values"
      ]
    },
    {
      "cell_type": "code",
      "execution_count": null,
      "metadata": {
        "colab": {
          "base_uri": "https://localhost:8080/"
        },
        "id": "Rf-Rw8rCVgmc",
        "outputId": "f11ca456-fef7-48d0-f84a-ffb6d37fcfcb"
      },
      "outputs": [
        {
          "output_type": "stream",
          "name": "stdout",
          "text": [
            "[0 1 2 5 3 4 6]\n"
          ]
        },
        {
          "output_type": "execute_result",
          "data": {
            "text/plain": [
              "891"
            ]
          },
          "metadata": {},
          "execution_count": 20
        }
      ],
      "source": [
        "print(df['Parch'].unique())\n",
        "df['Parch'].count()\n",
        "\n",
        "#Parch(# of parents / children aboard) has integer values with non missing values"
      ]
    },
    {
      "cell_type": "code",
      "execution_count": null,
      "metadata": {
        "colab": {
          "base_uri": "https://localhost:8080/"
        },
        "id": "zXtPyVhgV7Zu",
        "outputId": "c8317bc5-73d3-4b56-aa46-afa201045736"
      },
      "outputs": [
        {
          "output_type": "stream",
          "name": "stdout",
          "text": [
            "['A/5 21171' 'PC 17599' 'STON/O2. 3101282' '113803' '373450' '330877'\n",
            " '17463' '349909' '347742' '237736' 'PP 9549' '113783' 'A/5. 2151'\n",
            " '347082' '350406' '248706' '382652' '244373' '345763' '2649' '239865'\n",
            " '248698' '330923' '113788' '347077' '2631' '19950' '330959' '349216'\n",
            " 'PC 17601' 'PC 17569' '335677' 'C.A. 24579' 'PC 17604' '113789' '2677'\n",
            " 'A./5. 2152' '345764' '2651' '7546' '11668' '349253' 'SC/Paris 2123'\n",
            " '330958' 'S.C./A.4. 23567' '370371' '14311' '2662' '349237' '3101295'\n",
            " 'A/4. 39886' 'PC 17572' '2926' '113509' '19947' 'C.A. 31026' '2697'\n",
            " 'C.A. 34651' 'CA 2144' '2669' '113572' '36973' '347088' 'PC 17605' '2661'\n",
            " 'C.A. 29395' 'S.P. 3464' '3101281' '315151' 'C.A. 33111' 'S.O.C. 14879'\n",
            " '2680' '1601' '348123' '349208' '374746' '248738' '364516' '345767'\n",
            " '345779' '330932' '113059' 'SO/C 14885' '3101278' 'W./C. 6608'\n",
            " 'SOTON/OQ 392086' '343275' '343276' '347466' 'W.E.P. 5734' 'C.A. 2315'\n",
            " '364500' '374910' 'PC 17754' 'PC 17759' '231919' '244367' '349245'\n",
            " '349215' '35281' '7540' '3101276' '349207' '343120' '312991' '349249'\n",
            " '371110' '110465' '2665' '324669' '4136' '2627' 'STON/O 2. 3101294'\n",
            " '370369' 'PC 17558' 'A4. 54510' '27267' '370372' 'C 17369' '2668'\n",
            " '347061' '349241' 'SOTON/O.Q. 3101307' 'A/5. 3337' '228414' 'C.A. 29178'\n",
            " 'SC/PARIS 2133' '11752' '7534' 'PC 17593' '2678' '347081'\n",
            " 'STON/O2. 3101279' '365222' '231945' 'C.A. 33112' '350043' '230080'\n",
            " '244310' 'S.O.P. 1166' '113776' 'A.5. 11206' 'A/5. 851' 'Fa 265302'\n",
            " 'PC 17597' '35851' 'SOTON/OQ 392090' '315037' 'CA. 2343' '371362'\n",
            " 'C.A. 33595' '347068' '315093' '363291' '113505' 'PC 17318' '111240'\n",
            " 'STON/O 2. 3101280' '17764' '350404' '4133' 'PC 17595' '250653' 'LINE'\n",
            " 'SC/PARIS 2131' '230136' '315153' '113767' '370365' '111428' '364849'\n",
            " '349247' '234604' '28424' '350046' 'PC 17610' '368703' '4579' '370370'\n",
            " '248747' '345770' '3101264' '2628' 'A/5 3540' '347054' '2699' '367231'\n",
            " '112277' 'SOTON/O.Q. 3101311' 'F.C.C. 13528' 'A/5 21174' '250646'\n",
            " '367229' '35273' 'STON/O2. 3101283' '243847' '11813' 'W/C 14208'\n",
            " 'SOTON/OQ 392089' '220367' '21440' '349234' '19943' 'PP 4348' 'SW/PP 751'\n",
            " 'A/5 21173' '236171' '347067' '237442' 'C.A. 29566' 'W./C. 6609' '26707'\n",
            " 'C.A. 31921' '28665' 'SCO/W 1585' '367230' 'W./C. 14263'\n",
            " 'STON/O 2. 3101275' '2694' '19928' '347071' '250649' '11751' '244252'\n",
            " '362316' '113514' 'A/5. 3336' '370129' '2650' 'PC 17585' '110152'\n",
            " 'PC 17755' '230433' '384461' '110413' '112059' '382649' 'C.A. 17248'\n",
            " '347083' 'PC 17582' 'PC 17760' '113798' '250644' 'PC 17596' '370375'\n",
            " '13502' '347073' '239853' 'C.A. 2673' '336439' '347464' '345778'\n",
            " 'A/5. 10482' '113056' '349239' '345774' '349206' '237798' '370373'\n",
            " '19877' '11967' 'SC/Paris 2163' '349236' '349233' 'PC 17612' '2693'\n",
            " '113781' '19988' '9234' '367226' '226593' 'A/5 2466' '17421' 'PC 17758'\n",
            " 'P/PP 3381' 'PC 17485' '11767' 'PC 17608' '250651' '349243'\n",
            " 'F.C.C. 13529' '347470' '29011' '36928' '16966' 'A/5 21172' '349219'\n",
            " '234818' '345364' '28551' '111361' '113043' 'PC 17611' '349225' '7598'\n",
            " '113784' '248740' '244361' '229236' '248733' '31418' '386525'\n",
            " 'C.A. 37671' '315088' '7267' '113510' '2695' '2647' '345783' '237671'\n",
            " '330931' '330980' 'SC/PARIS 2167' '2691' 'SOTON/O.Q. 3101310' 'C 7076'\n",
            " '110813' '2626' '14313' 'PC 17477' '11765' '3101267' '323951' 'C 7077'\n",
            " '113503' '2648' '347069' 'PC 17757' '2653' 'STON/O 2. 3101293' '349227'\n",
            " '27849' '367655' 'SC 1748' '113760' '350034' '3101277' '350052' '350407'\n",
            " '28403' '244278' '240929' 'STON/O 2. 3101289' '341826' '4137' '315096'\n",
            " '28664' '347064' '29106' '312992' '349222' '394140' 'STON/O 2. 3101269'\n",
            " '343095' '28220' '250652' '28228' '345773' '349254' 'A/5. 13032' '315082'\n",
            " '347080' 'A/4. 34244' '2003' '250655' '364851' 'SOTON/O.Q. 392078'\n",
            " '110564' '376564' 'SC/AH 3085' 'STON/O 2. 3101274' '13507' 'C.A. 18723'\n",
            " '345769' '347076' '230434' '65306' '33638' '113794' '2666' '113786'\n",
            " '65303' '113051' '17453' 'A/5 2817' '349240' '13509' '17464'\n",
            " 'F.C.C. 13531' '371060' '19952' '364506' '111320' '234360' 'A/S 2816'\n",
            " 'SOTON/O.Q. 3101306' '113792' '36209' '323592' '315089' 'SC/AH Basle 541'\n",
            " '7553' '31027' '3460' '350060' '3101298' '239854' 'A/5 3594' '4134'\n",
            " '11771' 'A.5. 18509' '65304' 'SOTON/OQ 3101317' '113787' 'PC 17609'\n",
            " 'A/4 45380' '36947' 'C.A. 6212' '350035' '315086' '364846' '330909'\n",
            " '4135' '26360' '111427' 'C 4001' '382651' 'SOTON/OQ 3101316' 'PC 17473'\n",
            " 'PC 17603' '349209' '36967' 'C.A. 34260' '226875' '349242' '12749'\n",
            " '349252' '2624' '2700' '367232' 'W./C. 14258' 'PC 17483' '3101296'\n",
            " '29104' '2641' '2690' '315084' '113050' 'PC 17761' '364498' '13568'\n",
            " 'WE/P 5735' '2908' '693' 'SC/PARIS 2146' '244358' '330979' '2620'\n",
            " '347085' '113807' '11755' '345572' '372622' '349251' '218629'\n",
            " 'SOTON/OQ 392082' 'SOTON/O.Q. 392087' 'A/4 48871' '349205' '2686'\n",
            " '350417' 'S.W./PP 752' '11769' 'PC 17474' '14312' 'A/4. 20589' '358585'\n",
            " '243880' '2689' 'STON/O 2. 3101286' '237789' '13049' '3411' '237565'\n",
            " '13567' '14973' 'A./5. 3235' 'STON/O 2. 3101273' 'A/5 3902' '364848'\n",
            " 'SC/AH 29037' '248727' '2664' '349214' '113796' '364511' '111426'\n",
            " '349910' '349246' '113804' 'SOTON/O.Q. 3101305' '370377' '364512'\n",
            " '220845' '31028' '2659' '11753' '350029' '54636' '36963' '219533'\n",
            " '349224' '334912' '27042' '347743' '13214' '112052' '237668'\n",
            " 'STON/O 2. 3101292' '350050' '349231' '13213' 'S.O./P.P. 751' 'CA. 2314'\n",
            " '349221' '8475' '330919' '365226' '349223' '29751' '2623' '5727' '349210'\n",
            " 'STON/O 2. 3101285' '234686' '312993' 'A/5 3536' '19996' '29750'\n",
            " 'F.C. 12750' 'C.A. 24580' '244270' '239856' '349912' '342826' '4138'\n",
            " '330935' '6563' '349228' '350036' '24160' '17474' '349256' '2672'\n",
            " '113800' '248731' '363592' '35852' '348121' 'PC 17475' '36864' '350025'\n",
            " '223596' 'PC 17476' 'PC 17482' '113028' '7545' '250647' '348124' '34218'\n",
            " '36568' '347062' '350048' '12233' '250643' '113806' '315094' '36866'\n",
            " '236853' 'STON/O2. 3101271' '239855' '28425' '233639' '349201' '349218'\n",
            " '16988' '376566' 'STON/O 2. 3101288' '250648' '113773' '335097' '29103'\n",
            " '392096' '345780' '349204' '350042' '29108' '363294' 'SOTON/O2 3101272'\n",
            " '2663' '347074' '112379' '364850' '8471' '345781' '350047' 'S.O./P.P. 3'\n",
            " '2674' '29105' '347078' '383121' '36865' '2687' '113501' 'W./C. 6607'\n",
            " 'SOTON/O.Q. 3101312' '374887' '3101265' '12460' 'PC 17600' '349203'\n",
            " '28213' '17465' '349244' '2685' '2625' '347089' '347063' '112050'\n",
            " '347087' '248723' '3474' '28206' '364499' '112058' 'STON/O2. 3101290'\n",
            " 'S.C./PARIS 2079' 'C 7075' '315098' '19972' '368323' '367228' '2671'\n",
            " '347468' '2223' 'PC 17756' '315097' '392092' '11774' 'SOTON/O2 3101287'\n",
            " '2683' '315090' 'C.A. 5547' '349213' '347060' 'PC 17592' '392091'\n",
            " '113055' '2629' '350026' '28134' '17466' '233866' '236852'\n",
            " 'SC/PARIS 2149' 'PC 17590' '345777' '349248' '695' '345765' '2667'\n",
            " '349212' '349217' '349257' '7552' 'C.A./SOTON 34068' 'SOTON/OQ 392076'\n",
            " '211536' '112053' '111369' '370376']\n"
          ]
        },
        {
          "output_type": "execute_result",
          "data": {
            "text/plain": [
              "891"
            ]
          },
          "metadata": {},
          "execution_count": 19
        }
      ],
      "source": [
        "print(df['Ticket'].unique())\n",
        "df['Ticket'].count()\n",
        "\n",
        "#Ticket column is valid with non missing values so it is valid"
      ]
    },
    {
      "cell_type": "code",
      "execution_count": null,
      "metadata": {
        "colab": {
          "base_uri": "https://localhost:8080/"
        },
        "id": "61_2OElTWclm",
        "outputId": "916ae970-ed79-4572-923c-70c0c8df3af6"
      },
      "outputs": [
        {
          "output_type": "stream",
          "name": "stdout",
          "text": [
            "[  7.25    71.2833   7.925   53.1      8.05     8.4583  51.8625  21.075\n",
            "  11.1333  30.0708  16.7     26.55    31.275    7.8542  16.      29.125\n",
            "  13.      18.       7.225   26.       8.0292  35.5     31.3875 263.\n",
            "   7.8792   7.8958  27.7208 146.5208   7.75    10.5     82.1708  52.\n",
            "   7.2292  11.2417   9.475   21.      41.5792  15.5     21.6792  17.8\n",
            "  39.6875   7.8     76.7292  61.9792  27.75    46.9     80.      83.475\n",
            "  27.9     15.2458   8.1583   8.6625  73.5     14.4542  56.4958   7.65\n",
            "  29.      12.475    9.       9.5      7.7875  47.1     15.85    34.375\n",
            "  61.175   20.575   34.6542  63.3583  23.      77.2875   8.6542   7.775\n",
            "  24.15     9.825   14.4583 247.5208   7.1417  22.3583   6.975    7.05\n",
            "  14.5     15.0458  26.2833   9.2167  79.2      6.75    11.5     36.75\n",
            "   7.7958  12.525   66.6      7.3125  61.3792   7.7333  69.55    16.1\n",
            "  15.75    20.525   55.      25.925   33.5     30.6958  25.4667  28.7125\n",
            "   0.      15.05    39.      22.025   50.       8.4042   6.4958  10.4625\n",
            "  18.7875  31.     113.275   27.      76.2917  90.       9.35    13.5\n",
            "   7.55    26.25    12.275    7.125   52.5542  20.2125  86.5    512.3292\n",
            "  79.65   153.4625 135.6333  19.5     29.7     77.9583  20.25    78.85\n",
            "  91.0792  12.875    8.85   151.55    30.5     23.25    12.35   110.8833\n",
            " 108.9     24.      56.9292  83.1583 262.375   14.     164.8667 134.5\n",
            "   6.2375  57.9792  28.5    133.65    15.9      9.225   35.      75.25\n",
            "  69.3     55.4417 211.5      4.0125 227.525   15.7417   7.7292  12.\n",
            " 120.      12.65    18.75     6.8583  32.5      7.875   14.4     55.9\n",
            "   8.1125  81.8583  19.2583  19.9667  89.1042  38.5      7.725   13.7917\n",
            "   9.8375   7.0458   7.5208  12.2875   9.5875  49.5042  78.2667  15.1\n",
            "   7.6292  22.525   26.2875  59.4      7.4958  34.0208  93.5    221.7792\n",
            " 106.425   49.5     71.      13.8625   7.8292  39.6     17.4     51.4792\n",
            "  26.3875  30.      40.125    8.7125  15.      33.      42.4     15.55\n",
            "  65.      32.3208   7.0542   8.4333  25.5875   9.8417   8.1375  10.1708\n",
            " 211.3375  57.      13.4167   7.7417   9.4833   7.7375   8.3625  23.45\n",
            "  25.9292   8.6833   8.5167   7.8875  37.0042   6.45     6.95     8.3\n",
            "   6.4375  39.4     14.1083  13.8583  50.4958   5.       9.8458  10.5167]\n"
          ]
        },
        {
          "output_type": "execute_result",
          "data": {
            "text/plain": [
              "891"
            ]
          },
          "metadata": {},
          "execution_count": 20
        }
      ],
      "source": [
        "print(df['Fare'].unique())\n",
        "df['Fare'].count()\n",
        "\n",
        "#Fare column has integer values with non missing values"
      ]
    },
    {
      "cell_type": "code",
      "execution_count": null,
      "metadata": {
        "colab": {
          "base_uri": "https://localhost:8080/"
        },
        "id": "8sjbn3rdWyv3",
        "outputId": "8bfeb790-82b2-4c14-82a3-c6c9ed37f7bf"
      },
      "outputs": [
        {
          "output_type": "stream",
          "name": "stdout",
          "text": [
            "[nan 'C85' 'C123' 'E46' 'G6' 'C103' 'D56' 'A6' 'C23 C25 C27' 'B78' 'D33'\n",
            " 'B30' 'C52' 'B28' 'C83' 'F33' 'F G73' 'E31' 'A5' 'D10 D12' 'D26' 'C110'\n",
            " 'B58 B60' 'E101' 'F E69' 'D47' 'B86' 'F2' 'C2' 'E33' 'B19' 'A7' 'C49'\n",
            " 'F4' 'A32' 'B4' 'B80' 'A31' 'D36' 'D15' 'C93' 'C78' 'D35' 'C87' 'B77'\n",
            " 'E67' 'B94' 'C125' 'C99' 'C118' 'D7' 'A19' 'B49' 'D' 'C22 C26' 'C106'\n",
            " 'C65' 'E36' 'C54' 'B57 B59 B63 B66' 'C7' 'E34' 'C32' 'B18' 'C124' 'C91'\n",
            " 'E40' 'T' 'C128' 'D37' 'B35' 'E50' 'C82' 'B96 B98' 'E10' 'E44' 'A34'\n",
            " 'C104' 'C111' 'C92' 'E38' 'D21' 'E12' 'E63' 'A14' 'B37' 'C30' 'D20' 'B79'\n",
            " 'E25' 'D46' 'B73' 'C95' 'B38' 'B39' 'B22' 'C86' 'C70' 'A16' 'C101' 'C68'\n",
            " 'A10' 'E68' 'B41' 'A20' 'D19' 'D50' 'D9' 'A23' 'B50' 'A26' 'D48' 'E58'\n",
            " 'C126' 'B71' 'B51 B53 B55' 'D49' 'B5' 'B20' 'F G63' 'C62 C64' 'E24' 'C90'\n",
            " 'C45' 'E8' 'B101' 'D45' 'C46' 'D30' 'E121' 'D11' 'E77' 'F38' 'B3' 'D6'\n",
            " 'B82 B84' 'D17' 'A36' 'B102' 'B69' 'E49' 'C47' 'D28' 'E17' 'A24' 'C50'\n",
            " 'B42' 'C148']\n"
          ]
        },
        {
          "output_type": "execute_result",
          "data": {
            "text/plain": [
              "204"
            ]
          },
          "metadata": {},
          "execution_count": 21
        }
      ],
      "source": [
        "print(df['Cabin'].unique())\n",
        "df['Cabin'].count()\n",
        "\n",
        "#Since Cabin has many missing values and doesn't have much impact on training, it can be dropped"
      ]
    },
    {
      "cell_type": "markdown",
      "metadata": {
        "id": "QSSI8dyLkS24"
      },
      "source": [
        "## **Replacing missing values in Cabin**"
      ]
    },
    {
      "cell_type": "code",
      "execution_count": null,
      "metadata": {
        "colab": {
          "base_uri": "https://localhost:8080/"
        },
        "id": "heKneqErXjtu",
        "outputId": "0a85dfe4-57e8-4b94-fd8c-7e827c8c5b8a"
      },
      "outputs": [
        {
          "output_type": "execute_result",
          "data": {
            "text/plain": [
              "Index(['PassengerId', 'Survived', 'Pclass', 'Name', 'Sex', 'Age', 'SibSp',\n",
              "       'Parch', 'Ticket', 'Fare', 'Embarked'],\n",
              "      dtype='object')"
            ]
          },
          "metadata": {},
          "execution_count": 6
        }
      ],
      "source": [
        "# drop Cabin column\n",
        "df = df.drop(['Cabin'], axis=1)\n",
        "df.columns"
      ]
    },
    {
      "cell_type": "code",
      "execution_count": null,
      "metadata": {
        "colab": {
          "base_uri": "https://localhost:8080/",
          "height": 230
        },
        "id": "wy2Ms9veW10e",
        "outputId": "a1145a35-3291-4386-ab61-0e5a2396e442"
      },
      "outputs": [
        {
          "output_type": "stream",
          "name": "stdout",
          "text": [
            "['S' 'C' 'Q' nan]\n",
            "889\n"
          ]
        },
        {
          "output_type": "execute_result",
          "data": {
            "text/plain": [
              "     PassengerId  Survived  Pclass                                       Name  \\\n",
              "61            62         1       1                        Icard, Miss. Amelie   \n",
              "829          830         1       1  Stone, Mrs. George Nelson (Martha Evelyn)   \n",
              "\n",
              "        Sex   Age  SibSp  Parch  Ticket  Fare Embarked  \n",
              "61   female  38.0      0      0  113572  80.0      NaN  \n",
              "829  female  62.0      0      0  113572  80.0      NaN  "
            ],
            "text/html": [
              "\n",
              "  <div id=\"df-63d9e9aa-8f25-4382-a0e0-9ba1a23febe2\">\n",
              "    <div class=\"colab-df-container\">\n",
              "      <div>\n",
              "<style scoped>\n",
              "    .dataframe tbody tr th:only-of-type {\n",
              "        vertical-align: middle;\n",
              "    }\n",
              "\n",
              "    .dataframe tbody tr th {\n",
              "        vertical-align: top;\n",
              "    }\n",
              "\n",
              "    .dataframe thead th {\n",
              "        text-align: right;\n",
              "    }\n",
              "</style>\n",
              "<table border=\"1\" class=\"dataframe\">\n",
              "  <thead>\n",
              "    <tr style=\"text-align: right;\">\n",
              "      <th></th>\n",
              "      <th>PassengerId</th>\n",
              "      <th>Survived</th>\n",
              "      <th>Pclass</th>\n",
              "      <th>Name</th>\n",
              "      <th>Sex</th>\n",
              "      <th>Age</th>\n",
              "      <th>SibSp</th>\n",
              "      <th>Parch</th>\n",
              "      <th>Ticket</th>\n",
              "      <th>Fare</th>\n",
              "      <th>Embarked</th>\n",
              "    </tr>\n",
              "  </thead>\n",
              "  <tbody>\n",
              "    <tr>\n",
              "      <th>61</th>\n",
              "      <td>62</td>\n",
              "      <td>1</td>\n",
              "      <td>1</td>\n",
              "      <td>Icard, Miss. Amelie</td>\n",
              "      <td>female</td>\n",
              "      <td>38.0</td>\n",
              "      <td>0</td>\n",
              "      <td>0</td>\n",
              "      <td>113572</td>\n",
              "      <td>80.0</td>\n",
              "      <td>NaN</td>\n",
              "    </tr>\n",
              "    <tr>\n",
              "      <th>829</th>\n",
              "      <td>830</td>\n",
              "      <td>1</td>\n",
              "      <td>1</td>\n",
              "      <td>Stone, Mrs. George Nelson (Martha Evelyn)</td>\n",
              "      <td>female</td>\n",
              "      <td>62.0</td>\n",
              "      <td>0</td>\n",
              "      <td>0</td>\n",
              "      <td>113572</td>\n",
              "      <td>80.0</td>\n",
              "      <td>NaN</td>\n",
              "    </tr>\n",
              "  </tbody>\n",
              "</table>\n",
              "</div>\n",
              "      <button class=\"colab-df-convert\" onclick=\"convertToInteractive('df-63d9e9aa-8f25-4382-a0e0-9ba1a23febe2')\"\n",
              "              title=\"Convert this dataframe to an interactive table.\"\n",
              "              style=\"display:none;\">\n",
              "        \n",
              "  <svg xmlns=\"http://www.w3.org/2000/svg\" height=\"24px\"viewBox=\"0 0 24 24\"\n",
              "       width=\"24px\">\n",
              "    <path d=\"M0 0h24v24H0V0z\" fill=\"none\"/>\n",
              "    <path d=\"M18.56 5.44l.94 2.06.94-2.06 2.06-.94-2.06-.94-.94-2.06-.94 2.06-2.06.94zm-11 1L8.5 8.5l.94-2.06 2.06-.94-2.06-.94L8.5 2.5l-.94 2.06-2.06.94zm10 10l.94 2.06.94-2.06 2.06-.94-2.06-.94-.94-2.06-.94 2.06-2.06.94z\"/><path d=\"M17.41 7.96l-1.37-1.37c-.4-.4-.92-.59-1.43-.59-.52 0-1.04.2-1.43.59L10.3 9.45l-7.72 7.72c-.78.78-.78 2.05 0 2.83L4 21.41c.39.39.9.59 1.41.59.51 0 1.02-.2 1.41-.59l7.78-7.78 2.81-2.81c.8-.78.8-2.07 0-2.86zM5.41 20L4 18.59l7.72-7.72 1.47 1.35L5.41 20z\"/>\n",
              "  </svg>\n",
              "      </button>\n",
              "      \n",
              "  <style>\n",
              "    .colab-df-container {\n",
              "      display:flex;\n",
              "      flex-wrap:wrap;\n",
              "      gap: 12px;\n",
              "    }\n",
              "\n",
              "    .colab-df-convert {\n",
              "      background-color: #E8F0FE;\n",
              "      border: none;\n",
              "      border-radius: 50%;\n",
              "      cursor: pointer;\n",
              "      display: none;\n",
              "      fill: #1967D2;\n",
              "      height: 32px;\n",
              "      padding: 0 0 0 0;\n",
              "      width: 32px;\n",
              "    }\n",
              "\n",
              "    .colab-df-convert:hover {\n",
              "      background-color: #E2EBFA;\n",
              "      box-shadow: 0px 1px 2px rgba(60, 64, 67, 0.3), 0px 1px 3px 1px rgba(60, 64, 67, 0.15);\n",
              "      fill: #174EA6;\n",
              "    }\n",
              "\n",
              "    [theme=dark] .colab-df-convert {\n",
              "      background-color: #3B4455;\n",
              "      fill: #D2E3FC;\n",
              "    }\n",
              "\n",
              "    [theme=dark] .colab-df-convert:hover {\n",
              "      background-color: #434B5C;\n",
              "      box-shadow: 0px 1px 3px 1px rgba(0, 0, 0, 0.15);\n",
              "      filter: drop-shadow(0px 1px 2px rgba(0, 0, 0, 0.3));\n",
              "      fill: #FFFFFF;\n",
              "    }\n",
              "  </style>\n",
              "\n",
              "      <script>\n",
              "        const buttonEl =\n",
              "          document.querySelector('#df-63d9e9aa-8f25-4382-a0e0-9ba1a23febe2 button.colab-df-convert');\n",
              "        buttonEl.style.display =\n",
              "          google.colab.kernel.accessAllowed ? 'block' : 'none';\n",
              "\n",
              "        async function convertToInteractive(key) {\n",
              "          const element = document.querySelector('#df-63d9e9aa-8f25-4382-a0e0-9ba1a23febe2');\n",
              "          const dataTable =\n",
              "            await google.colab.kernel.invokeFunction('convertToInteractive',\n",
              "                                                     [key], {});\n",
              "          if (!dataTable) return;\n",
              "\n",
              "          const docLinkHtml = 'Like what you see? Visit the ' +\n",
              "            '<a target=\"_blank\" href=https://colab.research.google.com/notebooks/data_table.ipynb>data table notebook</a>'\n",
              "            + ' to learn more about interactive tables.';\n",
              "          element.innerHTML = '';\n",
              "          dataTable['output_type'] = 'display_data';\n",
              "          await google.colab.output.renderOutput(dataTable, element);\n",
              "          const docLink = document.createElement('div');\n",
              "          docLink.innerHTML = docLinkHtml;\n",
              "          element.appendChild(docLink);\n",
              "        }\n",
              "      </script>\n",
              "    </div>\n",
              "  </div>\n",
              "  "
            ]
          },
          "metadata": {},
          "execution_count": 6
        }
      ],
      "source": [
        "print(df['Embarked'].unique())\n",
        "print(df['Embarked'].count())\n",
        "df[df['Embarked'].isna()]\n",
        "\n",
        "#Embarked (port of embarcation: C = Cherbourg, Q = Queenstown, S = Southampton) has initial letters and also two non missing values"
      ]
    },
    {
      "cell_type": "code",
      "execution_count": null,
      "metadata": {
        "colab": {
          "base_uri": "https://localhost:8080/"
        },
        "id": "QWjv4mLvYM3_",
        "outputId": "3462a0e4-400b-423f-b52c-9e7c3359c71c"
      },
      "outputs": [
        {
          "output_type": "execute_result",
          "data": {
            "text/plain": [
              "0"
            ]
          },
          "metadata": {},
          "execution_count": 7
        }
      ],
      "source": [
        "# Two rows with Embarked missing values will be replaced with mode since it is only two rows\n",
        "df['Embarked'].fillna(df['Embarked'].mode()[0], inplace=True)\n",
        "df['Embarked'].isnull().sum()\n"
      ]
    },
    {
      "cell_type": "code",
      "execution_count": null,
      "metadata": {
        "colab": {
          "base_uri": "https://localhost:8080/"
        },
        "id": "__ysi83vhyMY",
        "outputId": "bed32e05-45d5-4383-def7-e2ae8b052709"
      },
      "outputs": [
        {
          "output_type": "stream",
          "name": "stdout",
          "text": [
            "<class 'pandas.core.frame.DataFrame'>\n",
            "RangeIndex: 891 entries, 0 to 890\n",
            "Data columns (total 11 columns):\n",
            " #   Column       Non-Null Count  Dtype  \n",
            "---  ------       --------------  -----  \n",
            " 0   PassengerId  891 non-null    int64  \n",
            " 1   Survived     891 non-null    int64  \n",
            " 2   Pclass       891 non-null    int64  \n",
            " 3   Name         891 non-null    object \n",
            " 4   Sex          891 non-null    object \n",
            " 5   Age          891 non-null    float64\n",
            " 6   SibSp        891 non-null    int64  \n",
            " 7   Parch        891 non-null    int64  \n",
            " 8   Ticket       891 non-null    object \n",
            " 9   Fare         891 non-null    float64\n",
            " 10  Embarked     891 non-null    object \n",
            "dtypes: float64(2), int64(5), object(4)\n",
            "memory usage: 76.7+ KB\n"
          ]
        }
      ],
      "source": [
        "# After data cleaning and preprocessing\n",
        "df.info()"
      ]
    },
    {
      "cell_type": "markdown",
      "metadata": {
        "id": "T72k6xMslCXS"
      },
      "source": [
        "## Data Visualization"
      ]
    },
    {
      "cell_type": "markdown",
      "metadata": {
        "id": "FWrOMfMllXxC"
      },
      "source": [
        "**Survival status in dataset using bar plot**"
      ]
    },
    {
      "cell_type": "code",
      "execution_count": null,
      "metadata": {
        "colab": {
          "base_uri": "https://localhost:8080/",
          "height": 492
        },
        "id": "qfM5QVIukZs7",
        "outputId": "c0ab44cc-6e44-4966-cda7-d4b2030d2446"
      },
      "outputs": [
        {
          "output_type": "display_data",
          "data": {
            "text/plain": [
              "<Figure size 640x480 with 1 Axes>"
            ],
            "image/png": "[encoded data removed]"
          },
          "metadata": {}
        }
      ],
      "source": [
        "# Count the number of survivors and non-survivors\n",
        "survived_counts = df['Survived'].value_counts()\n",
        "percentage = survived_counts / len(df) * 100\n",
        "\n",
        "# Create a bar plot to visualize the survival status\n",
        "plt.bar(survived_counts.index, survived_counts.values)\n",
        "plt.xticks([0, 1], ['Unsurvived', 'Survived'])\n",
        "plt.xlabel('Survival Status')\n",
        "plt.ylabel('Count')\n",
        "plt.title('Survival Status in Titanic Dataset')\n",
        "plt.show()"
      ]
    },
    {
      "cell_type": "code",
      "execution_count": null,
      "metadata": {
        "colab": {
          "base_uri": "https://localhost:8080/"
        },
        "id": "AThpOJSFnjSv",
        "outputId": "1cd17f05-595f-4909-d9fc-65d88ba352d6"
      },
      "outputs": [
        {
          "data": {
            "text/plain": [
              "0    549\n",
              "1    342\n",
              "Name: Survived, dtype: int64"
            ]
          },
          "execution_count": 26,
          "metadata": {},
          "output_type": "execute_result"
        }
      ],
      "source": [
        "survived_counts"
      ]
    },
    {
      "cell_type": "code",
      "execution_count": null,
      "metadata": {
        "id": "cnNZtDAhoBQr"
      },
      "outputs": [],
      "source": [
        "percentage # it shows that more than half of 891 people (61.6%) were not survived in titanic accident"
      ]
    },
    {
      "cell_type": "markdown",
      "metadata": {
        "id": "AlKBqhffm9Lx"
      },
      "source": [
        "**Survival status by sex**"
      ]
    },
    {
      "cell_type": "code",
      "execution_count": null,
      "metadata": {
        "colab": {
          "base_uri": "https://localhost:8080/",
          "height": 492
        },
        "id": "ikWBpGwAmHRb",
        "outputId": "22ad486d-b296-4424-c90f-116a2af244ea"
      },
      "outputs": [
        {
          "data": {
            "image/png": "[encoded data removed]",
            "text/plain": [
              "<Figure size 640x480 with 1 Axes>"
            ]
          },
          "metadata": {},
          "output_type": "display_data"
        }
      ],
      "source": [
        "# Create a countplot to visualize survival status by sex\n",
        "sns.countplot(data=df, x='Survived', hue='Sex')\n",
        "plt.xticks([0, 1], ['Unsurvived', 'Survived'])\n",
        "plt.xlabel('Survival Status')\n",
        "plt.ylabel('Count')\n",
        "plt.title('Survival Status by Sex in Titanic Dataset')\n",
        "plt.legend(title='Sex', labels=['Male', 'Female'])\n",
        "plt.show()"
      ]
    },
    {
      "cell_type": "code",
      "execution_count": null,
      "metadata": {
        "colab": {
          "base_uri": "https://localhost:8080/"
        },
        "id": "Bj6A6_43o0ss",
        "outputId": "c4180119-34e7-46d5-d64a-fd75cd711743"
      },
      "outputs": [
        {
          "name": "stdout",
          "output_type": "stream",
          "text": [
            "Sex     Survived\n",
            "female  0           25.796178\n",
            "        1           74.203822\n",
            "male    0           81.109185\n",
            "        1           18.890815\n",
            "dtype: float64\n"
          ]
        }
      ],
      "source": [
        "# Calculate the count of survivors and non-survivors by sex\n",
        "survival_by_sex = df.groupby(['Sex', 'Survived']).size()\n",
        "\n",
        "# Calculate the total count for each sex\n",
        "total_by_sex = df.groupby('Sex').size()\n",
        "\n",
        "# Calculate the percentage of survival for each sex\n",
        "percentage_by_sex = survival_by_sex / total_by_sex * 100\n",
        "\n",
        "# Print the percentage values\n",
        "print(percentage_by_sex)"
      ]
    },
    {
      "cell_type": "code",
      "execution_count": null,
      "metadata": {
        "colab": {
          "background_save": true,
          "base_uri": "https://localhost:8080/"
        },
        "id": "Id-FGysiA6Yt",
        "outputId": "d5d05174-ba85-4007-d62c-d8a5eeb3d504"
      },
      "outputs": [
        {
          "data": {
            "text/plain": [
              "Sex\n",
              "female    314\n",
              "male      577\n",
              "dtype: int64"
            ]
          },
          "execution_count": 30,
          "metadata": {},
          "output_type": "execute_result"
        }
      ],
      "source": [
        "total_by_sex # number of male and female"
      ]
    },
    {
      "cell_type": "code",
      "execution_count": null,
      "metadata": {
        "colab": {
          "background_save": true,
          "base_uri": "https://localhost:8080/"
        },
        "id": "6GD1IOl1AajP",
        "outputId": "601bd87e-065a-4b1b-b27d-351e022a9b1e"
      },
      "outputs": [
        {
          "name": "stdout",
          "output_type": "stream",
          "text": [
            "Male: 64.75869809203144%, Female: 35.24130190796858%\n"
          ]
        }
      ],
      "source": [
        "# calculate the percentage of each Sex in the dataset\n",
        "total = total_by_sex[0] + total_by_sex[1]\n",
        "female_percent = (total_by_sex[0] / total) * 100\n",
        "male_percent = (total_by_sex[1] / total) * 100\n",
        "print(\"Male: {}%, Female: {}%\".format(male_percent, female_percent))\n"
      ]
    },
    {
      "cell_type": "markdown",
      "metadata": {
        "id": "NLCkZqfuo6Md"
      },
      "source": [
        "We can conclude that although number of males are way more higher than females **(Male: 64.7%, Female: 35.2%)**, females were more likely to survive during titanic accident. 74% of females were survived while 18% of males were only survived."
      ]
    },
    {
      "cell_type": "markdown",
      "metadata": {
        "id": "XoLuc_j1tLIy"
      },
      "source": [
        "**Survival Status by Age in Titanic Dataset**"
      ]
    },
    {
      "cell_type": "code",
      "execution_count": null,
      "metadata": {
        "colab": {
          "base_uri": "https://localhost:8080/",
          "height": 492
        },
        "id": "_I_bu0TyrjI7",
        "outputId": "121b6027-7e9e-44c9-a3e7-cd199615a651"
      },
      "outputs": [
        {
          "data": {
            "image/png": "[encoded data removed]",
            "text/plain": [
              "<Figure size 640x480 with 1 Axes>"
            ]
          },
          "metadata": {},
          "output_type": "display_data"
        }
      ],
      "source": [
        "# Create bins for age groups\n",
        "bins = [0, 10, 20, 30, 40, 50, 60, 70, 80]\n",
        "\n",
        "# Create a histogram to visualize survival status by age\n",
        "plt.hist([df[df['Survived'] == 0]['Age'], df[df['Survived'] == 1]['Age']],\n",
        "         bins=bins, label=['Unsurvived', 'Survived'], color=['lightcoral', 'lightgreen'], edgecolor='black', alpha=0.7)\n",
        "\n",
        "plt.xlabel('Age')\n",
        "plt.ylabel('Count')\n",
        "plt.title('Survival Status by Age in Titanic Dataset')\n",
        "plt.legend()\n",
        "plt.show()"
      ]
    },
    {
      "cell_type": "markdown",
      "metadata": {
        "id": "uFkqiKactVxG"
      },
      "source": [
        "Findings: Child with age less than 10 were more likely to survive and 20-30 years old young adults were unsurvived the most."
      ]
    },
    {
      "cell_type": "code",
      "execution_count": null,
      "metadata": {
        "colab": {
          "base_uri": "https://localhost:8080/",
          "height": 452
        },
        "id": "ZqaJeLuPuWqM",
        "outputId": "86f69605-9a91-4e60-f326-6be7cded6be5"
      },
      "outputs": [
        {
          "data": {
            "image/png": "[encoded data removed]",
            "text/plain": [
              "<Figure size 640x480 with 1 Axes>"
            ]
          },
          "metadata": {},
          "output_type": "display_data"
        }
      ],
      "source": [
        "# Categorize the age values into age groups\n",
        "age_groups = pd.cut(df['Age'], bins=bins)\n",
        "\n",
        "# Count the number of passengers in each age group\n",
        "age_group_counts = age_groups.value_counts()\n",
        "\n",
        "# Calculate the percentage of passengers in each age group\n",
        "percentage_age_groups = (age_group_counts / age_group_counts.sum()) * 100\n",
        "\n",
        "# Create labels for the pie chart\n",
        "labels = age_group_counts.index.astype(str)\n",
        "\n",
        "# Create values for the pie chart\n",
        "values = percentage_age_groups.values\n",
        "\n",
        "# Create a pie chart to visualize the percentage of age groups\n",
        "_, _, autopcts = plt.pie(age_group_counts, labels=labels, startangle=90, autopct='', textprops={'color': 'white'})\n",
        "\n",
        "plt.title('Passengers in Age Groups')\n",
        "plt.axis('equal')\n",
        "\n",
        "# Create a custom legend with the percentage values\n",
        "legend_labels = [f'{label} ({value:.1f}%)' for label, value in zip(labels, values)]\n",
        "plt.legend(legend_labels, loc='upper right')\n",
        "\n",
        "# Add percentage labels outside the pie chart\n",
        "for autopct, label in zip(autopcts, labels):\n",
        "    plt.text(0.9, 0.1, autopct.get_text(), color='white', weight='bold')\n",
        "\n",
        "plt.show()"
      ]
    },
    {
      "cell_type": "markdown",
      "metadata": {
        "id": "wdax5VEmvoqr"
      },
      "source": [
        "20-30 years old people were on the titanic cruise the most (42.8%) but they were unsurvived the most."
      ]
    },
    {
      "cell_type": "markdown",
      "metadata": {
        "id": "SLX1FlblzMrG"
      },
      "source": [
        "**Percentage of Survived and Unsurvived Passengers in Age Groups**"
      ]
    },
    {
      "cell_type": "code",
      "execution_count": null,
      "metadata": {
        "colab": {
          "base_uri": "https://localhost:8080/",
          "height": 584
        },
        "id": "cfrjVz6SvkT4",
        "outputId": "651d8844-ff48-4e55-e2d8-6fc68960851d"
      },
      "outputs": [
        {
          "data": {
            "image/png": "[encoded data removed]",
            "text/plain": [
              "<Figure size 1000x600 with 1 Axes>"
            ]
          },
          "metadata": {},
          "output_type": "display_data"
        }
      ],
      "source": [
        "# Categorize the age values into age groups\n",
        "df['AgeGroup'] = pd.cut(df['Age'], bins=bins)\n",
        "\n",
        "# Calculate the total count of passengers in each age group\n",
        "age_group_counts = df['AgeGroup'].value_counts()\n",
        "\n",
        "# Calculate the count of survived passengers in each age group\n",
        "survived_counts = df[df['Survived'] == 1]['AgeGroup'].value_counts()\n",
        "\n",
        "# Calculate the count of unsurvived passengers in each age group\n",
        "unsurvived_counts = df[df['Survived'] == 0]['AgeGroup'].value_counts()\n",
        "\n",
        "# Calculate the percentages of age groups for survived and unsurvived passengers\n",
        "survived_percentages = (survived_counts / age_group_counts) * 100\n",
        "unsurvived_percentages = (unsurvived_counts / age_group_counts) * 100\n",
        "\n",
        "# Create a bar chart to visualize the percentages\n",
        "plt.figure(figsize=(10, 6))\n",
        "x = age_group_counts.index.astype(str)\n",
        "width = 0.35\n",
        "\n",
        "plt.bar(x, survived_percentages, width, label='Survived')\n",
        "plt.bar(x, unsurvived_percentages, width, bottom=survived_percentages, label='Unsurvived')\n",
        "\n",
        "plt.xlabel('Age Group')\n",
        "plt.ylabel('Percentage')\n",
        "plt.title('Percentage of Survived and Unsurvived Passengers in Age Groups')\n",
        "plt.legend()\n",
        "plt.show()"
      ]
    },
    {
      "cell_type": "code",
      "execution_count": null,
      "metadata": {
        "colab": {
          "base_uri": "https://localhost:8080/"
        },
        "id": "_RG0OHv2wwDG",
        "outputId": "56648312-6266-460e-dfaa-d0d69637cb90"
      },
      "outputs": [
        {
          "data": {
            "text/plain": [
              "(20, 30]    32.275132\n",
              "(30, 40]    44.864865\n",
              "(10, 20]    37.931034\n",
              "(40, 50]    39.285714\n",
              "(0, 10]     54.385965\n",
              "(50, 60]    40.476190\n",
              "(60, 70]    22.222222\n",
              "(70, 80]    25.000000\n",
              "Name: AgeGroup, dtype: float64"
            ]
          },
          "execution_count": 35,
          "metadata": {},
          "output_type": "execute_result"
        }
      ],
      "source": [
        "survived_percentages\n"
      ]
    },
    {
      "cell_type": "code",
      "execution_count": null,
      "metadata": {
        "colab": {
          "base_uri": "https://localhost:8080/"
        },
        "id": "BxVG5Q_Xw1VG",
        "outputId": "5bb204a4-2545-45eb-bcf7-abaaa7ffa387"
      },
      "outputs": [
        {
          "data": {
            "text/plain": [
              "(20, 30]    67.724868\n",
              "(30, 40]    55.135135\n",
              "(10, 20]    62.068966\n",
              "(40, 50]    60.714286\n",
              "(0, 10]     45.614035\n",
              "(50, 60]    59.523810\n",
              "(60, 70]    77.777778\n",
              "(70, 80]    75.000000\n",
              "Name: AgeGroup, dtype: float64"
            ]
          },
          "execution_count": 36,
          "metadata": {},
          "output_type": "execute_result"
        }
      ],
      "source": [
        "unsurvived_percentages"
      ]
    },
    {
      "cell_type": "markdown",
      "metadata": {
        "id": "JoeySKfRxMrj"
      },
      "source": [
        "Findings: Interesting fact is that even though the number of age group (20, 30] were unsurvived the most, if we calculate the survival percentage of its own age group, (70, 80] were unsurvived the most (75% of total 70-80 yrs old)"
      ]
    },
    {
      "cell_type": "markdown",
      "metadata": {
        "id": "EQy0ev-4jszX"
      },
      "source": [
        "**Percentage  of survival by Sex and Pclass**"
      ]
    },
    {
      "cell_type": "code",
      "execution_count": null,
      "metadata": {
        "colab": {
          "base_uri": "https://localhost:8080/"
        },
        "id": "hsBRqdfRDUUj",
        "outputId": "82afc3d6-5ea4-4549-8740-c3cfc4c4456f"
      },
      "outputs": [
        {
          "data": {
            "text/plain": [
              "Sex     Pclass\n",
              "female  1          94\n",
              "        2          76\n",
              "        3         144\n",
              "male    1         122\n",
              "        2         108\n",
              "        3         347\n",
              "Name: Survived, dtype: int64"
            ]
          },
          "execution_count": 42,
          "metadata": {},
          "output_type": "execute_result"
        }
      ],
      "source": [
        "#Total distribution of people grouped by Sex and Pclass\n",
        "pclass_total = df.groupby(['Sex', 'Pclass']).count()['Survived']\n",
        "pclass_total"
      ]
    },
    {
      "cell_type": "code",
      "execution_count": null,
      "metadata": {
        "colab": {
          "base_uri": "https://localhost:8080/"
        },
        "id": "yJXBiGgHEhBX",
        "outputId": "65cbd204-1cd7-439a-bb57-cf76e282f9c9"
      },
      "outputs": [
        {
          "name": "stderr",
          "output_type": "stream",
          "text": [
            "<ipython-input-43-54138b3dda90>:1: FutureWarning: The default value of numeric_only in DataFrameGroupBy.sum is deprecated. In a future version, numeric_only will default to False. Either specify numeric_only or select only columns which should be valid for the function.\n",
            "  pclass_survived = df.groupby(['Sex', 'Pclass']).sum()['Survived']\n"
          ]
        },
        {
          "data": {
            "text/plain": [
              "Sex     Pclass\n",
              "female  1         91\n",
              "        2         70\n",
              "        3         72\n",
              "male    1         45\n",
              "        2         17\n",
              "        3         47\n",
              "Name: Survived, dtype: int64"
            ]
          },
          "execution_count": 43,
          "metadata": {},
          "output_type": "execute_result"
        }
      ],
      "source": [
        "#Total distribution of survived people grouped by Sex and Pclass\n",
        "pclass_survived = df.groupby(['Sex', 'Pclass']).sum()['Survived']\n",
        "pclass_survived"
      ]
    },
    {
      "cell_type": "code",
      "execution_count": null,
      "metadata": {
        "colab": {
          "base_uri": "https://localhost:8080/"
        },
        "id": "FcYj-D6LkGJX",
        "outputId": "8afb577a-68fc-41ff-efff-d61c17b6a6b2"
      },
      "outputs": [
        {
          "data": {
            "text/plain": [
              "Sex     Pclass\n",
              "female  1         96.808511\n",
              "        2         92.105263\n",
              "        3         50.000000\n",
              "male    1         36.885246\n",
              "        2         15.740741\n",
              "        3         13.544669\n",
              "Name: Survived, dtype: float64"
            ]
          },
          "execution_count": 45,
          "metadata": {},
          "output_type": "execute_result"
        }
      ],
      "source": [
        "pclass_survived/pclass_total * 100"
      ]
    },
    {
      "cell_type": "code",
      "execution_count": null,
      "metadata": {
        "colab": {
          "base_uri": "https://localhost:8080/",
          "height": 472
        },
        "id": "HYLmlDwblBpo",
        "outputId": "98d0e792-2146-4f3d-9247-913d083de63c"
      },
      "outputs": [
        {
          "data": {
            "image/png": "[encoded data removed]",
            "text/plain": [
              "<Figure size 640x480 with 1 Axes>"
            ]
          },
          "metadata": {},
          "output_type": "display_data"
        }
      ],
      "source": [
        "sns.barplot(x=\"Sex\", y=\"Survived\", hue=\"Pclass\", palette=\"Set2\", data=df)\n",
        "plt.xlabel('')\n",
        "plt.ylabel('Percentage of survivors')\n",
        "plt.title('Chances of surviving, by class and gender')\n",
        "plt.show()"
      ]
    },
    {
      "cell_type": "markdown",
      "metadata": {
        "id": "sRGF8QCNrddX"
      },
      "source": [
        "Findings: passengers from class 1 (both male and female) had more chances to survive than other classes. And class 3 passengers were unsurvived the most."
      ]
    },
    {
      "cell_type": "markdown",
      "metadata": {
        "id": "o-7lKf874DUE"
      },
      "source": [
        "**Percentage of survival by Age and Pclass**"
      ]
    },
    {
      "cell_type": "code",
      "execution_count": null,
      "metadata": {
        "colab": {
          "base_uri": "https://localhost:8080/",
          "height": 584
        },
        "id": "w6O1UiEpvxLm",
        "outputId": "4270b741-6d9e-430f-e756-2771b8b89f70"
      },
      "outputs": [
        {
          "data": {
            "image/png": "[encoded data removed]",
            "text/plain": [
              "<Figure size 1000x600 with 2 Axes>"
            ]
          },
          "metadata": {},
          "output_type": "display_data"
        }
      ],
      "source": [
        "# Calculate the total count of passengers in each age group and Pclass\n",
        "age_group_counts = df.groupby(['AgeGroup', 'Pclass'])['PassengerId'].count()\n",
        "\n",
        "# Calculate the count of survived passengers in each age group and Pclass\n",
        "survived_counts = df[df['Survived'] == 1].groupby(['AgeGroup', 'Pclass'])['PassengerId'].count()\n",
        "\n",
        "# Calculate the percentage of survival by age group and Pclass\n",
        "survival_rates = (survived_counts / age_group_counts) * 100\n",
        "\n",
        "# Convert the DataFrame to a pivot table for plotting\n",
        "pivot_table = survival_rates.unstack()\n",
        "\n",
        "# Plot the heatmap\n",
        "plt.figure(figsize=(10, 6))\n",
        "sns.heatmap(pivot_table, annot=True, fmt='.1f', cmap='YlGnBu')\n",
        "\n",
        "plt.xlabel('Passenger Class')\n",
        "plt.ylabel('Age Group')\n",
        "plt.title('Percentage of Survival by Age Group and Passenger Class')\n",
        "\n",
        "plt.show()"
      ]
    },
    {
      "cell_type": "markdown",
      "metadata": {
        "id": "j1S_vOGc9mwd"
      },
      "source": [
        "**Age distribution based on gender**"
      ]
    },
    {
      "cell_type": "code",
      "execution_count": null,
      "metadata": {
        "colab": {
          "base_uri": "https://localhost:8080/",
          "height": 584
        },
        "id": "AQ9hr7dT9jBm",
        "outputId": "bdb2ab3b-0a80-462f-d95a-651743d869e6"
      },
      "outputs": [
        {
          "data": {
            "image/png": "[encoded data removed]",
            "text/plain": [
              "<Figure size 600x600 with 1 Axes>"
            ]
          },
          "metadata": {},
          "output_type": "display_data"
        }
      ],
      "source": [
        "# Plot violin plots\n",
        "plt.figure(figsize=(6, 6))\n",
        "sns.boxenplot(data=df, x='Sex', y='Age', palette='Set3')\n",
        "\n",
        "plt.xlabel('Gender')\n",
        "plt.ylabel('Age')\n",
        "plt.title('Age Distribution based on Gender')\n",
        "plt.show()"
      ]
    },
    {
      "cell_type": "markdown",
      "metadata": {
        "id": "nmBk3Sxt9OCY"
      },
      "source": [
        "**Number of siblings and parents/childs the passengers were travelling with**\n",
        "\n",
        "\n"
      ]
    },
    {
      "cell_type": "code",
      "execution_count": null,
      "metadata": {
        "colab": {
          "base_uri": "https://localhost:8080/",
          "height": 584
        },
        "id": "iOKhezlP8-zv",
        "outputId": "5f9c7944-3e99-4469-d492-01285eb7891b"
      },
      "outputs": [
        {
          "data": {
            "image/png": "[encoded data removed]",
            "text/plain": [
              "<Figure size 1200x600 with 2 Axes>"
            ]
          },
          "metadata": {},
          "output_type": "display_data"
        }
      ],
      "source": [
        "f, (ax1, ax2) = plt.subplots(1, 2, figsize=(12, 6), sharex=False)\n",
        "\n",
        "sns.countplot(x=\"SibSp\", palette=\"Set3\", data=df, ax=ax1)\n",
        "ax1.set_title(\"Number of siblings passengers were travelling with\")\n",
        "ax1.set_xlabel(\"Number of siblings\")\n",
        "ax1.set_ylabel(\"Number of passengers\")\n",
        "\n",
        "sns.countplot(x=\"Parch\", palette=\"Set3\", data=df, ax=ax2)\n",
        "ax2.set_title(\"Number of parents / sons passengers were travelling with\")\n",
        "ax2.set_ylabel(\"Number of passengers\")\n",
        "ax2.set_xlabel(\"Number of Parents / Child\")\n",
        "\n",
        "plt.show()"
      ]
    },
    {
      "cell_type": "markdown",
      "metadata": {
        "id": "nmLWteGK-vsP"
      },
      "source": [
        "Findings: Passengers tended to travel alone compared to travelling with siblings/parents/children."
      ]
    },
    {
      "cell_type": "markdown",
      "metadata": {
        "id": "nBG-SfbNB06l"
      },
      "source": [
        "**Fare distribution of passengers**"
      ]
    },
    {
      "cell_type": "code",
      "execution_count": null,
      "metadata": {
        "colab": {
          "base_uri": "https://localhost:8080/",
          "height": 584
        },
        "id": "MOEkj47tBnvs",
        "outputId": "58d6f1f0-580d-4492-d9a1-84a62b756121"
      },
      "outputs": [
        {
          "data": {
            "image/png": "[encoded data removed]",
            "text/plain": [
              "<Figure size 1000x600 with 1 Axes>"
            ]
          },
          "metadata": {},
          "output_type": "display_data"
        }
      ],
      "source": [
        "# Plot the histogram\n",
        "plt.figure(figsize=(10, 6))\n",
        "plt.hist(df['Fare'], bins=20, edgecolor='black')\n",
        "\n",
        "plt.xlabel('Fare')\n",
        "plt.ylabel('Count')\n",
        "plt.title('Fare Distribution')\n",
        "plt.show()"
      ]
    },
    {
      "cell_type": "code",
      "execution_count": null,
      "metadata": {
        "colab": {
          "base_uri": "https://localhost:8080/",
          "height": 326
        },
        "id": "0GOxLzdcA669",
        "outputId": "abf5bcb5-4f3f-4e43-b48b-9b2e537683a8"
      },
      "outputs": [
        {
          "name": "stderr",
          "output_type": "stream",
          "text": [
            "<ipython-input-61-2f6f6606aa2c>:1: FutureWarning: The default value of numeric_only in DataFrame.corr is deprecated. In a future version, it will default to False. Select only valid columns or specify the value of numeric_only to silence this warning.\n",
            "  df.corr()\n"
          ]
        },
        {
          "data": {
            "text/html": [
              "\n",
              "  <div id=\"df-641965fc-79b3-4088-acfd-4aced52d1cfa\">\n",
              "    <div class=\"colab-df-container\">\n",
              "      <div>\n",
              "<style scoped>\n",
              "    .dataframe tbody tr th:only-of-type {\n",
              "        vertical-align: middle;\n",
              "    }\n",
              "\n",
              "    .dataframe tbody tr th {\n",
              "        vertical-align: top;\n",
              "    }\n",
              "\n",
              "    .dataframe thead th {\n",
              "        text-align: right;\n",
              "    }\n",
              "</style>\n",
              "<table border=\"1\" class=\"dataframe\">\n",
              "  <thead>\n",
              "    <tr style=\"text-align: right;\">\n",
              "      <th></th>\n",
              "      <th>PassengerId</th>\n",
              "      <th>Survived</th>\n",
              "      <th>Pclass</th>\n",
              "      <th>Age</th>\n",
              "      <th>SibSp</th>\n",
              "      <th>Parch</th>\n",
              "      <th>Fare</th>\n",
              "    </tr>\n",
              "  </thead>\n",
              "  <tbody>\n",
              "    <tr>\n",
              "      <th>PassengerId</th>\n",
              "      <td>1.000000</td>\n",
              "      <td>-0.005007</td>\n",
              "      <td>-0.035144</td>\n",
              "      <td>0.035948</td>\n",
              "      <td>-0.057527</td>\n",
              "      <td>-0.001652</td>\n",
              "      <td>0.012658</td>\n",
              "    </tr>\n",
              "    <tr>\n",
              "      <th>Survived</th>\n",
              "      <td>-0.005007</td>\n",
              "      <td>1.000000</td>\n",
              "      <td>-0.338481</td>\n",
              "      <td>-0.047266</td>\n",
              "      <td>-0.035322</td>\n",
              "      <td>0.081629</td>\n",
              "      <td>0.257307</td>\n",
              "    </tr>\n",
              "    <tr>\n",
              "      <th>Pclass</th>\n",
              "      <td>-0.035144</td>\n",
              "      <td>-0.338481</td>\n",
              "      <td>1.000000</td>\n",
              "      <td>-0.408557</td>\n",
              "      <td>0.083081</td>\n",
              "      <td>0.018443</td>\n",
              "      <td>-0.549500</td>\n",
              "    </tr>\n",
              "    <tr>\n",
              "      <th>Age</th>\n",
              "      <td>0.035948</td>\n",
              "      <td>-0.047266</td>\n",
              "      <td>-0.408557</td>\n",
              "      <td>1.000000</td>\n",
              "      <td>-0.243302</td>\n",
              "      <td>-0.171361</td>\n",
              "      <td>0.123918</td>\n",
              "    </tr>\n",
              "    <tr>\n",
              "      <th>SibSp</th>\n",
              "      <td>-0.057527</td>\n",
              "      <td>-0.035322</td>\n",
              "      <td>0.083081</td>\n",
              "      <td>-0.243302</td>\n",
              "      <td>1.000000</td>\n",
              "      <td>0.414838</td>\n",
              "      <td>0.159651</td>\n",
              "    </tr>\n",
              "    <tr>\n",
              "      <th>Parch</th>\n",
              "      <td>-0.001652</td>\n",
              "      <td>0.081629</td>\n",
              "      <td>0.018443</td>\n",
              "      <td>-0.171361</td>\n",
              "      <td>0.414838</td>\n",
              "      <td>1.000000</td>\n",
              "      <td>0.216225</td>\n",
              "    </tr>\n",
              "    <tr>\n",
              "      <th>Fare</th>\n",
              "      <td>0.012658</td>\n",
              "      <td>0.257307</td>\n",
              "      <td>-0.549500</td>\n",
              "      <td>0.123918</td>\n",
              "      <td>0.159651</td>\n",
              "      <td>0.216225</td>\n",
              "      <td>1.000000</td>\n",
              "    </tr>\n",
              "  </tbody>\n",
              "</table>\n",
              "</div>\n",
              "      <button class=\"colab-df-convert\" onclick=\"convertToInteractive('df-641965fc-79b3-4088-acfd-4aced52d1cfa')\"\n",
              "              title=\"Convert this dataframe to an interactive table.\"\n",
              "              style=\"display:none;\">\n",
              "        \n",
              "  <svg xmlns=\"http://www.w3.org/2000/svg\" height=\"24px\"viewBox=\"0 0 24 24\"\n",
              "       width=\"24px\">\n",
              "    <path d=\"M0 0h24v24H0V0z\" fill=\"none\"/>\n",
              "    <path d=\"M18.56 5.44l.94 2.06.94-2.06 2.06-.94-2.06-.94-.94-2.06-.94 2.06-2.06.94zm-11 1L8.5 8.5l.94-2.06 2.06-.94-2.06-.94L8.5 2.5l-.94 2.06-2.06.94zm10 10l.94 2.06.94-2.06 2.06-.94-2.06-.94-.94-2.06-.94 2.06-2.06.94z\"/><path d=\"M17.41 7.96l-1.37-1.37c-.4-.4-.92-.59-1.43-.59-.52 0-1.04.2-1.43.59L10.3 9.45l-7.72 7.72c-.78.78-.78 2.05 0 2.83L4 21.41c.39.39.9.59 1.41.59.51 0 1.02-.2 1.41-.59l7.78-7.78 2.81-2.81c.8-.78.8-2.07 0-2.86zM5.41 20L4 18.59l7.72-7.72 1.47 1.35L5.41 20z\"/>\n",
              "  </svg>\n",
              "      </button>\n",
              "      \n",
              "  <style>\n",
              "    .colab-df-container {\n",
              "      display:flex;\n",
              "      flex-wrap:wrap;\n",
              "      gap: 12px;\n",
              "    }\n",
              "\n",
              "    .colab-df-convert {\n",
              "      background-color: #E8F0FE;\n",
              "      border: none;\n",
              "      border-radius: 50%;\n",
              "      cursor: pointer;\n",
              "      display: none;\n",
              "      fill: #1967D2;\n",
              "      height: 32px;\n",
              "      padding: 0 0 0 0;\n",
              "      width: 32px;\n",
              "    }\n",
              "\n",
              "    .colab-df-convert:hover {\n",
              "      background-color: #E2EBFA;\n",
              "      box-shadow: 0px 1px 2px rgba(60, 64, 67, 0.3), 0px 1px 3px 1px rgba(60, 64, 67, 0.15);\n",
              "      fill: #174EA6;\n",
              "    }\n",
              "\n",
              "    [theme=dark] .colab-df-convert {\n",
              "      background-color: #3B4455;\n",
              "      fill: #D2E3FC;\n",
              "    }\n",
              "\n",
              "    [theme=dark] .colab-df-convert:hover {\n",
              "      background-color: #434B5C;\n",
              "      box-shadow: 0px 1px 3px 1px rgba(0, 0, 0, 0.15);\n",
              "      filter: drop-shadow(0px 1px 2px rgba(0, 0, 0, 0.3));\n",
              "      fill: #FFFFFF;\n",
              "    }\n",
              "  </style>\n",
              "\n",
              "      <script>\n",
              "        const buttonEl =\n",
              "          document.querySelector('#df-641965fc-79b3-4088-acfd-4aced52d1cfa button.colab-df-convert');\n",
              "        buttonEl.style.display =\n",
              "          google.colab.kernel.accessAllowed ? 'block' : 'none';\n",
              "\n",
              "        async function convertToInteractive(key) {\n",
              "          const element = document.querySelector('#df-641965fc-79b3-4088-acfd-4aced52d1cfa');\n",
              "          const dataTable =\n",
              "            await google.colab.kernel.invokeFunction('convertToInteractive',\n",
              "                                                     [key], {});\n",
              "          if (!dataTable) return;\n",
              "\n",
              "          const docLinkHtml = 'Like what you see? Visit the ' +\n",
              "            '<a target=\"_blank\" href=https://colab.research.google.com/notebooks/data_table.ipynb>data table notebook</a>'\n",
              "            + ' to learn more about interactive tables.';\n",
              "          element.innerHTML = '';\n",
              "          dataTable['output_type'] = 'display_data';\n",
              "          await google.colab.output.renderOutput(dataTable, element);\n",
              "          const docLink = document.createElement('div');\n",
              "          docLink.innerHTML = docLinkHtml;\n",
              "          element.appendChild(docLink);\n",
              "        }\n",
              "      </script>\n",
              "    </div>\n",
              "  </div>\n",
              "  "
            ],
            "text/plain": [
              "             PassengerId  Survived    Pclass       Age     SibSp     Parch  \\\n",
              "PassengerId     1.000000 -0.005007 -0.035144  0.035948 -0.057527 -0.001652   \n",
              "Survived       -0.005007  1.000000 -0.338481 -0.047266 -0.035322  0.081629   \n",
              "Pclass         -0.035144 -0.338481  1.000000 -0.408557  0.083081  0.018443   \n",
              "Age             0.035948 -0.047266 -0.408557  1.000000 -0.243302 -0.171361   \n",
              "SibSp          -0.057527 -0.035322  0.083081 -0.243302  1.000000  0.414838   \n",
              "Parch          -0.001652  0.081629  0.018443 -0.171361  0.414838  1.000000   \n",
              "Fare            0.012658  0.257307 -0.549500  0.123918  0.159651  0.216225   \n",
              "\n",
              "                 Fare  \n",
              "PassengerId  0.012658  \n",
              "Survived     0.257307  \n",
              "Pclass      -0.549500  \n",
              "Age          0.123918  \n",
              "SibSp        0.159651  \n",
              "Parch        0.216225  \n",
              "Fare         1.000000  "
            ]
          },
          "execution_count": 61,
          "metadata": {},
          "output_type": "execute_result"
        }
      ],
      "source": [
        "df.corr()"
      ]
    },
    {
      "cell_type": "code",
      "execution_count": null,
      "metadata": {
        "colab": {
          "base_uri": "https://localhost:8080/",
          "height": 825
        },
        "id": "g1ueFYUHCKRU",
        "outputId": "27ec64c1-2852-4219-b6fe-ac5713449b30"
      },
      "outputs": [
        {
          "name": "stderr",
          "output_type": "stream",
          "text": [
            "<ipython-input-65-59fa3a5c879f>:2: FutureWarning: The default value of numeric_only in DataFrame.corr is deprecated. In a future version, it will default to False. Select only valid columns or specify the value of numeric_only to silence this warning.\n",
            "  sns.heatmap(df.corr(), annot=True, fmt='.2f', linewidths=2)\n"
          ]
        },
        {
          "data": {
            "text/plain": [
              "<Axes: >"
            ]
          },
          "execution_count": 65,
          "metadata": {},
          "output_type": "execute_result"
        },
        {
          "data": {
            "image/png": "[encoded data removed]",
            "text/plain": [
              "<Figure size 800x800 with 2 Axes>"
            ]
          },
          "metadata": {},
          "output_type": "display_data"
        }
      ],
      "source": [
        "plt.figure(figsize=(8, 8))\n",
        "sns.heatmap(df.corr(), annot=True, fmt='.2f', linewidths=2)"
      ]
    },
    {
      "cell_type": "markdown",
      "source": [
        "# Encoding nominal features"
      ],
      "metadata": {
        "id": "h2iZQJBxG2wU"
      }
    },
    {
      "cell_type": "markdown",
      "source": [
        "Nominal columns such as Sex and Embarked are encoded using one hot encoding"
      ],
      "metadata": {
        "id": "MPUB76r6Jv1q"
      }
    },
    {
      "cell_type": "code",
      "source": [
        "from sklearn.preprocessing import OneHotEncoder\n",
        "\n",
        "# Create a OneHotEncoder object\n",
        "encoder = OneHotEncoder()\n",
        "\n",
        "# Fit and transform 'Sex' column\n",
        "sex_encoded = encoder.fit_transform(df[['Sex']]).toarray()\n",
        "df_sex_encoded = pd.DataFrame(sex_encoded, columns=['Sex_' + label for label in encoder.categories_[0]])\n",
        "\n",
        "# Fit and transform 'Embarked' column\n",
        "embarked_encoded = encoder.fit_transform(df[['Embarked']].astype(str)).toarray()\n",
        "df_embarked_encoded = pd.DataFrame(embarked_encoded, columns=['Embarked_' + label for label in encoder.categories_[0]])\n",
        "\n",
        "# Concatenate the encoded columns to the original DataFrame\n",
        "df_encoded = pd.concat([df, df_sex_encoded, df_embarked_encoded], axis=1)\n",
        "\n",
        "# Print the encoded DataFrame\n",
        "print(df_encoded.head())"
      ],
      "metadata": {
        "colab": {
          "base_uri": "https://localhost:8080/"
        },
        "id": "I1Xjt-lG5pBJ",
        "outputId": "a5acf6de-dec7-4f9a-bde4-e5534d4c750a"
      },
      "execution_count": null,
      "outputs": [
        {
          "output_type": "stream",
          "name": "stdout",
          "text": [
            "   PassengerId  Survived  Pclass  \\\n",
            "0            1         0       3   \n",
            "1            2         1       1   \n",
            "2            3         1       3   \n",
            "3            4         1       1   \n",
            "4            5         0       3   \n",
            "\n",
            "                                                Name     Sex  Age  SibSp  \\\n",
            "0                            Braund, Mr. Owen Harris    male   22      1   \n",
            "1  Cumings, Mrs. John Bradley (Florence Briggs Th...  female   38      1   \n",
            "2                             Heikkinen, Miss. Laina  female   26      0   \n",
            "3       Futrelle, Mrs. Jacques Heath (Lily May Peel)  female   35      1   \n",
            "4                           Allen, Mr. William Henry    male   35      0   \n",
            "\n",
            "   Parch            Ticket     Fare Embarked  Sex_female  Sex_male  \\\n",
            "0      0         A/5 21171   7.2500        S         0.0       1.0   \n",
            "1      0          PC 17599  71.2833        C         1.0       0.0   \n",
            "2      0  STON/O2. 3101282   7.9250        S         1.0       0.0   \n",
            "3      0            113803  53.1000        S         1.0       0.0   \n",
            "4      0            373450   8.0500        S         0.0       1.0   \n",
            "\n",
            "   Embarked_C  Embarked_Q  Embarked_S  \n",
            "0         0.0         0.0         1.0  \n",
            "1         1.0         0.0         0.0  \n",
            "2         0.0         0.0         1.0  \n",
            "3         0.0         0.0         1.0  \n",
            "4         0.0         0.0         1.0  \n"
          ]
        }
      ]
    },
    {
      "cell_type": "markdown",
      "source": [
        "**Separating features and target**\n"
      ],
      "metadata": {
        "id": "R-3JICaQmejT"
      }
    },
    {
      "cell_type": "code",
      "source": [
        "X = df_encoded.drop(columns=['PassengerId', 'Name', 'Ticket', 'Survived','Embarked', 'Sex'], axis=1) #features\n",
        "Y = df_encoded['Survived'] #target"
      ],
      "metadata": {
        "id": "oQboTsltHyle"
      },
      "execution_count": null,
      "outputs": []
    },
    {
      "cell_type": "markdown",
      "source": [
        "# Train/test Splitting\n"
      ],
      "metadata": {
        "id": "lPAq-HC-pr8d"
      }
    },
    {
      "cell_type": "code",
      "source": [
        "from sklearn.model_selection import train_test_split\n",
        "\n",
        "X_train, X_test, Y_train, Y_test = train_test_split(X,Y, test_size=0.2, random_state=2, stratify=Y)"
      ],
      "metadata": {
        "id": "4bc3NDAnpCfO"
      },
      "execution_count": null,
      "outputs": []
    },
    {
      "cell_type": "code",
      "source": [
        "print(\"Training size: \", Y_train.shape)\n",
        "print(\"Testing size: \", Y_test.shape)"
      ],
      "metadata": {
        "colab": {
          "base_uri": "https://localhost:8080/"
        },
        "id": "5a1p_sgt0ZsC",
        "outputId": "90fd2f0b-006a-498e-854b-5385fdb448a3"
      },
      "execution_count": null,
      "outputs": [
        {
          "output_type": "stream",
          "name": "stdout",
          "text": [
            "Training size:  (712,)\n",
            "Testing size:  (179,)\n"
          ]
        }
      ]
    },
    {
      "cell_type": "markdown",
      "source": [
        "To achieve optimal performance, many machine learning and optimization algorithms necessitate feature scaling. In this context, we will utilize the StandardScaler class from scikit-learn's preprocessing module to standardize the features.\n"
      ],
      "metadata": {
        "id": "yy7zDDsArtVP"
      }
    },
    {
      "cell_type": "code",
      "source": [
        "from sklearn.preprocessing import StandardScaler\n",
        "\n",
        "sc = StandardScaler()\n",
        "sc.fit(X_train)\n",
        "X_train_std = sc.transform(X_train)\n",
        "X_test_std = sc.transform(X_test)"
      ],
      "metadata": {
        "id": "Vw_ZfKrnq6KT"
      },
      "execution_count": null,
      "outputs": []
    },
    {
      "cell_type": "markdown",
      "source": [
        "# Training Adaptive Linear Neuron(Perceptron) Model"
      ],
      "metadata": {
        "id": "sq1w5YriM5Fp"
      }
    },
    {
      "cell_type": "code",
      "source": [
        "from sklearn.linear_model import Perceptron\n",
        "\n",
        "ppn = Perceptron(eta0=0.001, random_state=1)\n",
        "ppn.fit(X_train_std, Y_train)"
      ],
      "metadata": {
        "colab": {
          "base_uri": "https://localhost:8080/",
          "height": 95
        },
        "id": "ZOcKQXnsNBzq",
        "outputId": "9c9a9979-1ab1-4180-b140-e737fe92d640"
      },
      "execution_count": null,
      "outputs": [
        {
          "output_type": "execute_result",
          "data": {
            "text/plain": [
              "Perceptron(eta0=0.001, random_state=1)"
            ],
            "text/html": [
              "<style>#sk-container-id-12 {color: black;background-color: white;}#sk-container-id-12 pre{padding: 0;}#sk-container-id-12 div.sk-toggleable {background-color: white;}#sk-container-id-12 label.sk-toggleable__label {cursor: pointer;display: block;width: 100%;margin-bottom: 0;padding: 0.3em;box-sizing: border-box;text-align: center;}#sk-container-id-12 label.sk-toggleable__label-arrow:before {content: \"▸\";float: left;margin-right: 0.25em;color: #696969;}#sk-container-id-12 label.sk-toggleable__label-arrow:hover:before {color: black;}#sk-container-id-12 div.sk-estimator:hover label.sk-toggleable__label-arrow:before {color: black;}#sk-container-id-12 div.sk-toggleable__content {max-height: 0;max-width: 0;overflow: hidden;text-align: left;background-color: #f0f8ff;}#sk-container-id-12 div.sk-toggleable__content pre {margin: 0.2em;color: black;border-radius: 0.25em;background-color: #f0f8ff;}#sk-container-id-12 input.sk-toggleable__control:checked~div.sk-toggleable__content {max-height: 200px;max-width: 100%;overflow: auto;}#sk-container-id-12 input.sk-toggleable__control:checked~label.sk-toggleable__label-arrow:before {content: \"▾\";}#sk-container-id-12 div.sk-estimator input.sk-toggleable__control:checked~label.sk-toggleable__label {background-color: #d4ebff;}#sk-container-id-12 div.sk-label input.sk-toggleable__control:checked~label.sk-toggleable__label {background-color: #d4ebff;}#sk-container-id-12 input.sk-hidden--visually {border: 0;clip: rect(1px 1px 1px 1px);clip: rect(1px, 1px, 1px, 1px);height: 1px;margin: -1px;overflow: hidden;padding: 0;position: absolute;width: 1px;}#sk-container-id-12 div.sk-estimator {font-family: monospace;background-color: #f0f8ff;border: 1px dotted black;border-radius: 0.25em;box-sizing: border-box;margin-bottom: 0.5em;}#sk-container-id-12 div.sk-estimator:hover {background-color: #d4ebff;}#sk-container-id-12 div.sk-parallel-item::after {content: \"\";width: 100%;border-bottom: 1px solid gray;flex-grow: 1;}#sk-container-id-12 div.sk-label:hover label.sk-toggleable__label {background-color: #d4ebff;}#sk-container-id-12 div.sk-serial::before {content: \"\";position: absolute;border-left: 1px solid gray;box-sizing: border-box;top: 0;bottom: 0;left: 50%;z-index: 0;}#sk-container-id-12 div.sk-serial {display: flex;flex-direction: column;align-items: center;background-color: white;padding-right: 0.2em;padding-left: 0.2em;position: relative;}#sk-container-id-12 div.sk-item {position: relative;z-index: 1;}#sk-container-id-12 div.sk-parallel {display: flex;align-items: stretch;justify-content: center;background-color: white;position: relative;}#sk-container-id-12 div.sk-item::before, #sk-container-id-12 div.sk-parallel-item::before {content: \"\";position: absolute;border-left: 1px solid gray;box-sizing: border-box;top: 0;bottom: 0;left: 50%;z-index: -1;}#sk-container-id-12 div.sk-parallel-item {display: flex;flex-direction: column;z-index: 1;position: relative;background-color: white;}#sk-container-id-12 div.sk-parallel-item:first-child::after {align-self: flex-end;width: 50%;}#sk-container-id-12 div.sk-parallel-item:last-child::after {align-self: flex-start;width: 50%;}#sk-container-id-12 div.sk-parallel-item:only-child::after {width: 0;}#sk-container-id-12 div.sk-dashed-wrapped {border: 1px dashed gray;margin: 0 0.4em 0.5em 0.4em;box-sizing: border-box;padding-bottom: 0.4em;background-color: white;}#sk-container-id-12 div.sk-label label {font-family: monospace;font-weight: bold;display: inline-block;line-height: 1.2em;}#sk-container-id-12 div.sk-label-container {text-align: center;}#sk-container-id-12 div.sk-container {/* jupyter's `normalize.less` sets `[hidden] { display: none; }` but bootstrap.min.css set `[hidden] { display: none !important; }` so we also need the `!important` here to be able to override the default hidden behavior on the sphinx rendered scikit-learn.org. See: https://github.com/scikit-learn/scikit-learn/issues/21755 */display: inline-block !important;position: relative;}#sk-container-id-12 div.sk-text-repr-fallback {display: none;}</style><div id=\"sk-container-id-12\" class=\"sk-top-container\"><div class=\"sk-text-repr-fallback\"><pre>Perceptron(eta0=0.001, random_state=1)</pre><b>In a Jupyter environment, please rerun this cell to show the HTML representation or trust the notebook. <br />On GitHub, the HTML representation is unable to render, please try loading this page with nbviewer.org.</b></div><div class=\"sk-container\" hidden><div class=\"sk-item\"><div class=\"sk-estimator sk-toggleable\"><input class=\"sk-toggleable__control sk-hidden--visually\" id=\"sk-estimator-id-12\" type=\"checkbox\" checked><label for=\"sk-estimator-id-12\" class=\"sk-toggleable__label sk-toggleable__label-arrow\">Perceptron</label><div class=\"sk-toggleable__content\"><pre>Perceptron(eta0=0.001, random_state=1)</pre></div></div></div></div></div>"
            ]
          },
          "metadata": {},
          "execution_count": 48
        }
      ]
    },
    {
      "cell_type": "code",
      "source": [
        "Y_pred = ppn.predict(X_test_std)\n",
        "print('Misclassified examples: %d' % (Y_test != Y_pred).sum())"
      ],
      "metadata": {
        "colab": {
          "base_uri": "https://localhost:8080/"
        },
        "id": "kd9KblQXNgUU",
        "outputId": "3e39fd68-1366-4251-b0a2-0eb9b13c3532"
      },
      "execution_count": null,
      "outputs": [
        {
          "output_type": "stream",
          "name": "stdout",
          "text": [
            "Misclassified examples: 44\n"
          ]
        }
      ]
    },
    {
      "cell_type": "code",
      "source": [
        "from sklearn.metrics import accuracy_score\n",
        "\n",
        "acc_perceptron = round(accuracy_score(Y_test, Y_pred) * 100, 2)\n",
        "\n",
        "print(\"Accuracy score: \",acc_perceptron)"
      ],
      "metadata": {
        "colab": {
          "base_uri": "https://localhost:8080/"
        },
        "id": "hOybK4bZN898",
        "outputId": "c44fd33d-337f-4468-f32f-86ca9e41ec35"
      },
      "execution_count": null,
      "outputs": [
        {
          "output_type": "stream",
          "name": "stdout",
          "text": [
            "Accuracy score:  75.42\n"
          ]
        }
      ]
    },
    {
      "cell_type": "markdown",
      "source": [
        "# Training Perceptron Model with Regularization"
      ],
      "metadata": {
        "id": "lxIzU0yGOwbw"
      }
    },
    {
      "cell_type": "code",
      "source": [
        "ppn = Perceptron(penalty='l1', eta0=0.001, random_state=1)\n",
        "ppn.fit(X_train_std, Y_train)"
      ],
      "metadata": {
        "colab": {
          "base_uri": "https://localhost:8080/",
          "height": 95
        },
        "id": "0YWUkXLkOGtP",
        "outputId": "553b593c-aa66-4568-e162-ebc74cc1a9cb"
      },
      "execution_count": null,
      "outputs": [
        {
          "output_type": "execute_result",
          "data": {
            "text/plain": [
              "Perceptron(eta0=0.001, penalty='l1', random_state=1)"
            ],
            "text/html": [
              "<style>#sk-container-id-17 {color: black;background-color: white;}#sk-container-id-17 pre{padding: 0;}#sk-container-id-17 div.sk-toggleable {background-color: white;}#sk-container-id-17 label.sk-toggleable__label {cursor: pointer;display: block;width: 100%;margin-bottom: 0;padding: 0.3em;box-sizing: border-box;text-align: center;}#sk-container-id-17 label.sk-toggleable__label-arrow:before {content: \"▸\";float: left;margin-right: 0.25em;color: #696969;}#sk-container-id-17 label.sk-toggleable__label-arrow:hover:before {color: black;}#sk-container-id-17 div.sk-estimator:hover label.sk-toggleable__label-arrow:before {color: black;}#sk-container-id-17 div.sk-toggleable__content {max-height: 0;max-width: 0;overflow: hidden;text-align: left;background-color: #f0f8ff;}#sk-container-id-17 div.sk-toggleable__content pre {margin: 0.2em;color: black;border-radius: 0.25em;background-color: #f0f8ff;}#sk-container-id-17 input.sk-toggleable__control:checked~div.sk-toggleable__content {max-height: 200px;max-width: 100%;overflow: auto;}#sk-container-id-17 input.sk-toggleable__control:checked~label.sk-toggleable__label-arrow:before {content: \"▾\";}#sk-container-id-17 div.sk-estimator input.sk-toggleable__control:checked~label.sk-toggleable__label {background-color: #d4ebff;}#sk-container-id-17 div.sk-label input.sk-toggleable__control:checked~label.sk-toggleable__label {background-color: #d4ebff;}#sk-container-id-17 input.sk-hidden--visually {border: 0;clip: rect(1px 1px 1px 1px);clip: rect(1px, 1px, 1px, 1px);height: 1px;margin: -1px;overflow: hidden;padding: 0;position: absolute;width: 1px;}#sk-container-id-17 div.sk-estimator {font-family: monospace;background-color: #f0f8ff;border: 1px dotted black;border-radius: 0.25em;box-sizing: border-box;margin-bottom: 0.5em;}#sk-container-id-17 div.sk-estimator:hover {background-color: #d4ebff;}#sk-container-id-17 div.sk-parallel-item::after {content: \"\";width: 100%;border-bottom: 1px solid gray;flex-grow: 1;}#sk-container-id-17 div.sk-label:hover label.sk-toggleable__label {background-color: #d4ebff;}#sk-container-id-17 div.sk-serial::before {content: \"\";position: absolute;border-left: 1px solid gray;box-sizing: border-box;top: 0;bottom: 0;left: 50%;z-index: 0;}#sk-container-id-17 div.sk-serial {display: flex;flex-direction: column;align-items: center;background-color: white;padding-right: 0.2em;padding-left: 0.2em;position: relative;}#sk-container-id-17 div.sk-item {position: relative;z-index: 1;}#sk-container-id-17 div.sk-parallel {display: flex;align-items: stretch;justify-content: center;background-color: white;position: relative;}#sk-container-id-17 div.sk-item::before, #sk-container-id-17 div.sk-parallel-item::before {content: \"\";position: absolute;border-left: 1px solid gray;box-sizing: border-box;top: 0;bottom: 0;left: 50%;z-index: -1;}#sk-container-id-17 div.sk-parallel-item {display: flex;flex-direction: column;z-index: 1;position: relative;background-color: white;}#sk-container-id-17 div.sk-parallel-item:first-child::after {align-self: flex-end;width: 50%;}#sk-container-id-17 div.sk-parallel-item:last-child::after {align-self: flex-start;width: 50%;}#sk-container-id-17 div.sk-parallel-item:only-child::after {width: 0;}#sk-container-id-17 div.sk-dashed-wrapped {border: 1px dashed gray;margin: 0 0.4em 0.5em 0.4em;box-sizing: border-box;padding-bottom: 0.4em;background-color: white;}#sk-container-id-17 div.sk-label label {font-family: monospace;font-weight: bold;display: inline-block;line-height: 1.2em;}#sk-container-id-17 div.sk-label-container {text-align: center;}#sk-container-id-17 div.sk-container {/* jupyter's `normalize.less` sets `[hidden] { display: none; }` but bootstrap.min.css set `[hidden] { display: none !important; }` so we also need the `!important` here to be able to override the default hidden behavior on the sphinx rendered scikit-learn.org. See: https://github.com/scikit-learn/scikit-learn/issues/21755 */display: inline-block !important;position: relative;}#sk-container-id-17 div.sk-text-repr-fallback {display: none;}</style><div id=\"sk-container-id-17\" class=\"sk-top-container\"><div class=\"sk-text-repr-fallback\"><pre>Perceptron(eta0=0.001, penalty=&#x27;l1&#x27;, random_state=1)</pre><b>In a Jupyter environment, please rerun this cell to show the HTML representation or trust the notebook. <br />On GitHub, the HTML representation is unable to render, please try loading this page with nbviewer.org.</b></div><div class=\"sk-container\" hidden><div class=\"sk-item\"><div class=\"sk-estimator sk-toggleable\"><input class=\"sk-toggleable__control sk-hidden--visually\" id=\"sk-estimator-id-17\" type=\"checkbox\" checked><label for=\"sk-estimator-id-17\" class=\"sk-toggleable__label sk-toggleable__label-arrow\">Perceptron</label><div class=\"sk-toggleable__content\"><pre>Perceptron(eta0=0.001, penalty=&#x27;l1&#x27;, random_state=1)</pre></div></div></div></div></div>"
            ]
          },
          "metadata": {},
          "execution_count": 59
        }
      ]
    },
    {
      "cell_type": "code",
      "source": [
        "Y_pred = ppn.predict(X_test_std)\n",
        "print('Misclassified examples: %d' % (Y_test != Y_pred).sum())"
      ],
      "metadata": {
        "colab": {
          "base_uri": "https://localhost:8080/"
        },
        "id": "mWMJG-jlOKoK",
        "outputId": "a09f0bf6-9e50-491f-cdc8-e5d511e64243"
      },
      "execution_count": null,
      "outputs": [
        {
          "output_type": "stream",
          "name": "stdout",
          "text": [
            "Misclassified examples: 43\n"
          ]
        }
      ]
    },
    {
      "cell_type": "code",
      "source": [
        "acc_perceptron_regular = round(accuracy_score(Y_test, Y_pred) * 100, 2)\n",
        "\n",
        "print(\"Accuracy score: \",acc_perceptron_regular)"
      ],
      "metadata": {
        "colab": {
          "base_uri": "https://localhost:8080/"
        },
        "id": "jl0HPcZbONRw",
        "outputId": "c55306bc-1f41-48d9-8405-0f6582af4e0e"
      },
      "execution_count": null,
      "outputs": [
        {
          "output_type": "stream",
          "name": "stdout",
          "text": [
            "Accuracy score:  75.98\n"
          ]
        }
      ]
    },
    {
      "cell_type": "markdown",
      "source": [
        "# Training Logistic Regression Model"
      ],
      "metadata": {
        "id": "wHlxt5RYQ6Nw"
      }
    },
    {
      "cell_type": "code",
      "source": [
        "from sklearn.linear_model import LogisticRegression\n",
        "\n",
        "lr = LogisticRegression(C=100.0, random_state=1, solver='lbfgs', multi_class='ovr')\n",
        "lr.fit(X_train_std, Y_train)\n"
      ],
      "metadata": {
        "colab": {
          "base_uri": "https://localhost:8080/",
          "height": 95
        },
        "id": "R8j-T1ltRDvd",
        "outputId": "2bf64a8e-510f-4b1e-e425-f1d3bf0250a1"
      },
      "execution_count": null,
      "outputs": [
        {
          "output_type": "execute_result",
          "data": {
            "text/plain": [
              "LogisticRegression(C=100.0, multi_class='ovr', random_state=1)"
            ],
            "text/html": [
              "<style>#sk-container-id-2 {color: black;background-color: white;}#sk-container-id-2 pre{padding: 0;}#sk-container-id-2 div.sk-toggleable {background-color: white;}#sk-container-id-2 label.sk-toggleable__label {cursor: pointer;display: block;width: 100%;margin-bottom: 0;padding: 0.3em;box-sizing: border-box;text-align: center;}#sk-container-id-2 label.sk-toggleable__label-arrow:before {content: \"▸\";float: left;margin-right: 0.25em;color: #696969;}#sk-container-id-2 label.sk-toggleable__label-arrow:hover:before {color: black;}#sk-container-id-2 div.sk-estimator:hover label.sk-toggleable__label-arrow:before {color: black;}#sk-container-id-2 div.sk-toggleable__content {max-height: 0;max-width: 0;overflow: hidden;text-align: left;background-color: #f0f8ff;}#sk-container-id-2 div.sk-toggleable__content pre {margin: 0.2em;color: black;border-radius: 0.25em;background-color: #f0f8ff;}#sk-container-id-2 input.sk-toggleable__control:checked~div.sk-toggleable__content {max-height: 200px;max-width: 100%;overflow: auto;}#sk-container-id-2 input.sk-toggleable__control:checked~label.sk-toggleable__label-arrow:before {content: \"▾\";}#sk-container-id-2 div.sk-estimator input.sk-toggleable__control:checked~label.sk-toggleable__label {background-color: #d4ebff;}#sk-container-id-2 div.sk-label input.sk-toggleable__control:checked~label.sk-toggleable__label {background-color: #d4ebff;}#sk-container-id-2 input.sk-hidden--visually {border: 0;clip: rect(1px 1px 1px 1px);clip: rect(1px, 1px, 1px, 1px);height: 1px;margin: -1px;overflow: hidden;padding: 0;position: absolute;width: 1px;}#sk-container-id-2 div.sk-estimator {font-family: monospace;background-color: #f0f8ff;border: 1px dotted black;border-radius: 0.25em;box-sizing: border-box;margin-bottom: 0.5em;}#sk-container-id-2 div.sk-estimator:hover {background-color: #d4ebff;}#sk-container-id-2 div.sk-parallel-item::after {content: \"\";width: 100%;border-bottom: 1px solid gray;flex-grow: 1;}#sk-container-id-2 div.sk-label:hover label.sk-toggleable__label {background-color: #d4ebff;}#sk-container-id-2 div.sk-serial::before {content: \"\";position: absolute;border-left: 1px solid gray;box-sizing: border-box;top: 0;bottom: 0;left: 50%;z-index: 0;}#sk-container-id-2 div.sk-serial {display: flex;flex-direction: column;align-items: center;background-color: white;padding-right: 0.2em;padding-left: 0.2em;position: relative;}#sk-container-id-2 div.sk-item {position: relative;z-index: 1;}#sk-container-id-2 div.sk-parallel {display: flex;align-items: stretch;justify-content: center;background-color: white;position: relative;}#sk-container-id-2 div.sk-item::before, #sk-container-id-2 div.sk-parallel-item::before {content: \"\";position: absolute;border-left: 1px solid gray;box-sizing: border-box;top: 0;bottom: 0;left: 50%;z-index: -1;}#sk-container-id-2 div.sk-parallel-item {display: flex;flex-direction: column;z-index: 1;position: relative;background-color: white;}#sk-container-id-2 div.sk-parallel-item:first-child::after {align-self: flex-end;width: 50%;}#sk-container-id-2 div.sk-parallel-item:last-child::after {align-self: flex-start;width: 50%;}#sk-container-id-2 div.sk-parallel-item:only-child::after {width: 0;}#sk-container-id-2 div.sk-dashed-wrapped {border: 1px dashed gray;margin: 0 0.4em 0.5em 0.4em;box-sizing: border-box;padding-bottom: 0.4em;background-color: white;}#sk-container-id-2 div.sk-label label {font-family: monospace;font-weight: bold;display: inline-block;line-height: 1.2em;}#sk-container-id-2 div.sk-label-container {text-align: center;}#sk-container-id-2 div.sk-container {/* jupyter's `normalize.less` sets `[hidden] { display: none; }` but bootstrap.min.css set `[hidden] { display: none !important; }` so we also need the `!important` here to be able to override the default hidden behavior on the sphinx rendered scikit-learn.org. See: https://github.com/scikit-learn/scikit-learn/issues/21755 */display: inline-block !important;position: relative;}#sk-container-id-2 div.sk-text-repr-fallback {display: none;}</style><div id=\"sk-container-id-2\" class=\"sk-top-container\"><div class=\"sk-text-repr-fallback\"><pre>LogisticRegression(C=100.0, multi_class=&#x27;ovr&#x27;, random_state=1)</pre><b>In a Jupyter environment, please rerun this cell to show the HTML representation or trust the notebook. <br />On GitHub, the HTML representation is unable to render, please try loading this page with nbviewer.org.</b></div><div class=\"sk-container\" hidden><div class=\"sk-item\"><div class=\"sk-estimator sk-toggleable\"><input class=\"sk-toggleable__control sk-hidden--visually\" id=\"sk-estimator-id-2\" type=\"checkbox\" checked><label for=\"sk-estimator-id-2\" class=\"sk-toggleable__label sk-toggleable__label-arrow\">LogisticRegression</label><div class=\"sk-toggleable__content\"><pre>LogisticRegression(C=100.0, multi_class=&#x27;ovr&#x27;, random_state=1)</pre></div></div></div></div></div>"
            ]
          },
          "metadata": {},
          "execution_count": 21
        }
      ]
    },
    {
      "cell_type": "code",
      "source": [
        "Y_pred = lr.predict(X_test_std)\n",
        "print('Misclassified examples: %d' % (Y_test != Y_pred).sum())"
      ],
      "metadata": {
        "colab": {
          "base_uri": "https://localhost:8080/"
        },
        "id": "gArLxx1-SwI-",
        "outputId": "6c5832b5-479e-430b-805b-16d21523e136"
      },
      "execution_count": null,
      "outputs": [
        {
          "output_type": "stream",
          "name": "stdout",
          "text": [
            "Misclassified examples: 36\n"
          ]
        }
      ]
    },
    {
      "cell_type": "code",
      "source": [
        "acc_logistic = round(accuracy_score(Y_test, Y_pred) * 100, 2)\n",
        "\n",
        "print(\"Accuracy score: \",acc_logistic)"
      ],
      "metadata": {
        "colab": {
          "base_uri": "https://localhost:8080/"
        },
        "id": "We7GIFtfS502",
        "outputId": "52aff871-c216-4f13-e08c-0a387288b38e"
      },
      "execution_count": null,
      "outputs": [
        {
          "output_type": "stream",
          "name": "stdout",
          "text": [
            "Accuracy score:  79.89\n"
          ]
        }
      ]
    },
    {
      "cell_type": "markdown",
      "source": [
        "# Logistic Regression with *regularization*"
      ],
      "metadata": {
        "id": "-J07i4ZgR0VN"
      }
    },
    {
      "cell_type": "code",
      "source": [
        "lr = LogisticRegression(penalty='l1', C=1.0, solver='liblinear', multi_class='ovr')\n",
        "lr.fit(X_train_std, Y_train)\n",
        "Y_pred = lr.predict(X_test_std)\n",
        "print('Misclassified examples: %d' % (Y_test != Y_pred).sum())"
      ],
      "metadata": {
        "colab": {
          "base_uri": "https://localhost:8080/"
        },
        "id": "-UbpEqOuRiJB",
        "outputId": "b156b232-f350-4251-d613-b9c8f44ddabd"
      },
      "execution_count": null,
      "outputs": [
        {
          "output_type": "stream",
          "name": "stdout",
          "text": [
            "Misclassified examples: 36\n"
          ]
        }
      ]
    },
    {
      "cell_type": "code",
      "source": [
        "acc_logistic_regular = round(accuracy_score(Y_test, Y_pred) * 100, 2)\n",
        "\n",
        "print(\"Accuracy score: \",acc_logistic_regular)"
      ],
      "metadata": {
        "colab": {
          "base_uri": "https://localhost:8080/"
        },
        "id": "bd1h-EsESG43",
        "outputId": "3be62d32-05f1-4ce9-c89a-d3e3344397f1"
      },
      "execution_count": null,
      "outputs": [
        {
          "output_type": "stream",
          "name": "stdout",
          "text": [
            "Accuracy score:  79.89\n"
          ]
        }
      ]
    },
    {
      "cell_type": "code",
      "source": [
        "import matplotlib.pyplot as plt\n",
        "\n",
        "fig = plt.figure()\n",
        "ax = plt.subplot(111)\n",
        "\n",
        "colors = ['blue', 'green', 'red', 'cyan',\n",
        "          'magenta', 'yellow', 'black',\n",
        "          'pink', 'lightgreen', 'lightblue',\n",
        "          'gray', 'indigo', 'orange']\n",
        "\n",
        "weights, params = [], []\n",
        "for c in np.arange(-4., 6.):\n",
        "    lr = LogisticRegression(penalty='l1', C=10.**c, solver='liblinear',\n",
        "                            multi_class='ovr', random_state=0)\n",
        "    lr.fit(X_train_std, Y_train)\n",
        "    print(lr.coef_)\n",
        "    weights.append(lr.coef_[0])\n",
        "    params.append(10**c)\n",
        "\n",
        "weights = np.array(weights)\n",
        "\n",
        "for column, color in zip(range(weights.shape[1]), colors):\n",
        "    plt.plot(params, weights[:, column],\n",
        "             label=X.columns[column],\n",
        "             color=color)\n",
        "plt.axhline(0, color='black', linestyle='--', linewidth=3)\n",
        "plt.xlim([10**(-5), 10**5])\n",
        "plt.ylabel('weight coefficient')\n",
        "plt.xlabel('C')\n",
        "plt.xscale('log')\n",
        "plt.legend(loc='upper left')\n",
        "ax.legend(loc='upper center',\n",
        "          bbox_to_anchor=(1.38, 1.03),\n",
        "          ncol=1, fancybox=True)\n",
        "#plt.savefig('images/04_07.png', dpi=300,\n",
        "#            bbox_inches='tight', pad_inches=0.2)\n",
        "plt.show()"
      ],
      "metadata": {
        "colab": {
          "base_uri": "https://localhost:8080/",
          "height": 830
        },
        "id": "Zu1eyEb2TLcD",
        "outputId": "0be2ff67-886d-46d8-fc6d-62e1824f3fef"
      },
      "execution_count": null,
      "outputs": [
        {
          "output_type": "stream",
          "name": "stdout",
          "text": [
            "[[0. 0. 0. 0. 0. 0. 0. 0. 0. 0.]]\n",
            "[[0. 0. 0. 0. 0. 0. 0. 0. 0. 0.]]\n",
            "[[-0.05074221  0.          0.          0.          0.          0.50469002\n",
            "  -0.00970026  0.          0.          0.        ]]\n",
            "[[-0.86115833 -0.36133206 -0.1437327   0.          0.01105442  1.0429917\n",
            "  -0.10729197  0.          0.         -0.08944571]]\n",
            "[[-1.04802442e+00 -5.64876140e-01 -2.88339912e-01 -5.87444940e-02\n",
            "   6.86448227e-02  1.30192305e+00 -2.08269358e-03  1.15071130e-03\n",
            "   0.00000000e+00 -1.34788740e-01]]\n",
            "[[-1.06985398 -0.58883537 -0.3056229  -0.06830437  0.07582277  1.32355776\n",
            "   0.          0.00306129  0.         -0.13815253]]\n",
            "[[-1.07218438e+00 -5.91296564e-01 -3.07394212e-01 -6.92414715e-02\n",
            "   7.65672520e-02  1.32553160e+00 -4.45887440e-06  1.41962919e-02\n",
            "   7.80248449e-03 -1.26195582e-01]]\n",
            "[[-1.07227206 -0.59148604 -0.30754101 -0.06936726  0.07674842  1.39705858\n",
            "   0.07133418  0.02933326  0.01837363 -0.10910285]]\n",
            "[[-1.07229377 -0.59150827 -0.3075543  -0.06937639  0.0767547   1.39727605\n",
            "   0.0715514   0.02935633  0.0183963  -0.10908471]]\n",
            "[[-1.07229595 -0.59151049 -0.30755563 -0.06937731  0.07675532  1.3972978\n",
            "   0.07157312  0.02935864  0.01839857 -0.1090829 ]]\n"
          ]
        },
        {
          "output_type": "display_data",
          "data": {
            "text/plain": [
              "<Figure size 640x480 with 1 Axes>"
            ],
            "image/png": "[encoded data removed]"
          },
          "metadata": {}
        }
      ]
    },
    {
      "cell_type": "markdown",
      "source": [
        "# Training SVM Model"
      ],
      "metadata": {
        "id": "Ppdh_eSoTWEj"
      }
    },
    {
      "cell_type": "markdown",
      "source": [
        "**As SVM has different values for kernel parameter, all of them will be used and compared to each other since we are not sure about whether titanic dataset is linear or not. kernel can be \"linear\", \"rbf\" and \"poly\"**"
      ],
      "metadata": {
        "id": "1y5rgw1wrDnE"
      }
    },
    {
      "cell_type": "markdown",
      "source": [
        "The ***linear kernel*** is a good starting point when there is a reasonable expectation that the data might be linearly separable."
      ],
      "metadata": {
        "id": "viJbif2rrZPW"
      }
    },
    {
      "cell_type": "code",
      "source": [
        "from sklearn.svm import SVC\n",
        "\n",
        "svm = SVC(kernel='linear', C=1.0, random_state=1)\n",
        "svm.fit(X_train_std, Y_train)"
      ],
      "metadata": {
        "id": "cHwTEqwvTbQf",
        "colab": {
          "base_uri": "https://localhost:8080/",
          "height": 95
        },
        "outputId": "09593d9d-5488-4e70-e00f-46d25d759dd2"
      },
      "execution_count": null,
      "outputs": [
        {
          "output_type": "execute_result",
          "data": {
            "text/plain": [
              "SVC(kernel='linear', random_state=1)"
            ],
            "text/html": [
              "<style>#sk-container-id-18 {color: black;background-color: white;}#sk-container-id-18 pre{padding: 0;}#sk-container-id-18 div.sk-toggleable {background-color: white;}#sk-container-id-18 label.sk-toggleable__label {cursor: pointer;display: block;width: 100%;margin-bottom: 0;padding: 0.3em;box-sizing: border-box;text-align: center;}#sk-container-id-18 label.sk-toggleable__label-arrow:before {content: \"▸\";float: left;margin-right: 0.25em;color: #696969;}#sk-container-id-18 label.sk-toggleable__label-arrow:hover:before {color: black;}#sk-container-id-18 div.sk-estimator:hover label.sk-toggleable__label-arrow:before {color: black;}#sk-container-id-18 div.sk-toggleable__content {max-height: 0;max-width: 0;overflow: hidden;text-align: left;background-color: #f0f8ff;}#sk-container-id-18 div.sk-toggleable__content pre {margin: 0.2em;color: black;border-radius: 0.25em;background-color: #f0f8ff;}#sk-container-id-18 input.sk-toggleable__control:checked~div.sk-toggleable__content {max-height: 200px;max-width: 100%;overflow: auto;}#sk-container-id-18 input.sk-toggleable__control:checked~label.sk-toggleable__label-arrow:before {content: \"▾\";}#sk-container-id-18 div.sk-estimator input.sk-toggleable__control:checked~label.sk-toggleable__label {background-color: #d4ebff;}#sk-container-id-18 div.sk-label input.sk-toggleable__control:checked~label.sk-toggleable__label {background-color: #d4ebff;}#sk-container-id-18 input.sk-hidden--visually {border: 0;clip: rect(1px 1px 1px 1px);clip: rect(1px, 1px, 1px, 1px);height: 1px;margin: -1px;overflow: hidden;padding: 0;position: absolute;width: 1px;}#sk-container-id-18 div.sk-estimator {font-family: monospace;background-color: #f0f8ff;border: 1px dotted black;border-radius: 0.25em;box-sizing: border-box;margin-bottom: 0.5em;}#sk-container-id-18 div.sk-estimator:hover {background-color: #d4ebff;}#sk-container-id-18 div.sk-parallel-item::after {content: \"\";width: 100%;border-bottom: 1px solid gray;flex-grow: 1;}#sk-container-id-18 div.sk-label:hover label.sk-toggleable__label {background-color: #d4ebff;}#sk-container-id-18 div.sk-serial::before {content: \"\";position: absolute;border-left: 1px solid gray;box-sizing: border-box;top: 0;bottom: 0;left: 50%;z-index: 0;}#sk-container-id-18 div.sk-serial {display: flex;flex-direction: column;align-items: center;background-color: white;padding-right: 0.2em;padding-left: 0.2em;position: relative;}#sk-container-id-18 div.sk-item {position: relative;z-index: 1;}#sk-container-id-18 div.sk-parallel {display: flex;align-items: stretch;justify-content: center;background-color: white;position: relative;}#sk-container-id-18 div.sk-item::before, #sk-container-id-18 div.sk-parallel-item::before {content: \"\";position: absolute;border-left: 1px solid gray;box-sizing: border-box;top: 0;bottom: 0;left: 50%;z-index: -1;}#sk-container-id-18 div.sk-parallel-item {display: flex;flex-direction: column;z-index: 1;position: relative;background-color: white;}#sk-container-id-18 div.sk-parallel-item:first-child::after {align-self: flex-end;width: 50%;}#sk-container-id-18 div.sk-parallel-item:last-child::after {align-self: flex-start;width: 50%;}#sk-container-id-18 div.sk-parallel-item:only-child::after {width: 0;}#sk-container-id-18 div.sk-dashed-wrapped {border: 1px dashed gray;margin: 0 0.4em 0.5em 0.4em;box-sizing: border-box;padding-bottom: 0.4em;background-color: white;}#sk-container-id-18 div.sk-label label {font-family: monospace;font-weight: bold;display: inline-block;line-height: 1.2em;}#sk-container-id-18 div.sk-label-container {text-align: center;}#sk-container-id-18 div.sk-container {/* jupyter's `normalize.less` sets `[hidden] { display: none; }` but bootstrap.min.css set `[hidden] { display: none !important; }` so we also need the `!important` here to be able to override the default hidden behavior on the sphinx rendered scikit-learn.org. See: https://github.com/scikit-learn/scikit-learn/issues/21755 */display: inline-block !important;position: relative;}#sk-container-id-18 div.sk-text-repr-fallback {display: none;}</style><div id=\"sk-container-id-18\" class=\"sk-top-container\"><div class=\"sk-text-repr-fallback\"><pre>SVC(kernel=&#x27;linear&#x27;, random_state=1)</pre><b>In a Jupyter environment, please rerun this cell to show the HTML representation or trust the notebook. <br />On GitHub, the HTML representation is unable to render, please try loading this page with nbviewer.org.</b></div><div class=\"sk-container\" hidden><div class=\"sk-item\"><div class=\"sk-estimator sk-toggleable\"><input class=\"sk-toggleable__control sk-hidden--visually\" id=\"sk-estimator-id-18\" type=\"checkbox\" checked><label for=\"sk-estimator-id-18\" class=\"sk-toggleable__label sk-toggleable__label-arrow\">SVC</label><div class=\"sk-toggleable__content\"><pre>SVC(kernel=&#x27;linear&#x27;, random_state=1)</pre></div></div></div></div></div>"
            ]
          },
          "metadata": {},
          "execution_count": 65
        }
      ]
    },
    {
      "cell_type": "code",
      "source": [
        "# Predict the test set\n",
        "Y_pred = svm.predict(X_test_std)\n",
        "print('Misclassified examples: %d' % (Y_test != Y_pred).sum())\n",
        "\n",
        "# Calculate accuracy score\n",
        "acc_svm_linear = round(accuracy_score(Y_test, Y_pred) * 100, 2)\n",
        "\n",
        "print(\"Accuracy score: \",acc_svm_linear)"
      ],
      "metadata": {
        "colab": {
          "base_uri": "https://localhost:8080/"
        },
        "id": "_wM44kjSUL7k",
        "outputId": "3d64c691-d645-4423-812f-8d039d50031f"
      },
      "execution_count": null,
      "outputs": [
        {
          "output_type": "stream",
          "name": "stdout",
          "text": [
            "Misclassified examples: 40\n",
            "Accuracy score:  77.65\n"
          ]
        }
      ]
    },
    {
      "cell_type": "markdown",
      "source": [
        "The ***Radial Basis Function (RBF) kernel*** transforms the data into an infinite-dimensional space based on the Gaussian distribution. RBF kernel is widely used for non-linearly separable data as it can capture complex relationships."
      ],
      "metadata": {
        "id": "Kcd6kODfrx-N"
      }
    },
    {
      "cell_type": "code",
      "source": [
        "svm = SVC(kernel='rbf', random_state=1, gamma=0.500, C=1.0)\n",
        "svm.fit(X_train_std, Y_train)"
      ],
      "metadata": {
        "colab": {
          "base_uri": "https://localhost:8080/",
          "height": 95
        },
        "id": "5_MhiG3jX_ED",
        "outputId": "61a74bcb-e8bf-474c-f837-3b5849e90d7c"
      },
      "execution_count": null,
      "outputs": [
        {
          "output_type": "execute_result",
          "data": {
            "text/plain": [
              "SVC(gamma=0.5, random_state=1)"
            ],
            "text/html": [
              "<style>#sk-container-id-19 {color: black;background-color: white;}#sk-container-id-19 pre{padding: 0;}#sk-container-id-19 div.sk-toggleable {background-color: white;}#sk-container-id-19 label.sk-toggleable__label {cursor: pointer;display: block;width: 100%;margin-bottom: 0;padding: 0.3em;box-sizing: border-box;text-align: center;}#sk-container-id-19 label.sk-toggleable__label-arrow:before {content: \"▸\";float: left;margin-right: 0.25em;color: #696969;}#sk-container-id-19 label.sk-toggleable__label-arrow:hover:before {color: black;}#sk-container-id-19 div.sk-estimator:hover label.sk-toggleable__label-arrow:before {color: black;}#sk-container-id-19 div.sk-toggleable__content {max-height: 0;max-width: 0;overflow: hidden;text-align: left;background-color: #f0f8ff;}#sk-container-id-19 div.sk-toggleable__content pre {margin: 0.2em;color: black;border-radius: 0.25em;background-color: #f0f8ff;}#sk-container-id-19 input.sk-toggleable__control:checked~div.sk-toggleable__content {max-height: 200px;max-width: 100%;overflow: auto;}#sk-container-id-19 input.sk-toggleable__control:checked~label.sk-toggleable__label-arrow:before {content: \"▾\";}#sk-container-id-19 div.sk-estimator input.sk-toggleable__control:checked~label.sk-toggleable__label {background-color: #d4ebff;}#sk-container-id-19 div.sk-label input.sk-toggleable__control:checked~label.sk-toggleable__label {background-color: #d4ebff;}#sk-container-id-19 input.sk-hidden--visually {border: 0;clip: rect(1px 1px 1px 1px);clip: rect(1px, 1px, 1px, 1px);height: 1px;margin: -1px;overflow: hidden;padding: 0;position: absolute;width: 1px;}#sk-container-id-19 div.sk-estimator {font-family: monospace;background-color: #f0f8ff;border: 1px dotted black;border-radius: 0.25em;box-sizing: border-box;margin-bottom: 0.5em;}#sk-container-id-19 div.sk-estimator:hover {background-color: #d4ebff;}#sk-container-id-19 div.sk-parallel-item::after {content: \"\";width: 100%;border-bottom: 1px solid gray;flex-grow: 1;}#sk-container-id-19 div.sk-label:hover label.sk-toggleable__label {background-color: #d4ebff;}#sk-container-id-19 div.sk-serial::before {content: \"\";position: absolute;border-left: 1px solid gray;box-sizing: border-box;top: 0;bottom: 0;left: 50%;z-index: 0;}#sk-container-id-19 div.sk-serial {display: flex;flex-direction: column;align-items: center;background-color: white;padding-right: 0.2em;padding-left: 0.2em;position: relative;}#sk-container-id-19 div.sk-item {position: relative;z-index: 1;}#sk-container-id-19 div.sk-parallel {display: flex;align-items: stretch;justify-content: center;background-color: white;position: relative;}#sk-container-id-19 div.sk-item::before, #sk-container-id-19 div.sk-parallel-item::before {content: \"\";position: absolute;border-left: 1px solid gray;box-sizing: border-box;top: 0;bottom: 0;left: 50%;z-index: -1;}#sk-container-id-19 div.sk-parallel-item {display: flex;flex-direction: column;z-index: 1;position: relative;background-color: white;}#sk-container-id-19 div.sk-parallel-item:first-child::after {align-self: flex-end;width: 50%;}#sk-container-id-19 div.sk-parallel-item:last-child::after {align-self: flex-start;width: 50%;}#sk-container-id-19 div.sk-parallel-item:only-child::after {width: 0;}#sk-container-id-19 div.sk-dashed-wrapped {border: 1px dashed gray;margin: 0 0.4em 0.5em 0.4em;box-sizing: border-box;padding-bottom: 0.4em;background-color: white;}#sk-container-id-19 div.sk-label label {font-family: monospace;font-weight: bold;display: inline-block;line-height: 1.2em;}#sk-container-id-19 div.sk-label-container {text-align: center;}#sk-container-id-19 div.sk-container {/* jupyter's `normalize.less` sets `[hidden] { display: none; }` but bootstrap.min.css set `[hidden] { display: none !important; }` so we also need the `!important` here to be able to override the default hidden behavior on the sphinx rendered scikit-learn.org. See: https://github.com/scikit-learn/scikit-learn/issues/21755 */display: inline-block !important;position: relative;}#sk-container-id-19 div.sk-text-repr-fallback {display: none;}</style><div id=\"sk-container-id-19\" class=\"sk-top-container\"><div class=\"sk-text-repr-fallback\"><pre>SVC(gamma=0.5, random_state=1)</pre><b>In a Jupyter environment, please rerun this cell to show the HTML representation or trust the notebook. <br />On GitHub, the HTML representation is unable to render, please try loading this page with nbviewer.org.</b></div><div class=\"sk-container\" hidden><div class=\"sk-item\"><div class=\"sk-estimator sk-toggleable\"><input class=\"sk-toggleable__control sk-hidden--visually\" id=\"sk-estimator-id-19\" type=\"checkbox\" checked><label for=\"sk-estimator-id-19\" class=\"sk-toggleable__label sk-toggleable__label-arrow\">SVC</label><div class=\"sk-toggleable__content\"><pre>SVC(gamma=0.5, random_state=1)</pre></div></div></div></div></div>"
            ]
          },
          "metadata": {},
          "execution_count": 67
        }
      ]
    },
    {
      "cell_type": "code",
      "source": [
        "# Predict the test set\n",
        "Y_pred = svm.predict(X_test_std)\n",
        "print('Misclassified examples: %d' % (Y_test != Y_pred).sum())\n",
        "\n",
        "# Calculate accuracy score\n",
        "acc_svm_rbf = round(accuracy_score(Y_test, Y_pred) * 100, 2)\n",
        "\n",
        "print(\"Accuracy score: \",acc_svm_rbf)"
      ],
      "metadata": {
        "colab": {
          "base_uri": "https://localhost:8080/"
        },
        "id": "g5kuwgu8YGs5",
        "outputId": "c25ed11f-a642-4825-d175-1cb650db9aca"
      },
      "execution_count": null,
      "outputs": [
        {
          "output_type": "stream",
          "name": "stdout",
          "text": [
            "Misclassified examples: 29\n",
            "Accuracy score:  83.8\n"
          ]
        }
      ]
    },
    {
      "cell_type": "markdown",
      "source": [
        "***Polynomial kernel*** is useful when the data exhibits polynomial relationships.\n",
        "\n"
      ],
      "metadata": {
        "id": "oebPK_Kbsr_p"
      }
    },
    {
      "cell_type": "code",
      "source": [
        "# Train the SVM model with a polynomial kernel\n",
        "svm = SVC(kernel='poly', degree=3, C=1.0, coef0=100.0)\n",
        "svm.fit(X_train_std, Y_train)\n",
        "\n",
        "# Predict on the test set\n",
        "Y_pred = svm.predict(X_test_std)\n",
        "print('Misclassified examples: %d' % (Y_test != Y_pred).sum())\n",
        "\n",
        "\n",
        "# Calculate accuracy score\n",
        "acc_svm_poly = round(accuracy_score(Y_test, Y_pred) * 100, 2)\n",
        "\n",
        "print(\"Accuracy score: \",acc_svm_poly)"
      ],
      "metadata": {
        "colab": {
          "base_uri": "https://localhost:8080/"
        },
        "id": "WbfM3IWas5wE",
        "outputId": "c5410e07-a057-48c9-8e4e-ab44224d7782"
      },
      "execution_count": null,
      "outputs": [
        {
          "output_type": "stream",
          "name": "stdout",
          "text": [
            "Misclassified examples: 33\n",
            "Accuracy score:  81.56\n"
          ]
        }
      ]
    },
    {
      "cell_type": "markdown",
      "source": [
        "# Training Decision Tree Model"
      ],
      "metadata": {
        "id": "yOAPGJhNavc4"
      }
    },
    {
      "cell_type": "code",
      "source": [
        "from sklearn.tree import DecisionTreeClassifier\n",
        "\n",
        "tree_model = DecisionTreeClassifier(criterion='gini',\n",
        "                                    max_depth=8,\n",
        "                                    random_state=1)\n",
        "tree_model.fit(X_train_std, Y_train)"
      ],
      "metadata": {
        "colab": {
          "base_uri": "https://localhost:8080/",
          "height": 95
        },
        "id": "m0Ax8JTWazyD",
        "outputId": "3fa83283-7d06-4348-c574-7e6cdd756be5"
      },
      "execution_count": null,
      "outputs": [
        {
          "output_type": "execute_result",
          "data": {
            "text/plain": [
              "DecisionTreeClassifier(max_depth=8, random_state=1)"
            ],
            "text/html": [
              "<style>#sk-container-id-7 {color: black;background-color: white;}#sk-container-id-7 pre{padding: 0;}#sk-container-id-7 div.sk-toggleable {background-color: white;}#sk-container-id-7 label.sk-toggleable__label {cursor: pointer;display: block;width: 100%;margin-bottom: 0;padding: 0.3em;box-sizing: border-box;text-align: center;}#sk-container-id-7 label.sk-toggleable__label-arrow:before {content: \"▸\";float: left;margin-right: 0.25em;color: #696969;}#sk-container-id-7 label.sk-toggleable__label-arrow:hover:before {color: black;}#sk-container-id-7 div.sk-estimator:hover label.sk-toggleable__label-arrow:before {color: black;}#sk-container-id-7 div.sk-toggleable__content {max-height: 0;max-width: 0;overflow: hidden;text-align: left;background-color: #f0f8ff;}#sk-container-id-7 div.sk-toggleable__content pre {margin: 0.2em;color: black;border-radius: 0.25em;background-color: #f0f8ff;}#sk-container-id-7 input.sk-toggleable__control:checked~div.sk-toggleable__content {max-height: 200px;max-width: 100%;overflow: auto;}#sk-container-id-7 input.sk-toggleable__control:checked~label.sk-toggleable__label-arrow:before {content: \"▾\";}#sk-container-id-7 div.sk-estimator input.sk-toggleable__control:checked~label.sk-toggleable__label {background-color: #d4ebff;}#sk-container-id-7 div.sk-label input.sk-toggleable__control:checked~label.sk-toggleable__label {background-color: #d4ebff;}#sk-container-id-7 input.sk-hidden--visually {border: 0;clip: rect(1px 1px 1px 1px);clip: rect(1px, 1px, 1px, 1px);height: 1px;margin: -1px;overflow: hidden;padding: 0;position: absolute;width: 1px;}#sk-container-id-7 div.sk-estimator {font-family: monospace;background-color: #f0f8ff;border: 1px dotted black;border-radius: 0.25em;box-sizing: border-box;margin-bottom: 0.5em;}#sk-container-id-7 div.sk-estimator:hover {background-color: #d4ebff;}#sk-container-id-7 div.sk-parallel-item::after {content: \"\";width: 100%;border-bottom: 1px solid gray;flex-grow: 1;}#sk-container-id-7 div.sk-label:hover label.sk-toggleable__label {background-color: #d4ebff;}#sk-container-id-7 div.sk-serial::before {content: \"\";position: absolute;border-left: 1px solid gray;box-sizing: border-box;top: 0;bottom: 0;left: 50%;z-index: 0;}#sk-container-id-7 div.sk-serial {display: flex;flex-direction: column;align-items: center;background-color: white;padding-right: 0.2em;padding-left: 0.2em;position: relative;}#sk-container-id-7 div.sk-item {position: relative;z-index: 1;}#sk-container-id-7 div.sk-parallel {display: flex;align-items: stretch;justify-content: center;background-color: white;position: relative;}#sk-container-id-7 div.sk-item::before, #sk-container-id-7 div.sk-parallel-item::before {content: \"\";position: absolute;border-left: 1px solid gray;box-sizing: border-box;top: 0;bottom: 0;left: 50%;z-index: -1;}#sk-container-id-7 div.sk-parallel-item {display: flex;flex-direction: column;z-index: 1;position: relative;background-color: white;}#sk-container-id-7 div.sk-parallel-item:first-child::after {align-self: flex-end;width: 50%;}#sk-container-id-7 div.sk-parallel-item:last-child::after {align-self: flex-start;width: 50%;}#sk-container-id-7 div.sk-parallel-item:only-child::after {width: 0;}#sk-container-id-7 div.sk-dashed-wrapped {border: 1px dashed gray;margin: 0 0.4em 0.5em 0.4em;box-sizing: border-box;padding-bottom: 0.4em;background-color: white;}#sk-container-id-7 div.sk-label label {font-family: monospace;font-weight: bold;display: inline-block;line-height: 1.2em;}#sk-container-id-7 div.sk-label-container {text-align: center;}#sk-container-id-7 div.sk-container {/* jupyter's `normalize.less` sets `[hidden] { display: none; }` but bootstrap.min.css set `[hidden] { display: none !important; }` so we also need the `!important` here to be able to override the default hidden behavior on the sphinx rendered scikit-learn.org. See: https://github.com/scikit-learn/scikit-learn/issues/21755 */display: inline-block !important;position: relative;}#sk-container-id-7 div.sk-text-repr-fallback {display: none;}</style><div id=\"sk-container-id-7\" class=\"sk-top-container\"><div class=\"sk-text-repr-fallback\"><pre>DecisionTreeClassifier(max_depth=8, random_state=1)</pre><b>In a Jupyter environment, please rerun this cell to show the HTML representation or trust the notebook. <br />On GitHub, the HTML representation is unable to render, please try loading this page with nbviewer.org.</b></div><div class=\"sk-container\" hidden><div class=\"sk-item\"><div class=\"sk-estimator sk-toggleable\"><input class=\"sk-toggleable__control sk-hidden--visually\" id=\"sk-estimator-id-7\" type=\"checkbox\" checked><label for=\"sk-estimator-id-7\" class=\"sk-toggleable__label sk-toggleable__label-arrow\">DecisionTreeClassifier</label><div class=\"sk-toggleable__content\"><pre>DecisionTreeClassifier(max_depth=8, random_state=1)</pre></div></div></div></div></div>"
            ]
          },
          "metadata": {},
          "execution_count": 37
        }
      ]
    },
    {
      "cell_type": "code",
      "source": [
        "# Predict the test set\n",
        "Y_pred = tree_model.predict(X_test_std)\n",
        "print('Misclassified examples: %d' % (Y_test != Y_pred).sum())\n",
        "\n",
        "# Calculate accuracy score\n",
        "acc_dec_tree = round(accuracy_score(Y_test, Y_pred) * 100, 2)\n",
        "\n",
        "print(\"Accuracy score: \",acc_dec_tree)"
      ],
      "metadata": {
        "colab": {
          "base_uri": "https://localhost:8080/"
        },
        "id": "dR80vXBra7dg",
        "outputId": "39eb99ca-e6c4-40d7-faf5-f9e6f97c51fe"
      },
      "execution_count": null,
      "outputs": [
        {
          "output_type": "stream",
          "name": "stdout",
          "text": [
            "Misclassified examples: 36\n",
            "Accuracy score:  79.89\n"
          ]
        }
      ]
    },
    {
      "cell_type": "markdown",
      "source": [
        "# Training Random Forest Model"
      ],
      "metadata": {
        "id": "eHziYeae8oSl"
      }
    },
    {
      "cell_type": "code",
      "source": [
        "from sklearn.ensemble import RandomForestClassifier\n",
        "\n",
        "forest = RandomForestClassifier(criterion='gini',\n",
        "                                n_estimators=40,\n",
        "                                random_state=1)\n",
        "forest.fit(X_train_std, Y_train)"
      ],
      "metadata": {
        "colab": {
          "base_uri": "https://localhost:8080/",
          "height": 95
        },
        "id": "df44kU928soo",
        "outputId": "9dd00b16-cbc9-4014-d6f7-99ff54b817c4"
      },
      "execution_count": null,
      "outputs": [
        {
          "output_type": "execute_result",
          "data": {
            "text/plain": [
              "RandomForestClassifier(n_estimators=40, random_state=1)"
            ],
            "text/html": [
              "<style>#sk-container-id-8 {color: black;background-color: white;}#sk-container-id-8 pre{padding: 0;}#sk-container-id-8 div.sk-toggleable {background-color: white;}#sk-container-id-8 label.sk-toggleable__label {cursor: pointer;display: block;width: 100%;margin-bottom: 0;padding: 0.3em;box-sizing: border-box;text-align: center;}#sk-container-id-8 label.sk-toggleable__label-arrow:before {content: \"▸\";float: left;margin-right: 0.25em;color: #696969;}#sk-container-id-8 label.sk-toggleable__label-arrow:hover:before {color: black;}#sk-container-id-8 div.sk-estimator:hover label.sk-toggleable__label-arrow:before {color: black;}#sk-container-id-8 div.sk-toggleable__content {max-height: 0;max-width: 0;overflow: hidden;text-align: left;background-color: #f0f8ff;}#sk-container-id-8 div.sk-toggleable__content pre {margin: 0.2em;color: black;border-radius: 0.25em;background-color: #f0f8ff;}#sk-container-id-8 input.sk-toggleable__control:checked~div.sk-toggleable__content {max-height: 200px;max-width: 100%;overflow: auto;}#sk-container-id-8 input.sk-toggleable__control:checked~label.sk-toggleable__label-arrow:before {content: \"▾\";}#sk-container-id-8 div.sk-estimator input.sk-toggleable__control:checked~label.sk-toggleable__label {background-color: #d4ebff;}#sk-container-id-8 div.sk-label input.sk-toggleable__control:checked~label.sk-toggleable__label {background-color: #d4ebff;}#sk-container-id-8 input.sk-hidden--visually {border: 0;clip: rect(1px 1px 1px 1px);clip: rect(1px, 1px, 1px, 1px);height: 1px;margin: -1px;overflow: hidden;padding: 0;position: absolute;width: 1px;}#sk-container-id-8 div.sk-estimator {font-family: monospace;background-color: #f0f8ff;border: 1px dotted black;border-radius: 0.25em;box-sizing: border-box;margin-bottom: 0.5em;}#sk-container-id-8 div.sk-estimator:hover {background-color: #d4ebff;}#sk-container-id-8 div.sk-parallel-item::after {content: \"\";width: 100%;border-bottom: 1px solid gray;flex-grow: 1;}#sk-container-id-8 div.sk-label:hover label.sk-toggleable__label {background-color: #d4ebff;}#sk-container-id-8 div.sk-serial::before {content: \"\";position: absolute;border-left: 1px solid gray;box-sizing: border-box;top: 0;bottom: 0;left: 50%;z-index: 0;}#sk-container-id-8 div.sk-serial {display: flex;flex-direction: column;align-items: center;background-color: white;padding-right: 0.2em;padding-left: 0.2em;position: relative;}#sk-container-id-8 div.sk-item {position: relative;z-index: 1;}#sk-container-id-8 div.sk-parallel {display: flex;align-items: stretch;justify-content: center;background-color: white;position: relative;}#sk-container-id-8 div.sk-item::before, #sk-container-id-8 div.sk-parallel-item::before {content: \"\";position: absolute;border-left: 1px solid gray;box-sizing: border-box;top: 0;bottom: 0;left: 50%;z-index: -1;}#sk-container-id-8 div.sk-parallel-item {display: flex;flex-direction: column;z-index: 1;position: relative;background-color: white;}#sk-container-id-8 div.sk-parallel-item:first-child::after {align-self: flex-end;width: 50%;}#sk-container-id-8 div.sk-parallel-item:last-child::after {align-self: flex-start;width: 50%;}#sk-container-id-8 div.sk-parallel-item:only-child::after {width: 0;}#sk-container-id-8 div.sk-dashed-wrapped {border: 1px dashed gray;margin: 0 0.4em 0.5em 0.4em;box-sizing: border-box;padding-bottom: 0.4em;background-color: white;}#sk-container-id-8 div.sk-label label {font-family: monospace;font-weight: bold;display: inline-block;line-height: 1.2em;}#sk-container-id-8 div.sk-label-container {text-align: center;}#sk-container-id-8 div.sk-container {/* jupyter's `normalize.less` sets `[hidden] { display: none; }` but bootstrap.min.css set `[hidden] { display: none !important; }` so we also need the `!important` here to be able to override the default hidden behavior on the sphinx rendered scikit-learn.org. See: https://github.com/scikit-learn/scikit-learn/issues/21755 */display: inline-block !important;position: relative;}#sk-container-id-8 div.sk-text-repr-fallback {display: none;}</style><div id=\"sk-container-id-8\" class=\"sk-top-container\"><div class=\"sk-text-repr-fallback\"><pre>RandomForestClassifier(n_estimators=40, random_state=1)</pre><b>In a Jupyter environment, please rerun this cell to show the HTML representation or trust the notebook. <br />On GitHub, the HTML representation is unable to render, please try loading this page with nbviewer.org.</b></div><div class=\"sk-container\" hidden><div class=\"sk-item\"><div class=\"sk-estimator sk-toggleable\"><input class=\"sk-toggleable__control sk-hidden--visually\" id=\"sk-estimator-id-8\" type=\"checkbox\" checked><label for=\"sk-estimator-id-8\" class=\"sk-toggleable__label sk-toggleable__label-arrow\">RandomForestClassifier</label><div class=\"sk-toggleable__content\"><pre>RandomForestClassifier(n_estimators=40, random_state=1)</pre></div></div></div></div></div>"
            ]
          },
          "metadata": {},
          "execution_count": 39
        }
      ]
    },
    {
      "cell_type": "code",
      "source": [
        "# Predict the test set\n",
        "Y_pred = forest.predict(X_test_std)\n",
        "print('Misclassified examples: %d' % (Y_test != Y_pred).sum())\n",
        "\n",
        "# Calculate accuracy score\n",
        "acc_forest = round(accuracy_score(Y_test, Y_pred) * 100, 2)\n",
        "\n",
        "print(\"Accuracy score: \",acc_forest)"
      ],
      "metadata": {
        "colab": {
          "base_uri": "https://localhost:8080/"
        },
        "id": "8UtVOHoy8336",
        "outputId": "a83ff0b9-37ed-4a50-f0ee-e456d8e61989"
      },
      "execution_count": null,
      "outputs": [
        {
          "output_type": "stream",
          "name": "stdout",
          "text": [
            "Misclassified examples: 28\n",
            "Accuracy score:  84.36\n"
          ]
        }
      ]
    },
    {
      "cell_type": "markdown",
      "source": [
        "Checking important features according to random forest model"
      ],
      "metadata": {
        "id": "2omRdfxIBB9i"
      }
    },
    {
      "cell_type": "code",
      "source": [
        "importances = pd.DataFrame({'feature':X_train.columns,'importance':np.round(forest.feature_importances_,3)})\n",
        "importances = importances.sort_values('importance',ascending=False).set_index('feature')\n",
        "importances.head(15)"
      ],
      "metadata": {
        "colab": {
          "base_uri": "https://localhost:8080/",
          "height": 417
        },
        "id": "phlE5Axx-WJE",
        "outputId": "009e9743-3ea6-4e27-95b0-8dd3b0e401da"
      },
      "execution_count": null,
      "outputs": [
        {
          "output_type": "execute_result",
          "data": {
            "text/plain": [
              "            importance\n",
              "feature               \n",
              "Fare             0.258\n",
              "Age              0.250\n",
              "Sex_male         0.161\n",
              "Sex_female       0.137\n",
              "Pclass           0.081\n",
              "SibSp            0.048\n",
              "Parch            0.033\n",
              "Embarked_S       0.014\n",
              "Embarked_C       0.011\n",
              "Embarked_Q       0.008"
            ],
            "text/html": [
              "\n",
              "  <div id=\"df-76aacbbd-c823-460f-b85a-70a5d6add137\">\n",
              "    <div class=\"colab-df-container\">\n",
              "      <div>\n",
              "<style scoped>\n",
              "    .dataframe tbody tr th:only-of-type {\n",
              "        vertical-align: middle;\n",
              "    }\n",
              "\n",
              "    .dataframe tbody tr th {\n",
              "        vertical-align: top;\n",
              "    }\n",
              "\n",
              "    .dataframe thead th {\n",
              "        text-align: right;\n",
              "    }\n",
              "</style>\n",
              "<table border=\"1\" class=\"dataframe\">\n",
              "  <thead>\n",
              "    <tr style=\"text-align: right;\">\n",
              "      <th></th>\n",
              "      <th>importance</th>\n",
              "    </tr>\n",
              "    <tr>\n",
              "      <th>feature</th>\n",
              "      <th></th>\n",
              "    </tr>\n",
              "  </thead>\n",
              "  <tbody>\n",
              "    <tr>\n",
              "      <th>Fare</th>\n",
              "      <td>0.258</td>\n",
              "    </tr>\n",
              "    <tr>\n",
              "      <th>Age</th>\n",
              "      <td>0.250</td>\n",
              "    </tr>\n",
              "    <tr>\n",
              "      <th>Sex_male</th>\n",
              "      <td>0.161</td>\n",
              "    </tr>\n",
              "    <tr>\n",
              "      <th>Sex_female</th>\n",
              "      <td>0.137</td>\n",
              "    </tr>\n",
              "    <tr>\n",
              "      <th>Pclass</th>\n",
              "      <td>0.081</td>\n",
              "    </tr>\n",
              "    <tr>\n",
              "      <th>SibSp</th>\n",
              "      <td>0.048</td>\n",
              "    </tr>\n",
              "    <tr>\n",
              "      <th>Parch</th>\n",
              "      <td>0.033</td>\n",
              "    </tr>\n",
              "    <tr>\n",
              "      <th>Embarked_S</th>\n",
              "      <td>0.014</td>\n",
              "    </tr>\n",
              "    <tr>\n",
              "      <th>Embarked_C</th>\n",
              "      <td>0.011</td>\n",
              "    </tr>\n",
              "    <tr>\n",
              "      <th>Embarked_Q</th>\n",
              "      <td>0.008</td>\n",
              "    </tr>\n",
              "  </tbody>\n",
              "</table>\n",
              "</div>\n",
              "      <button class=\"colab-df-convert\" onclick=\"convertToInteractive('df-76aacbbd-c823-460f-b85a-70a5d6add137')\"\n",
              "              title=\"Convert this dataframe to an interactive table.\"\n",
              "              style=\"display:none;\">\n",
              "        \n",
              "  <svg xmlns=\"http://www.w3.org/2000/svg\" height=\"24px\"viewBox=\"0 0 24 24\"\n",
              "       width=\"24px\">\n",
              "    <path d=\"M0 0h24v24H0V0z\" fill=\"none\"/>\n",
              "    <path d=\"M18.56 5.44l.94 2.06.94-2.06 2.06-.94-2.06-.94-.94-2.06-.94 2.06-2.06.94zm-11 1L8.5 8.5l.94-2.06 2.06-.94-2.06-.94L8.5 2.5l-.94 2.06-2.06.94zm10 10l.94 2.06.94-2.06 2.06-.94-2.06-.94-.94-2.06-.94 2.06-2.06.94z\"/><path d=\"M17.41 7.96l-1.37-1.37c-.4-.4-.92-.59-1.43-.59-.52 0-1.04.2-1.43.59L10.3 9.45l-7.72 7.72c-.78.78-.78 2.05 0 2.83L4 21.41c.39.39.9.59 1.41.59.51 0 1.02-.2 1.41-.59l7.78-7.78 2.81-2.81c.8-.78.8-2.07 0-2.86zM5.41 20L4 18.59l7.72-7.72 1.47 1.35L5.41 20z\"/>\n",
              "  </svg>\n",
              "      </button>\n",
              "      \n",
              "  <style>\n",
              "    .colab-df-container {\n",
              "      display:flex;\n",
              "      flex-wrap:wrap;\n",
              "      gap: 12px;\n",
              "    }\n",
              "\n",
              "    .colab-df-convert {\n",
              "      background-color: #E8F0FE;\n",
              "      border: none;\n",
              "      border-radius: 50%;\n",
              "      cursor: pointer;\n",
              "      display: none;\n",
              "      fill: #1967D2;\n",
              "      height: 32px;\n",
              "      padding: 0 0 0 0;\n",
              "      width: 32px;\n",
              "    }\n",
              "\n",
              "    .colab-df-convert:hover {\n",
              "      background-color: #E2EBFA;\n",
              "      box-shadow: 0px 1px 2px rgba(60, 64, 67, 0.3), 0px 1px 3px 1px rgba(60, 64, 67, 0.15);\n",
              "      fill: #174EA6;\n",
              "    }\n",
              "\n",
              "    [theme=dark] .colab-df-convert {\n",
              "      background-color: #3B4455;\n",
              "      fill: #D2E3FC;\n",
              "    }\n",
              "\n",
              "    [theme=dark] .colab-df-convert:hover {\n",
              "      background-color: #434B5C;\n",
              "      box-shadow: 0px 1px 3px 1px rgba(0, 0, 0, 0.15);\n",
              "      filter: drop-shadow(0px 1px 2px rgba(0, 0, 0, 0.3));\n",
              "      fill: #FFFFFF;\n",
              "    }\n",
              "  </style>\n",
              "\n",
              "      <script>\n",
              "        const buttonEl =\n",
              "          document.querySelector('#df-76aacbbd-c823-460f-b85a-70a5d6add137 button.colab-df-convert');\n",
              "        buttonEl.style.display =\n",
              "          google.colab.kernel.accessAllowed ? 'block' : 'none';\n",
              "\n",
              "        async function convertToInteractive(key) {\n",
              "          const element = document.querySelector('#df-76aacbbd-c823-460f-b85a-70a5d6add137');\n",
              "          const dataTable =\n",
              "            await google.colab.kernel.invokeFunction('convertToInteractive',\n",
              "                                                     [key], {});\n",
              "          if (!dataTable) return;\n",
              "\n",
              "          const docLinkHtml = 'Like what you see? Visit the ' +\n",
              "            '<a target=\"_blank\" href=https://colab.research.google.com/notebooks/data_table.ipynb>data table notebook</a>'\n",
              "            + ' to learn more about interactive tables.';\n",
              "          element.innerHTML = '';\n",
              "          dataTable['output_type'] = 'display_data';\n",
              "          await google.colab.output.renderOutput(dataTable, element);\n",
              "          const docLink = document.createElement('div');\n",
              "          docLink.innerHTML = docLinkHtml;\n",
              "          element.appendChild(docLink);\n",
              "        }\n",
              "      </script>\n",
              "    </div>\n",
              "  </div>\n",
              "  "
            ]
          },
          "metadata": {},
          "execution_count": 41
        }
      ]
    },
    {
      "cell_type": "code",
      "source": [
        "plt.title('Feature Importance')\n",
        "plt.bar(importances.importance.index, importances.importance.values)\n",
        "plt.xticks(rotation=90)\n",
        "plt.show()"
      ],
      "metadata": {
        "colab": {
          "base_uri": "https://localhost:8080/",
          "height": 548
        },
        "id": "ubI81113ABi_",
        "outputId": "b3e7dc1a-ca7d-4dc9-e5fa-3e07ef895a72"
      },
      "execution_count": null,
      "outputs": [
        {
          "output_type": "display_data",
          "data": {
            "text/plain": [
              "<Figure size 640x480 with 1 Axes>"
            ],
            "image/png": "[encoded data removed]"
          },
          "metadata": {}
        }
      ]
    },
    {
      "cell_type": "markdown",
      "source": [
        "# Comparison of model performance"
      ],
      "metadata": {
        "id": "kuRjPIK-M9MN"
      }
    },
    {
      "cell_type": "code",
      "source": [
        "results = pd.DataFrame({\n",
        "    'Model': ['Perceptron', 'Perceptron with regularization',\n",
        "              'Logistic Regression', 'Logistic Regression with regularization',\n",
        "              'SVM linear kernel', 'SVM rbf kernel', 'SVM poly kernel',\n",
        "              'Decision Tree',\n",
        "              'Random Forest'],\n",
        "    'Score': [acc_perceptron, acc_perceptron_regular,\n",
        "              acc_logistic, acc_logistic_regular,\n",
        "              acc_svm_linear, acc_svm_rbf, acc_svm_poly,\n",
        "              acc_dec_tree, acc_forest]})\n",
        "result_df = results.sort_values(by='Score', ascending=False)\n",
        "result_df = result_df.set_index('Score')\n",
        "result_df.head(9)"
      ],
      "metadata": {
        "colab": {
          "base_uri": "https://localhost:8080/",
          "height": 386
        },
        "id": "sLmNW4m6NLlI",
        "outputId": "c7e2b44e-de6f-45e1-e09e-619913a72923"
      },
      "execution_count": null,
      "outputs": [
        {
          "output_type": "execute_result",
          "data": {
            "text/plain": [
              "                                         Model\n",
              "Score                                         \n",
              "84.36                            Random Forest\n",
              "83.80                           SVM rbf kernel\n",
              "81.56                          SVM poly kernel\n",
              "79.89                      Logistic Regression\n",
              "79.89  Logistic Regression with regularization\n",
              "79.89                            Decision Tree\n",
              "77.65                        SVM linear kernel\n",
              "75.98           Perceptron with regularization\n",
              "75.42                               Perceptron"
            ],
            "text/html": [
              "\n",
              "  <div id=\"df-fbc8acfe-a5d2-4d27-aa4a-72adef1e3be0\">\n",
              "    <div class=\"colab-df-container\">\n",
              "      <div>\n",
              "<style scoped>\n",
              "    .dataframe tbody tr th:only-of-type {\n",
              "        vertical-align: middle;\n",
              "    }\n",
              "\n",
              "    .dataframe tbody tr th {\n",
              "        vertical-align: top;\n",
              "    }\n",
              "\n",
              "    .dataframe thead th {\n",
              "        text-align: right;\n",
              "    }\n",
              "</style>\n",
              "<table border=\"1\" class=\"dataframe\">\n",
              "  <thead>\n",
              "    <tr style=\"text-align: right;\">\n",
              "      <th></th>\n",
              "      <th>Model</th>\n",
              "    </tr>\n",
              "    <tr>\n",
              "      <th>Score</th>\n",
              "      <th></th>\n",
              "    </tr>\n",
              "  </thead>\n",
              "  <tbody>\n",
              "    <tr>\n",
              "      <th>84.36</th>\n",
              "      <td>Random Forest</td>\n",
              "    </tr>\n",
              "    <tr>\n",
              "      <th>83.80</th>\n",
              "      <td>SVM rbf kernel</td>\n",
              "    </tr>\n",
              "    <tr>\n",
              "      <th>81.56</th>\n",
              "      <td>SVM poly kernel</td>\n",
              "    </tr>\n",
              "    <tr>\n",
              "      <th>79.89</th>\n",
              "      <td>Logistic Regression</td>\n",
              "    </tr>\n",
              "    <tr>\n",
              "      <th>79.89</th>\n",
              "      <td>Logistic Regression with regularization</td>\n",
              "    </tr>\n",
              "    <tr>\n",
              "      <th>79.89</th>\n",
              "      <td>Decision Tree</td>\n",
              "    </tr>\n",
              "    <tr>\n",
              "      <th>77.65</th>\n",
              "      <td>SVM linear kernel</td>\n",
              "    </tr>\n",
              "    <tr>\n",
              "      <th>75.98</th>\n",
              "      <td>Perceptron with regularization</td>\n",
              "    </tr>\n",
              "    <tr>\n",
              "      <th>75.42</th>\n",
              "      <td>Perceptron</td>\n",
              "    </tr>\n",
              "  </tbody>\n",
              "</table>\n",
              "</div>\n",
              "      <button class=\"colab-df-convert\" onclick=\"convertToInteractive('df-fbc8acfe-a5d2-4d27-aa4a-72adef1e3be0')\"\n",
              "              title=\"Convert this dataframe to an interactive table.\"\n",
              "              style=\"display:none;\">\n",
              "        \n",
              "  <svg xmlns=\"http://www.w3.org/2000/svg\" height=\"24px\"viewBox=\"0 0 24 24\"\n",
              "       width=\"24px\">\n",
              "    <path d=\"M0 0h24v24H0V0z\" fill=\"none\"/>\n",
              "    <path d=\"M18.56 5.44l.94 2.06.94-2.06 2.06-.94-2.06-.94-.94-2.06-.94 2.06-2.06.94zm-11 1L8.5 8.5l.94-2.06 2.06-.94-2.06-.94L8.5 2.5l-.94 2.06-2.06.94zm10 10l.94 2.06.94-2.06 2.06-.94-2.06-.94-.94-2.06-.94 2.06-2.06.94z\"/><path d=\"M17.41 7.96l-1.37-1.37c-.4-.4-.92-.59-1.43-.59-.52 0-1.04.2-1.43.59L10.3 9.45l-7.72 7.72c-.78.78-.78 2.05 0 2.83L4 21.41c.39.39.9.59 1.41.59.51 0 1.02-.2 1.41-.59l7.78-7.78 2.81-2.81c.8-.78.8-2.07 0-2.86zM5.41 20L4 18.59l7.72-7.72 1.47 1.35L5.41 20z\"/>\n",
              "  </svg>\n",
              "      </button>\n",
              "      \n",
              "  <style>\n",
              "    .colab-df-container {\n",
              "      display:flex;\n",
              "      flex-wrap:wrap;\n",
              "      gap: 12px;\n",
              "    }\n",
              "\n",
              "    .colab-df-convert {\n",
              "      background-color: #E8F0FE;\n",
              "      border: none;\n",
              "      border-radius: 50%;\n",
              "      cursor: pointer;\n",
              "      display: none;\n",
              "      fill: #1967D2;\n",
              "      height: 32px;\n",
              "      padding: 0 0 0 0;\n",
              "      width: 32px;\n",
              "    }\n",
              "\n",
              "    .colab-df-convert:hover {\n",
              "      background-color: #E2EBFA;\n",
              "      box-shadow: 0px 1px 2px rgba(60, 64, 67, 0.3), 0px 1px 3px 1px rgba(60, 64, 67, 0.15);\n",
              "      fill: #174EA6;\n",
              "    }\n",
              "\n",
              "    [theme=dark] .colab-df-convert {\n",
              "      background-color: #3B4455;\n",
              "      fill: #D2E3FC;\n",
              "    }\n",
              "\n",
              "    [theme=dark] .colab-df-convert:hover {\n",
              "      background-color: #434B5C;\n",
              "      box-shadow: 0px 1px 3px 1px rgba(0, 0, 0, 0.15);\n",
              "      filter: drop-shadow(0px 1px 2px rgba(0, 0, 0, 0.3));\n",
              "      fill: #FFFFFF;\n",
              "    }\n",
              "  </style>\n",
              "\n",
              "      <script>\n",
              "        const buttonEl =\n",
              "          document.querySelector('#df-fbc8acfe-a5d2-4d27-aa4a-72adef1e3be0 button.colab-df-convert');\n",
              "        buttonEl.style.display =\n",
              "          google.colab.kernel.accessAllowed ? 'block' : 'none';\n",
              "\n",
              "        async function convertToInteractive(key) {\n",
              "          const element = document.querySelector('#df-fbc8acfe-a5d2-4d27-aa4a-72adef1e3be0');\n",
              "          const dataTable =\n",
              "            await google.colab.kernel.invokeFunction('convertToInteractive',\n",
              "                                                     [key], {});\n",
              "          if (!dataTable) return;\n",
              "\n",
              "          const docLinkHtml = 'Like what you see? Visit the ' +\n",
              "            '<a target=\"_blank\" href=https://colab.research.google.com/notebooks/data_table.ipynb>data table notebook</a>'\n",
              "            + ' to learn more about interactive tables.';\n",
              "          element.innerHTML = '';\n",
              "          dataTable['output_type'] = 'display_data';\n",
              "          await google.colab.output.renderOutput(dataTable, element);\n",
              "          const docLink = document.createElement('div');\n",
              "          docLink.innerHTML = docLinkHtml;\n",
              "          element.appendChild(docLink);\n",
              "        }\n",
              "      </script>\n",
              "    </div>\n",
              "  </div>\n",
              "  "
            ]
          },
          "metadata": {},
          "execution_count": 72
        }
      ]
    },
    {
      "cell_type": "markdown",
      "source": [
        "In conclusion, random forest model got the highest accuracy score 84.36% for predicting titanic survival. But as parameter tuning is not much done while training, we can still imporve the accuracy with the help of tuning other parameter values which are not used here."
      ],
      "metadata": {
        "id": "hMNlQiqosdN-"
      }
    }
  ],
  "metadata": {
    "colab": {
      "provenance": [],
      "collapsed_sections": [
        "T72k6xMslCXS"
      ]
    },
    "kernelspec": {
      "display_name": "Python 3",
      "name": "python3"
    },
    "language_info": {
      "name": "python"
    }
  },
  "nbformat": 4,
  "nbformat_minor": 0
}